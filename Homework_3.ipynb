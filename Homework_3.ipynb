{
 "cells": [
  {
   "cell_type": "markdown",
   "metadata": {},
   "source": [
    "# Step 1: Data"
   ]
  },
  {
   "cell_type": "markdown",
   "metadata": {},
   "source": [
    "### Import libraries"
   ]
  },
  {
   "cell_type": "code",
   "execution_count": 125,
   "metadata": {},
   "outputs": [],
   "source": [
    "import pandas as pd\n",
    "import matplotlib.pyplot as plt\n",
    "import datetime \n",
    "import numpy as np\n",
    "import os\n",
    "import nltk\n",
    "from nltk.tokenize import sent_tokenize, word_tokenize\n",
    "from nltk.corpus import stopwords\n",
    "from nltk.tokenize import RegexpTokenizer\n",
    "from nltk.stem.porter import PorterStemmer\n",
    "import json\n",
    "import collections\n",
    "import itertools\n",
    "import math\n",
    "import heapq\n",
    "#nltk.download('punkt')\n",
    "#nltk.download('stopwords')\n",
    "import library #library of functions\n",
    "\n",
    "# To reaload library import\n",
    "from importlib import reload\n",
    "reload(library)\n",
    "\n",
    "# To print results\n",
    "BOLD = '\\033[1m'\n",
    "END = '\\033[0m'"
   ]
  },
  {
   "cell_type": "markdown",
   "metadata": {},
   "source": [
    "We only need some columns values of the Airbnb_Texas_Rentals.csv so we filter the result by:"
   ]
  },
  {
   "cell_type": "code",
   "execution_count": 2,
   "metadata": {},
   "outputs": [],
   "source": [
    "# List of column values needed\n",
    "cols = ['average_rate_per_night', 'bedrooms_count', 'city', 'date_of_listing', 'description', 'latitude', 'longitude', 'title', 'url']\n",
    "# Read the csv file\n",
    "airbnbrentals = pd.read_csv('Airbnb_Texas_Rentals.csv', sep=',', encoding='utf-8', usecols=cols)"
   ]
  },
  {
   "cell_type": "code",
   "execution_count": 3,
   "metadata": {},
   "outputs": [
    {
     "data": {
      "text/html": [
       "<div>\n",
       "<style scoped>\n",
       "    .dataframe tbody tr th:only-of-type {\n",
       "        vertical-align: middle;\n",
       "    }\n",
       "\n",
       "    .dataframe tbody tr th {\n",
       "        vertical-align: top;\n",
       "    }\n",
       "\n",
       "    .dataframe thead th {\n",
       "        text-align: right;\n",
       "    }\n",
       "</style>\n",
       "<table border=\"1\" class=\"dataframe\">\n",
       "  <thead>\n",
       "    <tr style=\"text-align: right;\">\n",
       "      <th></th>\n",
       "      <th>average_rate_per_night</th>\n",
       "      <th>bedrooms_count</th>\n",
       "      <th>city</th>\n",
       "      <th>date_of_listing</th>\n",
       "      <th>description</th>\n",
       "      <th>latitude</th>\n",
       "      <th>longitude</th>\n",
       "      <th>title</th>\n",
       "      <th>url</th>\n",
       "    </tr>\n",
       "  </thead>\n",
       "  <tbody>\n",
       "    <tr>\n",
       "      <th>0</th>\n",
       "      <td>$27</td>\n",
       "      <td>2</td>\n",
       "      <td>Humble</td>\n",
       "      <td>May 2016</td>\n",
       "      <td>Welcome to stay in private room with queen bed...</td>\n",
       "      <td>30.020138</td>\n",
       "      <td>-95.293996</td>\n",
       "      <td>2 Private rooms/bathroom 10min from IAH airport</td>\n",
       "      <td>https://www.airbnb.com/rooms/18520444?location...</td>\n",
       "    </tr>\n",
       "    <tr>\n",
       "      <th>1</th>\n",
       "      <td>$149</td>\n",
       "      <td>4</td>\n",
       "      <td>San Antonio</td>\n",
       "      <td>November 2010</td>\n",
       "      <td>Stylish, fully remodeled home in upscale NW – ...</td>\n",
       "      <td>29.503068</td>\n",
       "      <td>-98.447688</td>\n",
       "      <td>Unique Location! Alamo Heights - Designer Insp...</td>\n",
       "      <td>https://www.airbnb.com/rooms/17481455?location...</td>\n",
       "    </tr>\n",
       "    <tr>\n",
       "      <th>2</th>\n",
       "      <td>$59</td>\n",
       "      <td>1</td>\n",
       "      <td>Houston</td>\n",
       "      <td>January 2017</td>\n",
       "      <td>'River house on island close to the city' \\nA ...</td>\n",
       "      <td>29.829352</td>\n",
       "      <td>-95.081549</td>\n",
       "      <td>River house near the city</td>\n",
       "      <td>https://www.airbnb.com/rooms/16926307?location...</td>\n",
       "    </tr>\n",
       "  </tbody>\n",
       "</table>\n",
       "</div>"
      ],
      "text/plain": [
       "  average_rate_per_night bedrooms_count         city date_of_listing  \\\n",
       "0                    $27              2       Humble        May 2016   \n",
       "1                   $149              4  San Antonio   November 2010   \n",
       "2                    $59              1      Houston    January 2017   \n",
       "\n",
       "                                         description   latitude  longitude  \\\n",
       "0  Welcome to stay in private room with queen bed...  30.020138 -95.293996   \n",
       "1  Stylish, fully remodeled home in upscale NW – ...  29.503068 -98.447688   \n",
       "2  'River house on island close to the city' \\nA ...  29.829352 -95.081549   \n",
       "\n",
       "                                               title  \\\n",
       "0    2 Private rooms/bathroom 10min from IAH airport   \n",
       "1  Unique Location! Alamo Heights - Designer Insp...   \n",
       "2                          River house near the city   \n",
       "\n",
       "                                                 url  \n",
       "0  https://www.airbnb.com/rooms/18520444?location...  \n",
       "1  https://www.airbnb.com/rooms/17481455?location...  \n",
       "2  https://www.airbnb.com/rooms/16926307?location...  "
      ]
     },
     "execution_count": 3,
     "metadata": {},
     "output_type": "execute_result"
    }
   ],
   "source": [
    "# Printed example of 3 rows\n",
    "airbnbrentals.loc[0:2,]"
   ]
  },
  {
   "cell_type": "markdown",
   "metadata": {},
   "source": [
    "# Step 2: Create documents"
   ]
  },
  {
   "cell_type": "markdown",
   "metadata": {},
   "source": [
    "In this step we are creating i tsv files to save all the information. "
   ]
  },
  {
   "cell_type": "code",
   "execution_count": 4,
   "metadata": {},
   "outputs": [],
   "source": [
    "# Create directory to save the documents if doesn't exist\n",
    "directory = \"documents\"\n",
    "if not os.path.exists(directory):\n",
    "    os.makedirs(directory)\n",
    "\n",
    "# Create all tsv files, each per row\n",
    "nRowsOrFiles = airbnbrentals.shape[0] #this variable is the number of rows or files\n",
    "for i in range(0, nRowsOrFiles): \n",
    "    #Write the tsv file\n",
    "    airbnbrentals.loc[i:i,].to_csv('documents/doc_'+str(i)+'.tsv', sep='\\t', encoding='utf-8', index = False)"
   ]
  },
  {
   "cell_type": "code",
   "execution_count": 5,
   "metadata": {
    "scrolled": true
   },
   "outputs": [
    {
     "data": {
      "text/html": [
       "<div>\n",
       "<style scoped>\n",
       "    .dataframe tbody tr th:only-of-type {\n",
       "        vertical-align: middle;\n",
       "    }\n",
       "\n",
       "    .dataframe tbody tr th {\n",
       "        vertical-align: top;\n",
       "    }\n",
       "\n",
       "    .dataframe thead th {\n",
       "        text-align: right;\n",
       "    }\n",
       "</style>\n",
       "<table border=\"1\" class=\"dataframe\">\n",
       "  <thead>\n",
       "    <tr style=\"text-align: right;\">\n",
       "      <th></th>\n",
       "      <th>average_rate_per_night</th>\n",
       "      <th>bedrooms_count</th>\n",
       "      <th>city</th>\n",
       "      <th>date_of_listing</th>\n",
       "      <th>description</th>\n",
       "      <th>latitude</th>\n",
       "      <th>longitude</th>\n",
       "      <th>title</th>\n",
       "      <th>url</th>\n",
       "    </tr>\n",
       "  </thead>\n",
       "  <tbody>\n",
       "    <tr>\n",
       "      <th>0</th>\n",
       "      <td>$59</td>\n",
       "      <td>1</td>\n",
       "      <td>Houston</td>\n",
       "      <td>January 2017</td>\n",
       "      <td>'River house on island close to the city' \\nA ...</td>\n",
       "      <td>29.829352</td>\n",
       "      <td>-95.081549</td>\n",
       "      <td>River house near the city</td>\n",
       "      <td>https://www.airbnb.com/rooms/16926307?location...</td>\n",
       "    </tr>\n",
       "  </tbody>\n",
       "</table>\n",
       "</div>"
      ],
      "text/plain": [
       "  average_rate_per_night  bedrooms_count     city date_of_listing  \\\n",
       "0                    $59               1  Houston    January 2017   \n",
       "\n",
       "                                         description   latitude  longitude  \\\n",
       "0  'River house on island close to the city' \\nA ...  29.829352 -95.081549   \n",
       "\n",
       "                       title  \\\n",
       "0  River house near the city   \n",
       "\n",
       "                                                 url  \n",
       "0  https://www.airbnb.com/rooms/16926307?location...  "
      ]
     },
     "execution_count": 5,
     "metadata": {},
     "output_type": "execute_result"
    }
   ],
   "source": [
    "# Read one tsv file to see result\n",
    "pd.read_csv('documents/doc_2.tsv', sep='\\t', encoding='utf-8')"
   ]
  },
  {
   "cell_type": "markdown",
   "metadata": {},
   "source": [
    "# Step 3: Search Engine"
   ]
  },
  {
   "cell_type": "markdown",
   "metadata": {},
   "source": [
    "As a first common step, we have to preprocess the documents by:\n",
    "\n",
    "- Removing stopwords\n",
    "- Removing punctuation\n",
    "- Stemming\n",
    "- Anything else you think it's needed"
   ]
  },
  {
   "cell_type": "code",
   "execution_count": 6,
   "metadata": {},
   "outputs": [],
   "source": [
    "# Create directory to save the documents if doesn't exist\n",
    "directory = \"documentsCleaned\"\n",
    "if not os.path.exists(directory):\n",
    "    os.makedirs(directory)\n",
    "# This function takes all documents and removes punctuation, stop words and do stemming\n",
    "library.modifyDocs(nRowsOrFiles)"
   ]
  },
  {
   "cell_type": "markdown",
   "metadata": {},
   "source": [
    "Test if it works reading one document:"
   ]
  },
  {
   "cell_type": "code",
   "execution_count": 7,
   "metadata": {},
   "outputs": [
    {
     "data": {
      "text/html": [
       "<div>\n",
       "<style scoped>\n",
       "    .dataframe tbody tr th:only-of-type {\n",
       "        vertical-align: middle;\n",
       "    }\n",
       "\n",
       "    .dataframe tbody tr th {\n",
       "        vertical-align: top;\n",
       "    }\n",
       "\n",
       "    .dataframe thead th {\n",
       "        text-align: right;\n",
       "    }\n",
       "</style>\n",
       "<table border=\"1\" class=\"dataframe\">\n",
       "  <thead>\n",
       "    <tr style=\"text-align: right;\">\n",
       "      <th></th>\n",
       "      <th>average_rate_per_night</th>\n",
       "      <th>bedrooms_count</th>\n",
       "      <th>city</th>\n",
       "      <th>date_of_listing</th>\n",
       "      <th>description</th>\n",
       "      <th>latitude</th>\n",
       "      <th>longitude</th>\n",
       "      <th>title</th>\n",
       "      <th>url</th>\n",
       "    </tr>\n",
       "  </thead>\n",
       "  <tbody>\n",
       "    <tr>\n",
       "      <th>0</th>\n",
       "      <td>$59</td>\n",
       "      <td>1</td>\n",
       "      <td>Houston</td>\n",
       "      <td>January 2017</td>\n",
       "      <td>river hous island close citi nA well maintain ...</td>\n",
       "      <td>29.829352</td>\n",
       "      <td>-95.081549</td>\n",
       "      <td>river hous near citi</td>\n",
       "      <td>https://www.airbnb.com/rooms/16926307?location...</td>\n",
       "    </tr>\n",
       "  </tbody>\n",
       "</table>\n",
       "</div>"
      ],
      "text/plain": [
       "  average_rate_per_night  bedrooms_count     city date_of_listing  \\\n",
       "0                    $59               1  Houston    January 2017   \n",
       "\n",
       "                                         description   latitude  longitude  \\\n",
       "0  river hous island close citi nA well maintain ...  29.829352 -95.081549   \n",
       "\n",
       "                  title                                                url  \n",
       "0  river hous near citi  https://www.airbnb.com/rooms/16926307?location...  "
      ]
     },
     "execution_count": 7,
     "metadata": {},
     "output_type": "execute_result"
    }
   ],
   "source": [
    "#Example of a tsv document cleaned\n",
    "pd.read_csv('documentsCleaned/doc_2.tsv', sep='\\t', encoding='utf-8')"
   ]
  },
  {
   "cell_type": "markdown",
   "metadata": {},
   "source": [
    "## 3.1) Conjunctive query"
   ]
  },
  {
   "cell_type": "markdown",
   "metadata": {},
   "source": [
    "At this moment, we are taking into account the description and title of each document. It means that the first Search Engine will evaluate queries with respect to the aforementioned information."
   ]
  },
  {
   "cell_type": "markdown",
   "metadata": {},
   "source": [
    "### 3.1.1) Create your index!"
   ]
  },
  {
   "cell_type": "markdown",
   "metadata": {},
   "source": [
    "Create a inverted index of this format:\n",
    "\n",
    "{\n",
    "term_id_1:[document_1, document_2, document_4],\n",
    "term_id_2:[document_1, document_3, document_5, document_6],\n",
    "...}\n",
    "\n",
    "Here we start creating a dic --> invertedIndex to store all the values.\n",
    "Then we loop trough all documents adding docs to the inverted index using invertedIndexAdd function"
   ]
  },
  {
   "cell_type": "code",
   "execution_count": 8,
   "metadata": {},
   "outputs": [],
   "source": [
    "# Start inverted index\n",
    "invertedIndex = {}\n",
    "\n",
    "# Loop all documents and make the inverted index\n",
    "for i in range(0, nRowsOrFiles): \n",
    "    doc = pd.read_csv('documentsCleaned/doc_'+str(i)+'.tsv', sep='\\t', encoding='utf-8')\n",
    "    invertedIndex = library.invertedIndexAdd(invertedIndex, 'doc_'+str(i), doc, 'description')\n",
    "    invertedIndex = library.invertedIndexAdd(invertedIndex, 'doc_'+str(i), doc, 'title')"
   ]
  },
  {
   "cell_type": "markdown",
   "metadata": {},
   "source": [
    "Let's see the inverted index created:"
   ]
  },
  {
   "cell_type": "code",
   "execution_count": 58,
   "metadata": {},
   "outputs": [
    {
     "name": "stdout",
     "output_type": "stream",
     "text": [
      "\u001b[1mgarden\u001b[0m => doc_1 doc_3 doc_63 doc_77 doc_111 doc_120 doc_127 doc_184 doc_184 doc_217 doc_217 doc_220 doc_300 doc_300 doc_314 doc_371 doc_396 doc_456 doc_496 doc_496\n",
      "\n",
      "\u001b[1mexpensive\u001b[0m => doc_3795 doc_3862 doc_3960 doc_4443 doc_4588 doc_6960 doc_7314 doc_7829 doc_8664 doc_8809 doc_10897 doc_12725 doc_12811 doc_13508 doc_13546 doc_15986 doc_16850 doc_17089 doc_17238\n",
      "\n",
      "\u001b[1mbeautiful\u001b[0m => doc_1 doc_7 doc_11 doc_13 doc_14 doc_21 doc_30 doc_34 doc_35 doc_51 doc_65 doc_68 doc_76 doc_98 doc_107 doc_108 doc_109 doc_117 doc_136 doc_138\n"
     ]
    }
   ],
   "source": [
    "# Print some(20) key and values of the inverted index of each word\n",
    "print(BOLD + 'garden' + END, \"=>\", *invertedIndex[library.cleanString('garden')][0:20])\n",
    "print(\"\")\n",
    "print(BOLD + 'expensive' + END, \"=>\", *invertedIndex[library.cleanString('expensive')][0:20])\n",
    "print(\"\")\n",
    "print(BOLD + 'beautiful' + END, \"=>\", *invertedIndex[library.cleanString('beautiful')][0:20])"
   ]
  },
  {
   "cell_type": "markdown",
   "metadata": {},
   "source": [
    "Writting invertedIndex into inverted_index.txt"
   ]
  },
  {
   "cell_type": "code",
   "execution_count": 10,
   "metadata": {},
   "outputs": [],
   "source": [
    "# Write invertedIndex to a txt file\n",
    "json.dump(invertedIndex, open(\"inverted_index.txt\",'w'))"
   ]
  },
  {
   "cell_type": "markdown",
   "metadata": {},
   "source": [
    "Reading inverted_index.txt as dictionary"
   ]
  },
  {
   "cell_type": "code",
   "execution_count": 11,
   "metadata": {},
   "outputs": [],
   "source": [
    "# Load invertedIndex from a txt file\n",
    "invertedIndex = json.load(open(\"inverted_index.txt\"))"
   ]
  },
  {
   "cell_type": "markdown",
   "metadata": {},
   "source": [
    "### 3.1.2) Execute the query"
   ]
  },
  {
   "cell_type": "markdown",
   "metadata": {},
   "source": [
    "Given a query: *a beautiful house with garden and bedroom* //with beach no found"
   ]
  },
  {
   "cell_type": "code",
   "execution_count": 24,
   "metadata": {},
   "outputs": [],
   "source": [
    "query = 'a beautiful house with garden and bedroom'"
   ]
  },
  {
   "cell_type": "markdown",
   "metadata": {},
   "source": [
    "We search the documents that contain the query through our invertedIndex"
   ]
  },
  {
   "cell_type": "code",
   "execution_count": 25,
   "metadata": {},
   "outputs": [
    {
     "name": "stdout",
     "output_type": "stream",
     "text": [
      "\u001b[1mQuery intruduced: \u001b[0ma beautiful house with garden and bedroom\n",
      "\u001b[1mCleaned query: \u001b[0mbeauti hous garden bedroom\n"
     ]
    }
   ],
   "source": [
    "# Compute the search with the query and obtain a dictionary with the number of matches\n",
    "searchedResults = library.searchQueryConjunctive(invertedIndex, query)"
   ]
  },
  {
   "cell_type": "markdown",
   "metadata": {},
   "source": [
    "We short the documents by frecuency of appearance to see if there are conjunctive results"
   ]
  },
  {
   "cell_type": "code",
   "execution_count": 55,
   "metadata": {},
   "outputs": [
    {
     "name": "stdout",
     "output_type": "stream",
     "text": [
      "\u001b[1mSorted Documents and Matches:\u001b[0m ('doc_14254', 4) ('doc_6225', 4) ('doc_566', 4) ('doc_2823', 4) ('doc_5509', 4) ('doc_11331', 4) ('doc_15035', 4) ('doc_11603', 4) ('doc_1', 4) ('doc_14552', 4) ('doc_6447', 4) ('doc_10767', 3)\n",
      "\u001b[1mNumber of cleaned words:\u001b[0m 4\n"
     ]
    }
   ],
   "source": [
    "# Sort the results\n",
    "sortedResults = sorted(searchedResults.items(), key=lambda kv: -kv[1])\n",
    "# Print 12 sorted results\n",
    "print(BOLD + 'Sorted Documents and Matches:' + END, *sortedResults[0:12])\n",
    "# Find how many cleaned words contain the query\n",
    "numberOfQueryWords = len( library.cleanString(query).split() )\n",
    "print(BOLD + 'Number of cleaned words:' + END, numberOfQueryWords)"
   ]
  },
  {
   "cell_type": "markdown",
   "metadata": {},
   "source": [
    "Look if the doc have the same coincidences as the number of query words to just show that results"
   ]
  },
  {
   "cell_type": "code",
   "execution_count": 448,
   "metadata": {},
   "outputs": [
    {
     "name": "stdout",
     "output_type": "stream",
     "text": [
      "\u001b[1mCONJUCTIVE RESULTS FOUND\u001b[0m\n"
     ]
    },
    {
     "data": {
      "text/html": [
       "<div>\n",
       "<style scoped>\n",
       "    .dataframe tbody tr th:only-of-type {\n",
       "        vertical-align: middle;\n",
       "    }\n",
       "\n",
       "    .dataframe tbody tr th {\n",
       "        vertical-align: top;\n",
       "    }\n",
       "\n",
       "    .dataframe thead th {\n",
       "        text-align: right;\n",
       "    }\n",
       "</style>\n",
       "<table border=\"1\" class=\"dataframe\">\n",
       "  <thead>\n",
       "    <tr style=\"text-align: right;\">\n",
       "      <th></th>\n",
       "      <th>title</th>\n",
       "      <th>description</th>\n",
       "      <th>city</th>\n",
       "      <th>url</th>\n",
       "    </tr>\n",
       "  </thead>\n",
       "  <tbody>\n",
       "    <tr>\n",
       "      <th>0</th>\n",
       "      <td>Garden Bedroom</td>\n",
       "      <td>Comfortable and private, the garden bedroom is...</td>\n",
       "      <td>Austin</td>\n",
       "      <td>https://www.airbnb.com/rooms/5096161?location=...</td>\n",
       "    </tr>\n",
       "    <tr>\n",
       "      <th>1</th>\n",
       "      <td>Home Away from Home in Spring, TX</td>\n",
       "      <td>Beautiful 2100 sq. ft house! Three bedroom and...</td>\n",
       "      <td>Spring</td>\n",
       "      <td>https://www.airbnb.com/rooms/1521227?location=...</td>\n",
       "    </tr>\n",
       "    <tr>\n",
       "      <th>2</th>\n",
       "      <td>Beautiful king bedroom in NW Austin</td>\n",
       "      <td>My house is close to Lakeline Mall, highways a...</td>\n",
       "      <td>Austin</td>\n",
       "      <td>https://www.airbnb.com/rooms/15162593?location...</td>\n",
       "    </tr>\n",
       "    <tr>\n",
       "      <th>3</th>\n",
       "      <td>Unique Location! Alamo Heights - Designer Insp...</td>\n",
       "      <td>Stylish, fully remodeled home in upscale NW – ...</td>\n",
       "      <td>San Antonio</td>\n",
       "      <td>https://www.airbnb.com/rooms/17481455?location...</td>\n",
       "    </tr>\n",
       "    <tr>\n",
       "      <th>4</th>\n",
       "      <td>Beautiful queen bedroom in NW Austin</td>\n",
       "      <td>My house is close to Lakeline Mall, highways a...</td>\n",
       "      <td>Austin</td>\n",
       "      <td>https://www.airbnb.com/rooms/16755710?location...</td>\n",
       "    </tr>\n",
       "    <tr>\n",
       "      <th>5</th>\n",
       "      <td>Rooms at Rehoboth</td>\n",
       "      <td>Step back into yesterday in this old Victorian...</td>\n",
       "      <td>Temple</td>\n",
       "      <td>https://www.airbnb.com/rooms/18055961?location...</td>\n",
       "    </tr>\n",
       "    <tr>\n",
       "      <th>6</th>\n",
       "      <td>Unique Location! Alamo Heights - Designer Insp...</td>\n",
       "      <td>Stylish, fully remodeled home in upscale NW – ...</td>\n",
       "      <td>San Antonio</td>\n",
       "      <td>https://www.airbnb.com/rooms/17481455?location...</td>\n",
       "    </tr>\n",
       "    <tr>\n",
       "      <th>7</th>\n",
       "      <td>Rooms at Rehoboth</td>\n",
       "      <td>Step back into yesterday in this old Victorian...</td>\n",
       "      <td>Temple</td>\n",
       "      <td>https://www.airbnb.com/rooms/18055961?location...</td>\n",
       "    </tr>\n",
       "    <tr>\n",
       "      <th>8</th>\n",
       "      <td>Unique Location! Alamo Heights - Designer Insp...</td>\n",
       "      <td>Stylish, fully remodeled home in upscale NW – ...</td>\n",
       "      <td>San Antonio</td>\n",
       "      <td>https://www.airbnb.com/rooms/17481455?location...</td>\n",
       "    </tr>\n",
       "    <tr>\n",
       "      <th>9</th>\n",
       "      <td>New!3BR Fort Worth House near AT&amp;T Stadium w/ ...</td>\n",
       "      <td>Explore the City of Cowboys and Culture from t...</td>\n",
       "      <td>Fort Worth</td>\n",
       "      <td>https://www.airbnb.com/rooms/19193017?location...</td>\n",
       "    </tr>\n",
       "    <tr>\n",
       "      <th>10</th>\n",
       "      <td>New!3BR Fort Worth House near AT&amp;T Stadium w/ ...</td>\n",
       "      <td>Explore the City of Cowboys and Culture from t...</td>\n",
       "      <td>Fort Worth</td>\n",
       "      <td>https://www.airbnb.com/rooms/19193017?location...</td>\n",
       "    </tr>\n",
       "  </tbody>\n",
       "</table>\n",
       "</div>"
      ],
      "text/plain": [
       "                                                title  \\\n",
       "0                                      Garden Bedroom   \n",
       "1                   Home Away from Home in Spring, TX   \n",
       "2                 Beautiful king bedroom in NW Austin   \n",
       "3   Unique Location! Alamo Heights - Designer Insp...   \n",
       "4                Beautiful queen bedroom in NW Austin   \n",
       "5                                   Rooms at Rehoboth   \n",
       "6   Unique Location! Alamo Heights - Designer Insp...   \n",
       "7                                   Rooms at Rehoboth   \n",
       "8   Unique Location! Alamo Heights - Designer Insp...   \n",
       "9   New!3BR Fort Worth House near AT&T Stadium w/ ...   \n",
       "10  New!3BR Fort Worth House near AT&T Stadium w/ ...   \n",
       "\n",
       "                                          description         city  \\\n",
       "0   Comfortable and private, the garden bedroom is...       Austin   \n",
       "1   Beautiful 2100 sq. ft house! Three bedroom and...       Spring   \n",
       "2   My house is close to Lakeline Mall, highways a...       Austin   \n",
       "3   Stylish, fully remodeled home in upscale NW – ...  San Antonio   \n",
       "4   My house is close to Lakeline Mall, highways a...       Austin   \n",
       "5   Step back into yesterday in this old Victorian...       Temple   \n",
       "6   Stylish, fully remodeled home in upscale NW – ...  San Antonio   \n",
       "7   Step back into yesterday in this old Victorian...       Temple   \n",
       "8   Stylish, fully remodeled home in upscale NW – ...  San Antonio   \n",
       "9   Explore the City of Cowboys and Culture from t...   Fort Worth   \n",
       "10  Explore the City of Cowboys and Culture from t...   Fort Worth   \n",
       "\n",
       "                                                  url  \n",
       "0   https://www.airbnb.com/rooms/5096161?location=...  \n",
       "1   https://www.airbnb.com/rooms/1521227?location=...  \n",
       "2   https://www.airbnb.com/rooms/15162593?location...  \n",
       "3   https://www.airbnb.com/rooms/17481455?location...  \n",
       "4   https://www.airbnb.com/rooms/16755710?location...  \n",
       "5   https://www.airbnb.com/rooms/18055961?location...  \n",
       "6   https://www.airbnb.com/rooms/17481455?location...  \n",
       "7   https://www.airbnb.com/rooms/18055961?location...  \n",
       "8   https://www.airbnb.com/rooms/17481455?location...  \n",
       "9   https://www.airbnb.com/rooms/19193017?location...  \n",
       "10  https://www.airbnb.com/rooms/19193017?location...  "
      ]
     },
     "metadata": {},
     "output_type": "display_data"
    }
   ],
   "source": [
    "# Compute a list of conjunctive matches containing each tsv file\n",
    "listMatches = library.listOfConjunctiveMatches(searchedResults, numberOfQueryWords)\n",
    "        \n",
    "# If dfs_match is not empty, process the results, if not print no results\n",
    "if(len(listMatches) != 0):\n",
    "    print(BOLD + \"CONJUCTIVE RESULTS FOUND\" + END)\n",
    "    # Concatenate all data into one DataFrame\n",
    "    big_frame = pd.concat(listMatches, ignore_index=True)\n",
    "    # Reorder columns \n",
    "    df = big_frame.loc[:, ['title', 'description', 'city', 'url']]\n",
    "    # Display dataframe result of the query\n",
    "    display(df)\n",
    "else:\n",
    "    print(BOLD + \"NO CONJUCTIVE RESULTS FOUND\" + END)"
   ]
  },
  {
   "cell_type": "markdown",
   "metadata": {},
   "source": [
    "## 3.2) Conjunctive query & Ranking score"
   ]
  },
  {
   "cell_type": "markdown",
   "metadata": {},
   "source": [
    "In the new Search Engine, given a query, we want to get the top-k documents related to the query. In particular:\n",
    "\n",
    "- Find all the documents that contains all the words in the query (as before...).\n",
    "- Sort them by their similarity with the query\n",
    "- Return in output k documents, or all the documents with non-zero similarity with the query when the results are less than k. You must use a heap data structure (you can use Python libraries) for maintaining the top-k documents.\n",
    "\n",
    "To solve this task we are using *tfIdf score*, and the *Cosine similarity*."
   ]
  },
  {
   "cell_type": "markdown",
   "metadata": {},
   "source": [
    "### 3.2.1) Inverted index scored"
   ]
  },
  {
   "cell_type": "markdown",
   "metadata": {},
   "source": [
    "{\n",
    "term_id_1:[(document1, tfIdf_{term,document1}), (document2, tfIdf_{term,document2}), (document4, tfIdf_{term,document4}), ...],\n",
    "term_id_2:[(document1, tfIdf_{term,document1}), (document3, tfIdf_{term,document3}), (document5, tfIdf_{term,document5}), (document6, tfIdf_{term,document6}), ...],\n",
    "...}"
   ]
  },
  {
   "cell_type": "code",
   "execution_count": 136,
   "metadata": {},
   "outputs": [],
   "source": [
    "# Start inverted index scored\n",
    "invertedIndexScored = {}\n",
    "\n",
    "# Loop all documents and make the inverted index\n",
    "for i in range(0, nRowsOrFiles): \n",
    "    invertedIndexScored = library.invertedIndexScoredAdd(invertedIndexScored, 'doc_'+str(i), invertedIndex, nRowsOrFiles)"
   ]
  },
  {
   "cell_type": "markdown",
   "metadata": {},
   "source": [
    "Let's see the inverted index scored created using tf-idf score"
   ]
  },
  {
   "cell_type": "code",
   "execution_count": 137,
   "metadata": {
    "scrolled": false
   },
   "outputs": [
    {
     "name": "stdout",
     "output_type": "stream",
     "text": [
      "\u001b[1mgarden\u001b[0m => ('doc_1', 3.2670637278023134) ('doc_3', 3.2670637278023134) ('doc_63', 3.2670637278023134) ('doc_77', 3.2670637278023134) ('doc_111', 3.2670637278023134) ('doc_120', 3.2670637278023134) ('doc_127', 3.2670637278023134) ('doc_184', 6.534127455604627) ('doc_217', 6.534127455604627) ('doc_220', 3.2670637278023134)\n",
      "\n",
      "\u001b[1mexpensive\u001b[0m => ('doc_3795', 6.8679744089702925) ('doc_3862', 6.8679744089702925) ('doc_3960', 6.8679744089702925) ('doc_4443', 6.8679744089702925) ('doc_4588', 6.8679744089702925) ('doc_6960', 6.8679744089702925) ('doc_7314', 6.8679744089702925) ('doc_7829', 6.8679744089702925) ('doc_8664', 6.8679744089702925) ('doc_8809', 6.8679744089702925)\n",
      "\n",
      "\u001b[1mbeautiful\u001b[0m => ('doc_1', 1.6132240290586652) ('doc_7', 1.6132240290586652) ('doc_11', 1.6132240290586652) ('doc_13', 1.6132240290586652) ('doc_14', 1.6132240290586652) ('doc_21', 1.6132240290586652) ('doc_30', 1.6132240290586652) ('doc_34', 1.6132240290586652) ('doc_35', 1.6132240290586652) ('doc_51', 1.6132240290586652)\n"
     ]
    }
   ],
   "source": [
    "# Print some(10) key and values of the inverted index scored\n",
    "print(BOLD + 'garden' + END, \"=>\", *invertedIndexScored[library.cleanString('garden')][0:10])\n",
    "print(\"\")\n",
    "print(BOLD + 'expensive' + END, \"=>\", *invertedIndexScored[library.cleanString('expensive')][0:10])\n",
    "print(\"\")\n",
    "print(BOLD + 'beautiful' + END, \"=>\", *invertedIndexScored[library.cleanString('beautiful')][0:10])"
   ]
  },
  {
   "cell_type": "markdown",
   "metadata": {},
   "source": [
    "Writting invertedIndexScored into inverted_index_scored.txt:"
   ]
  },
  {
   "cell_type": "code",
   "execution_count": 141,
   "metadata": {},
   "outputs": [],
   "source": [
    "# Write invertedIndex to a txt file\n",
    "json.dump(invertedIndexScored, open(\"inverted_index_scored.txt\",'w'))"
   ]
  },
  {
   "cell_type": "markdown",
   "metadata": {},
   "source": [
    "Reading inverted_index_scored.txt as dictionary"
   ]
  },
  {
   "cell_type": "code",
   "execution_count": 19,
   "metadata": {},
   "outputs": [],
   "source": [
    "# Load invertedIndex from a txt file\n",
    "# Note: changes () for [] \n",
    "# invertedIndexScored = json.load(open(\"inverted_index_scored.txt\"))"
   ]
  },
  {
   "cell_type": "markdown",
   "metadata": {},
   "source": [
    "### 3.2.2) Execute the query cosine similarity"
   ]
  },
  {
   "cell_type": "markdown",
   "metadata": {},
   "source": [
    "To know which are the most similar documents according to the query we are using scoring function \"Cosine Similarity\" with respect to the tfIdf representations of the documents.\n",
    "\n",
    "Given a query, that you let the user enter: a beautiful house with garden and beach\n",
    "\n",
    "The Search Engine return a list of documents, ranked by their Cosine Similarity with respect to the query entered in input."
   ]
  },
  {
   "cell_type": "markdown",
   "metadata": {},
   "source": [
    "This is the query for the search engine:"
   ]
  },
  {
   "cell_type": "code",
   "execution_count": 148,
   "metadata": {},
   "outputs": [],
   "source": [
    "queryCos = \"beautiful house garden and bedroom\""
   ]
  },
  {
   "cell_type": "markdown",
   "metadata": {},
   "source": [
    "This function looks for the conjunctive results and looks for the documents that have conjunctive match and save the doc_id"
   ]
  },
  {
   "cell_type": "code",
   "execution_count": 149,
   "metadata": {},
   "outputs": [
    {
     "name": "stdout",
     "output_type": "stream",
     "text": [
      "\u001b[1mQuery intruduced: \u001b[0mbeautiful house garden and bedroom\n",
      "\u001b[1mCleaned query: \u001b[0mbeauti hous garden bedroom\n",
      "\u001b[1mNumber of query words:\u001b[0m 4\n",
      "\u001b[1mNumber of conjunctive matches:\u001b[0m 11\n"
     ]
    }
   ],
   "source": [
    "conjunctiveDocId = library.getListOfConjunctiveDocIds(invertedIndex, queryCos)"
   ]
  },
  {
   "cell_type": "markdown",
   "metadata": {},
   "source": [
    "If there are conjunctive matches we only compute the cosineSimilarity of matches with computeCosineSim function, if not of all the results"
   ]
  },
  {
   "cell_type": "code",
   "execution_count": 150,
   "metadata": {},
   "outputs": [
    {
     "name": "stdout",
     "output_type": "stream",
     "text": [
      "\u001b[1mTuples 'doc_id' and 'cos_sim':\u001b[0m (0.33258454004986665, 'doc_14254') (0.6499198728162784, 'doc_6225') (0.4268023249509337, 'doc_566') (0.364744247752949, 'doc_2823') (0.4268023249509337, 'doc_5509') (0.4301237939159375, 'doc_11331') (0.364744247752949, 'doc_15035') (0.4301237939159375, 'doc_11603') (0.364744247752949, 'doc_1') (0.45691675698941003, 'doc_14552') (0.45691675698941003, 'doc_6447')\n"
     ]
    }
   ],
   "source": [
    "# List of tuples containing doc_id and cos_simmilarity\n",
    "cosSimResults = library.computeCosineSim(conjunctiveDocId, nRowsOrFiles, queryCos, invertedIndexScored)\n",
    "# Print result limited to 20 values\n",
    "print(BOLD + \"Tuples 'doc_id' and 'cos_sim':\" + END, *cosSimResults[0:20])"
   ]
  },
  {
   "cell_type": "markdown",
   "metadata": {},
   "source": [
    "Ordering results with heap algorithm"
   ]
  },
  {
   "cell_type": "code",
   "execution_count": 153,
   "metadata": {},
   "outputs": [
    {
     "name": "stdout",
     "output_type": "stream",
     "text": [
      "\u001b[1mOrdered tuples 'doc_id' and 'cos_sim':\u001b[0m (0.6499198728162784, 'doc_6225') (0.45691675698941003, 'doc_6447') (0.45691675698941003, 'doc_14552') (0.4301237939159375, 'doc_11603') (0.4301237939159375, 'doc_11331') (0.4268023249509337, 'doc_566') (0.4268023249509337, 'doc_5509') (0.364744247752949, 'doc_2823') (0.364744247752949, 'doc_15035') (0.364744247752949, 'doc_1') (0.33258454004986665, 'doc_14254')\n"
     ]
    }
   ],
   "source": [
    "# Order the data by cosine similarity\n",
    "sortedCosSim = heapq.nlargest(len(cosSimResults), cosSimResults)\n",
    "#sortedCosSim = sorted(cosSimResults, key=lambda kv:-kv[1])\n",
    "# Print result sorted limited to 20 values\n",
    "print(BOLD + \"Ordered tuples 'doc_id' and 'cos_sim':\" + END, *sortedCosSim[0:20])"
   ]
  },
  {
   "cell_type": "markdown",
   "metadata": {},
   "source": [
    "After that, we look for the data to create a dataframe and show the results of the search with computeAndDisplayCosineSimilarityDataFrame function:"
   ]
  },
  {
   "cell_type": "code",
   "execution_count": 154,
   "metadata": {},
   "outputs": [
    {
     "name": "stdout",
     "output_type": "stream",
     "text": [
      "\u001b[1mCONJUNCTIVE RESULTS\u001b[0m\n"
     ]
    },
    {
     "data": {
      "text/html": [
       "<div>\n",
       "<style scoped>\n",
       "    .dataframe tbody tr th:only-of-type {\n",
       "        vertical-align: middle;\n",
       "    }\n",
       "\n",
       "    .dataframe tbody tr th {\n",
       "        vertical-align: top;\n",
       "    }\n",
       "\n",
       "    .dataframe thead th {\n",
       "        text-align: right;\n",
       "    }\n",
       "</style>\n",
       "<table border=\"1\" class=\"dataframe\">\n",
       "  <thead>\n",
       "    <tr style=\"text-align: right;\">\n",
       "      <th></th>\n",
       "      <th>title</th>\n",
       "      <th>description</th>\n",
       "      <th>city</th>\n",
       "      <th>url</th>\n",
       "      <th>similarity</th>\n",
       "    </tr>\n",
       "  </thead>\n",
       "  <tbody>\n",
       "    <tr>\n",
       "      <th>0</th>\n",
       "      <td>Home Away from Home in Spring, TX</td>\n",
       "      <td>Beautiful 2100 sq. ft house! Three bedroom and...</td>\n",
       "      <td>Spring</td>\n",
       "      <td>https://www.airbnb.com/rooms/1521227?location=...</td>\n",
       "      <td>0.649920</td>\n",
       "    </tr>\n",
       "    <tr>\n",
       "      <th>1</th>\n",
       "      <td>New!3BR Fort Worth House near AT&amp;T Stadium w/ ...</td>\n",
       "      <td>Explore the City of Cowboys and Culture from t...</td>\n",
       "      <td>Fort Worth</td>\n",
       "      <td>https://www.airbnb.com/rooms/19193017?location...</td>\n",
       "      <td>0.456917</td>\n",
       "    </tr>\n",
       "    <tr>\n",
       "      <th>2</th>\n",
       "      <td>New!3BR Fort Worth House near AT&amp;T Stadium w/ ...</td>\n",
       "      <td>Explore the City of Cowboys and Culture from t...</td>\n",
       "      <td>Fort Worth</td>\n",
       "      <td>https://www.airbnb.com/rooms/19193017?location...</td>\n",
       "      <td>0.456917</td>\n",
       "    </tr>\n",
       "    <tr>\n",
       "      <th>3</th>\n",
       "      <td>Rooms at Rehoboth</td>\n",
       "      <td>Step back into yesterday in this old Victorian...</td>\n",
       "      <td>Temple</td>\n",
       "      <td>https://www.airbnb.com/rooms/18055961?location...</td>\n",
       "      <td>0.430124</td>\n",
       "    </tr>\n",
       "    <tr>\n",
       "      <th>4</th>\n",
       "      <td>Rooms at Rehoboth</td>\n",
       "      <td>Step back into yesterday in this old Victorian...</td>\n",
       "      <td>Temple</td>\n",
       "      <td>https://www.airbnb.com/rooms/18055961?location...</td>\n",
       "      <td>0.430124</td>\n",
       "    </tr>\n",
       "    <tr>\n",
       "      <th>5</th>\n",
       "      <td>Beautiful king bedroom in NW Austin</td>\n",
       "      <td>My house is close to Lakeline Mall, highways a...</td>\n",
       "      <td>Austin</td>\n",
       "      <td>https://www.airbnb.com/rooms/15162593?location...</td>\n",
       "      <td>0.426802</td>\n",
       "    </tr>\n",
       "    <tr>\n",
       "      <th>6</th>\n",
       "      <td>Beautiful queen bedroom in NW Austin</td>\n",
       "      <td>My house is close to Lakeline Mall, highways a...</td>\n",
       "      <td>Austin</td>\n",
       "      <td>https://www.airbnb.com/rooms/16755710?location...</td>\n",
       "      <td>0.426802</td>\n",
       "    </tr>\n",
       "    <tr>\n",
       "      <th>7</th>\n",
       "      <td>Unique Location! Alamo Heights - Designer Insp...</td>\n",
       "      <td>Stylish, fully remodeled home in upscale NW – ...</td>\n",
       "      <td>San Antonio</td>\n",
       "      <td>https://www.airbnb.com/rooms/17481455?location...</td>\n",
       "      <td>0.364744</td>\n",
       "    </tr>\n",
       "    <tr>\n",
       "      <th>8</th>\n",
       "      <td>Unique Location! Alamo Heights - Designer Insp...</td>\n",
       "      <td>Stylish, fully remodeled home in upscale NW – ...</td>\n",
       "      <td>San Antonio</td>\n",
       "      <td>https://www.airbnb.com/rooms/17481455?location...</td>\n",
       "      <td>0.364744</td>\n",
       "    </tr>\n",
       "    <tr>\n",
       "      <th>9</th>\n",
       "      <td>Unique Location! Alamo Heights - Designer Insp...</td>\n",
       "      <td>Stylish, fully remodeled home in upscale NW – ...</td>\n",
       "      <td>San Antonio</td>\n",
       "      <td>https://www.airbnb.com/rooms/17481455?location...</td>\n",
       "      <td>0.364744</td>\n",
       "    </tr>\n",
       "    <tr>\n",
       "      <th>10</th>\n",
       "      <td>Garden Bedroom</td>\n",
       "      <td>Comfortable and private, the garden bedroom is...</td>\n",
       "      <td>Austin</td>\n",
       "      <td>https://www.airbnb.com/rooms/5096161?location=...</td>\n",
       "      <td>0.332585</td>\n",
       "    </tr>\n",
       "  </tbody>\n",
       "</table>\n",
       "</div>"
      ],
      "text/plain": [
       "                                                title  \\\n",
       "0                   Home Away from Home in Spring, TX   \n",
       "1   New!3BR Fort Worth House near AT&T Stadium w/ ...   \n",
       "2   New!3BR Fort Worth House near AT&T Stadium w/ ...   \n",
       "3                                   Rooms at Rehoboth   \n",
       "4                                   Rooms at Rehoboth   \n",
       "5                 Beautiful king bedroom in NW Austin   \n",
       "6                Beautiful queen bedroom in NW Austin   \n",
       "7   Unique Location! Alamo Heights - Designer Insp...   \n",
       "8   Unique Location! Alamo Heights - Designer Insp...   \n",
       "9   Unique Location! Alamo Heights - Designer Insp...   \n",
       "10                                     Garden Bedroom   \n",
       "\n",
       "                                          description         city  \\\n",
       "0   Beautiful 2100 sq. ft house! Three bedroom and...       Spring   \n",
       "1   Explore the City of Cowboys and Culture from t...   Fort Worth   \n",
       "2   Explore the City of Cowboys and Culture from t...   Fort Worth   \n",
       "3   Step back into yesterday in this old Victorian...       Temple   \n",
       "4   Step back into yesterday in this old Victorian...       Temple   \n",
       "5   My house is close to Lakeline Mall, highways a...       Austin   \n",
       "6   My house is close to Lakeline Mall, highways a...       Austin   \n",
       "7   Stylish, fully remodeled home in upscale NW – ...  San Antonio   \n",
       "8   Stylish, fully remodeled home in upscale NW – ...  San Antonio   \n",
       "9   Stylish, fully remodeled home in upscale NW – ...  San Antonio   \n",
       "10  Comfortable and private, the garden bedroom is...       Austin   \n",
       "\n",
       "                                                  url  similarity  \n",
       "0   https://www.airbnb.com/rooms/1521227?location=...    0.649920  \n",
       "1   https://www.airbnb.com/rooms/19193017?location...    0.456917  \n",
       "2   https://www.airbnb.com/rooms/19193017?location...    0.456917  \n",
       "3   https://www.airbnb.com/rooms/18055961?location...    0.430124  \n",
       "4   https://www.airbnb.com/rooms/18055961?location...    0.430124  \n",
       "5   https://www.airbnb.com/rooms/15162593?location...    0.426802  \n",
       "6   https://www.airbnb.com/rooms/16755710?location...    0.426802  \n",
       "7   https://www.airbnb.com/rooms/17481455?location...    0.364744  \n",
       "8   https://www.airbnb.com/rooms/17481455?location...    0.364744  \n",
       "9   https://www.airbnb.com/rooms/17481455?location...    0.364744  \n",
       "10  https://www.airbnb.com/rooms/5096161?location=...    0.332585  "
      ]
     },
     "metadata": {},
     "output_type": "display_data"
    }
   ],
   "source": [
    "library.makeAndDisplayCosineSimilarityDataFrame(sortedCosSim, conjunctiveDocId) "
   ]
  },
  {
   "cell_type": "markdown",
   "metadata": {},
   "source": [
    "# Step 4: Define a new score!"
   ]
  },
  {
   "cell_type": "markdown",
   "metadata": {},
   "source": [
    "As we have seen, we have all this data for each house:\n",
    "\n",
    "- *average_price_per_night, bedrooms_count, city, date_of_listing, description, latitude, longitude, title, url*\n",
    "\n",
    "We are going to take into account this values: *average_price_per_night, bedroom_count, city, description, and title* to make the new score"
   ]
  },
  {
   "cell_type": "markdown",
   "metadata": {},
   "source": [
    "We start from the results obtained in the step 3.1 that are:"
   ]
  },
  {
   "cell_type": "code",
   "execution_count": 456,
   "metadata": {},
   "outputs": [],
   "source": [
    "queryNew = \"beautiful house with garden and bedroom\""
   ]
  },
  {
   "cell_type": "code",
   "execution_count": 457,
   "metadata": {},
   "outputs": [
    {
     "name": "stdout",
     "output_type": "stream",
     "text": [
      "\u001b[1mQuery intruduced: \u001b[0mbeautiful house with garden and bedroom\n",
      "\u001b[1mCleaned query: \u001b[0mbeauti hous garden bedroom\n",
      "\u001b[1mNumber of query words:\u001b[0m 4\n",
      "\u001b[1mNumber of conjunctive matches:\u001b[0m 11\n"
     ]
    }
   ],
   "source": [
    "conjunctiveDocId = library.getListOfConjunctiveDocIds(invertedIndex, queryNew)"
   ]
  },
  {
   "cell_type": "code",
   "execution_count": 458,
   "metadata": {},
   "outputs": [
    {
     "name": "stdout",
     "output_type": "stream",
     "text": [
      "\u001b[1mCONJUNCTIVE RESULTS\u001b[0m\n"
     ]
    },
    {
     "data": {
      "text/html": [
       "<div>\n",
       "<style scoped>\n",
       "    .dataframe tbody tr th:only-of-type {\n",
       "        vertical-align: middle;\n",
       "    }\n",
       "\n",
       "    .dataframe tbody tr th {\n",
       "        vertical-align: top;\n",
       "    }\n",
       "\n",
       "    .dataframe thead th {\n",
       "        text-align: right;\n",
       "    }\n",
       "</style>\n",
       "<table border=\"1\" class=\"dataframe\">\n",
       "  <thead>\n",
       "    <tr style=\"text-align: right;\">\n",
       "      <th></th>\n",
       "      <th>average_rate_per_night</th>\n",
       "      <th>bedrooms_count</th>\n",
       "      <th>city</th>\n",
       "      <th>description</th>\n",
       "      <th>title</th>\n",
       "      <th>url</th>\n",
       "      <th>doc_id</th>\n",
       "    </tr>\n",
       "  </thead>\n",
       "  <tbody>\n",
       "    <tr>\n",
       "      <th>0</th>\n",
       "      <td>45</td>\n",
       "      <td>1</td>\n",
       "      <td>Austin</td>\n",
       "      <td>Comfortable and private, the garden bedroom is...</td>\n",
       "      <td>Garden Bedroom</td>\n",
       "      <td>https://www.airbnb.com/rooms/5096161?location=...</td>\n",
       "      <td>doc_14254</td>\n",
       "    </tr>\n",
       "    <tr>\n",
       "      <th>1</th>\n",
       "      <td>169</td>\n",
       "      <td>3</td>\n",
       "      <td>Spring</td>\n",
       "      <td>Beautiful 2100 sq. ft house! Three bedroom and...</td>\n",
       "      <td>Home Away from Home in Spring, TX</td>\n",
       "      <td>https://www.airbnb.com/rooms/1521227?location=...</td>\n",
       "      <td>doc_6225</td>\n",
       "    </tr>\n",
       "    <tr>\n",
       "      <th>2</th>\n",
       "      <td>37</td>\n",
       "      <td>1</td>\n",
       "      <td>Austin</td>\n",
       "      <td>My house is close to Lakeline Mall, highways a...</td>\n",
       "      <td>Beautiful king bedroom in NW Austin</td>\n",
       "      <td>https://www.airbnb.com/rooms/15162593?location...</td>\n",
       "      <td>doc_566</td>\n",
       "    </tr>\n",
       "    <tr>\n",
       "      <th>3</th>\n",
       "      <td>149</td>\n",
       "      <td>4</td>\n",
       "      <td>San Antonio</td>\n",
       "      <td>Stylish, fully remodeled home in upscale NW – ...</td>\n",
       "      <td>Unique Location! Alamo Heights - Designer Insp...</td>\n",
       "      <td>https://www.airbnb.com/rooms/17481455?location...</td>\n",
       "      <td>doc_2823</td>\n",
       "    </tr>\n",
       "    <tr>\n",
       "      <th>4</th>\n",
       "      <td>32</td>\n",
       "      <td>1</td>\n",
       "      <td>Austin</td>\n",
       "      <td>My house is close to Lakeline Mall, highways a...</td>\n",
       "      <td>Beautiful queen bedroom in NW Austin</td>\n",
       "      <td>https://www.airbnb.com/rooms/16755710?location...</td>\n",
       "      <td>doc_5509</td>\n",
       "    </tr>\n",
       "    <tr>\n",
       "      <th>5</th>\n",
       "      <td>50</td>\n",
       "      <td>1</td>\n",
       "      <td>Temple</td>\n",
       "      <td>Step back into yesterday in this old Victorian...</td>\n",
       "      <td>Rooms at Rehoboth</td>\n",
       "      <td>https://www.airbnb.com/rooms/18055961?location...</td>\n",
       "      <td>doc_11331</td>\n",
       "    </tr>\n",
       "    <tr>\n",
       "      <th>6</th>\n",
       "      <td>149</td>\n",
       "      <td>4</td>\n",
       "      <td>San Antonio</td>\n",
       "      <td>Stylish, fully remodeled home in upscale NW – ...</td>\n",
       "      <td>Unique Location! Alamo Heights - Designer Insp...</td>\n",
       "      <td>https://www.airbnb.com/rooms/17481455?location...</td>\n",
       "      <td>doc_15035</td>\n",
       "    </tr>\n",
       "    <tr>\n",
       "      <th>7</th>\n",
       "      <td>50</td>\n",
       "      <td>1</td>\n",
       "      <td>Temple</td>\n",
       "      <td>Step back into yesterday in this old Victorian...</td>\n",
       "      <td>Rooms at Rehoboth</td>\n",
       "      <td>https://www.airbnb.com/rooms/18055961?location...</td>\n",
       "      <td>doc_11603</td>\n",
       "    </tr>\n",
       "    <tr>\n",
       "      <th>8</th>\n",
       "      <td>149</td>\n",
       "      <td>4</td>\n",
       "      <td>San Antonio</td>\n",
       "      <td>Stylish, fully remodeled home in upscale NW – ...</td>\n",
       "      <td>Unique Location! Alamo Heights - Designer Insp...</td>\n",
       "      <td>https://www.airbnb.com/rooms/17481455?location...</td>\n",
       "      <td>doc_1</td>\n",
       "    </tr>\n",
       "    <tr>\n",
       "      <th>9</th>\n",
       "      <td>245</td>\n",
       "      <td>3</td>\n",
       "      <td>Fort Worth</td>\n",
       "      <td>Explore the City of Cowboys and Culture from t...</td>\n",
       "      <td>New!3BR Fort Worth House near AT&amp;T Stadium w/ ...</td>\n",
       "      <td>https://www.airbnb.com/rooms/19193017?location...</td>\n",
       "      <td>doc_14552</td>\n",
       "    </tr>\n",
       "    <tr>\n",
       "      <th>10</th>\n",
       "      <td>245</td>\n",
       "      <td>3</td>\n",
       "      <td>Fort Worth</td>\n",
       "      <td>Explore the City of Cowboys and Culture from t...</td>\n",
       "      <td>New!3BR Fort Worth House near AT&amp;T Stadium w/ ...</td>\n",
       "      <td>https://www.airbnb.com/rooms/19193017?location...</td>\n",
       "      <td>doc_6447</td>\n",
       "    </tr>\n",
       "  </tbody>\n",
       "</table>\n",
       "</div>"
      ],
      "text/plain": [
       "    average_rate_per_night  bedrooms_count         city  \\\n",
       "0                       45               1       Austin   \n",
       "1                      169               3       Spring   \n",
       "2                       37               1       Austin   \n",
       "3                      149               4  San Antonio   \n",
       "4                       32               1       Austin   \n",
       "5                       50               1       Temple   \n",
       "6                      149               4  San Antonio   \n",
       "7                       50               1       Temple   \n",
       "8                      149               4  San Antonio   \n",
       "9                      245               3   Fort Worth   \n",
       "10                     245               3   Fort Worth   \n",
       "\n",
       "                                          description  \\\n",
       "0   Comfortable and private, the garden bedroom is...   \n",
       "1   Beautiful 2100 sq. ft house! Three bedroom and...   \n",
       "2   My house is close to Lakeline Mall, highways a...   \n",
       "3   Stylish, fully remodeled home in upscale NW – ...   \n",
       "4   My house is close to Lakeline Mall, highways a...   \n",
       "5   Step back into yesterday in this old Victorian...   \n",
       "6   Stylish, fully remodeled home in upscale NW – ...   \n",
       "7   Step back into yesterday in this old Victorian...   \n",
       "8   Stylish, fully remodeled home in upscale NW – ...   \n",
       "9   Explore the City of Cowboys and Culture from t...   \n",
       "10  Explore the City of Cowboys and Culture from t...   \n",
       "\n",
       "                                                title  \\\n",
       "0                                      Garden Bedroom   \n",
       "1                   Home Away from Home in Spring, TX   \n",
       "2                 Beautiful king bedroom in NW Austin   \n",
       "3   Unique Location! Alamo Heights - Designer Insp...   \n",
       "4                Beautiful queen bedroom in NW Austin   \n",
       "5                                   Rooms at Rehoboth   \n",
       "6   Unique Location! Alamo Heights - Designer Insp...   \n",
       "7                                   Rooms at Rehoboth   \n",
       "8   Unique Location! Alamo Heights - Designer Insp...   \n",
       "9   New!3BR Fort Worth House near AT&T Stadium w/ ...   \n",
       "10  New!3BR Fort Worth House near AT&T Stadium w/ ...   \n",
       "\n",
       "                                                  url     doc_id  \n",
       "0   https://www.airbnb.com/rooms/5096161?location=...  doc_14254  \n",
       "1   https://www.airbnb.com/rooms/1521227?location=...   doc_6225  \n",
       "2   https://www.airbnb.com/rooms/15162593?location...    doc_566  \n",
       "3   https://www.airbnb.com/rooms/17481455?location...   doc_2823  \n",
       "4   https://www.airbnb.com/rooms/16755710?location...   doc_5509  \n",
       "5   https://www.airbnb.com/rooms/18055961?location...  doc_11331  \n",
       "6   https://www.airbnb.com/rooms/17481455?location...  doc_15035  \n",
       "7   https://www.airbnb.com/rooms/18055961?location...  doc_11603  \n",
       "8   https://www.airbnb.com/rooms/17481455?location...      doc_1  \n",
       "9   https://www.airbnb.com/rooms/19193017?location...  doc_14552  \n",
       "10  https://www.airbnb.com/rooms/19193017?location...   doc_6447  "
      ]
     },
     "metadata": {},
     "output_type": "display_data"
    }
   ],
   "source": [
    "dfs_new = []\n",
    "columns = ['average_rate_per_night', 'bedrooms_count', 'city', 'description', 'title', 'url']\n",
    "# Loop through all the sorted results and add similarity and conjunctive_match info to a df\n",
    "for doc_id in conjunctiveDocId:\n",
    "    if len(conjunctiveDocId) != 0:\n",
    "        doc_test = pd.read_csv('documents/'+doc_id+'.tsv', sep='\\t', encoding='utf-8', usecols=columns)\n",
    "        doc_test[\"doc_id\"] = doc_id\n",
    "        doc_test[\"average_rate_per_night\"] = int(library.cleanString(doc_test.iloc[0][\"average_rate_per_night\"]))\n",
    "        if doc_test.iloc[0][\"bedrooms_count\"] == \"Studio\":\n",
    "            doc_test[\"bedrooms_count\"] = 1\n",
    "        dfs_new.append(doc_test)\n",
    "\n",
    "# Print if they are conjunctive results or not\n",
    "if(len(conjunctiveDocId) != 0):\n",
    "    print(BOLD + \"CONJUNCTIVE RESULTS\" + END)\n",
    "elif(len(conjunctiveDocId) != 0):\n",
    "    print(BOLD + \"NOT CONJUNCTIVE RESULTS\" + END)\n",
    "\n",
    "# Concat all dataframes into one to show the results        \n",
    "if(len(dfs_new) != 0):\n",
    "    # Concatenate all data into one DataFrame\n",
    "    df = pd.concat(dfs_new, ignore_index=True)\n",
    "    # Display dataframe result of the query\n",
    "    display(df)\n",
    "else:\n",
    "    print(\"NO RESULTS\")"
   ]
  },
  {
   "cell_type": "code",
   "execution_count": 464,
   "metadata": {},
   "outputs": [],
   "source": [
    "def dicNormalized(conjunctive_docid, df, column_name):\n",
    "    normalized = {}\n",
    "    for docid in conjunctive_docid:\n",
    "        value = list(df.loc[df[\"doc_id\"]==docid, column_name])[0]\n",
    "        maxValue = df[column_name].max()\n",
    "        normalized.update({docid: -value/maxValue})\n",
    "    return normalized\n",
    "\n",
    "def dicMatchCityQuery(conjunctive_docid, query, df):\n",
    "    found_words = {}\n",
    "    query = library.cleanString(query).split()\n",
    "    for docid in conjunctive_docid:\n",
    "        coincidence = 0\n",
    "        city = library.cleanString(list(df.loc[df[\"doc_id\"]==docid, \"city\"])[0]).split()\n",
    "        for string in city:\n",
    "            if string in query:\n",
    "                coincidence = 1\n",
    "        found_words.update({docid: coincidence})\n",
    "    return found_words\n",
    "\n",
    "def listOfComputeScores(conjunctive_docid, *args):\n",
    "    newScores = []\n",
    "    for docid in conjunctive_docid:\n",
    "        sumScore = 0\n",
    "        for arg in args:\n",
    "            sumScore += arg[docid]\n",
    "        newScores.append((sumScore, docid))\n",
    "    return newScores"
   ]
  },
  {
   "cell_type": "code",
   "execution_count": 465,
   "metadata": {},
   "outputs": [],
   "source": [
    "normalizedBedrooms = dicNormalized(conjunctiveDocId, df, \"bedrooms_count\")\n",
    "normalizedPrices = dicNormalized(conjunctiveDocId, df, \"average_rate_per_night\")\n",
    "normalizedCityQuery = dicMatchCityQuery(conjunctiveDocId, queryNew, df)"
   ]
  },
  {
   "cell_type": "code",
   "execution_count": 466,
   "metadata": {},
   "outputs": [
    {
     "name": "stdout",
     "output_type": "stream",
     "text": [
      "\u001b[1mNomalized values of bedrooms\u001b[0m ('doc_14254', -0.25) ('doc_6225', -0.75) ('doc_566', -0.25) ('doc_2823', -1.0) ('doc_5509', -0.25) ('doc_11331', -0.25) ('doc_15035', -1.0) ('doc_11603', -0.25) ('doc_1', -1.0) ('doc_14552', -0.75) ('doc_6447', -0.75)\n",
      "\u001b[1mNomalized values of prices\u001b[0m ('doc_14254', -0.1836734693877551) ('doc_6225', -0.689795918367347) ('doc_566', -0.1510204081632653) ('doc_2823', -0.6081632653061224) ('doc_5509', -0.1306122448979592) ('doc_11331', -0.20408163265306123) ('doc_15035', -0.6081632653061224) ('doc_11603', -0.20408163265306123) ('doc_1', -0.6081632653061224) ('doc_14552', -1.0) ('doc_6447', -1.0)\n",
      "\u001b[1mCoincidence query city\u001b[0m ('doc_14254', 0) ('doc_6225', 0) ('doc_566', 0) ('doc_2823', 0) ('doc_5509', 0) ('doc_11331', 0) ('doc_15035', 0) ('doc_11603', 0) ('doc_1', 0) ('doc_14552', 0) ('doc_6447', 0)\n"
     ]
    }
   ],
   "source": [
    "print(BOLD + \"Nomalized values of bedrooms\" + END, *normalizedBedrooms.items())\n",
    "print(BOLD + \"Nomalized values of prices\" + END, *normalizedPrices.items())\n",
    "print(BOLD + \"Coincidence query city\" + END, *normalizedCityQuery.items())"
   ]
  },
  {
   "cell_type": "code",
   "execution_count": 467,
   "metadata": {},
   "outputs": [
    {
     "name": "stdout",
     "output_type": "stream",
     "text": [
      "(-0.4336734693877551, 'doc_14254') (-1.439795918367347, 'doc_6225') (-0.40102040816326534, 'doc_566') (-1.6081632653061224, 'doc_2823') (-0.3806122448979592, 'doc_5509') (-0.45408163265306123, 'doc_11331') (-1.6081632653061224, 'doc_15035') (-0.45408163265306123, 'doc_11603') (-1.6081632653061224, 'doc_1') (-1.75, 'doc_14552') (-1.75, 'doc_6447')\n"
     ]
    }
   ],
   "source": [
    "scoredNewDocs = listOfComputeScores(conjunctiveDocId, normalizedBedrooms, normalizedCityQuery, normalizedPrices)\n",
    "print(*scoredNewDocs)"
   ]
  },
  {
   "cell_type": "code",
   "execution_count": 468,
   "metadata": {},
   "outputs": [
    {
     "name": "stdout",
     "output_type": "stream",
     "text": [
      "(-0.3806122448979592, 'doc_5509') (-0.40102040816326534, 'doc_566') (-0.4336734693877551, 'doc_14254') (-0.45408163265306123, 'doc_11603') (-0.45408163265306123, 'doc_11331') (-1.439795918367347, 'doc_6225') (-1.6081632653061224, 'doc_2823') (-1.6081632653061224, 'doc_15035') (-1.6081632653061224, 'doc_1') (-1.75, 'doc_6447') (-1.75, 'doc_14552')\n"
     ]
    }
   ],
   "source": [
    "# Order the data by cosine similarity\n",
    "sortedScoredNewDocs = heapq.nlargest(len(scoredNewDocs), scoredNewDocs)\n",
    "print(*sortedScoredNewDocs)"
   ]
  },
  {
   "cell_type": "code",
   "execution_count": 469,
   "metadata": {},
   "outputs": [
    {
     "data": {
      "text/html": [
       "<div>\n",
       "<style scoped>\n",
       "    .dataframe tbody tr th:only-of-type {\n",
       "        vertical-align: middle;\n",
       "    }\n",
       "\n",
       "    .dataframe tbody tr th {\n",
       "        vertical-align: top;\n",
       "    }\n",
       "\n",
       "    .dataframe thead th {\n",
       "        text-align: right;\n",
       "    }\n",
       "</style>\n",
       "<table border=\"1\" class=\"dataframe\">\n",
       "  <thead>\n",
       "    <tr style=\"text-align: right;\">\n",
       "      <th></th>\n",
       "      <th>city</th>\n",
       "      <th>description</th>\n",
       "      <th>title</th>\n",
       "      <th>url</th>\n",
       "      <th>new_score</th>\n",
       "    </tr>\n",
       "  </thead>\n",
       "  <tbody>\n",
       "    <tr>\n",
       "      <th>0</th>\n",
       "      <td>Austin</td>\n",
       "      <td>My house is close to Lakeline Mall, highways a...</td>\n",
       "      <td>Beautiful queen bedroom in NW Austin</td>\n",
       "      <td>https://www.airbnb.com/rooms/16755710?location...</td>\n",
       "      <td>-0.380612</td>\n",
       "    </tr>\n",
       "    <tr>\n",
       "      <th>1</th>\n",
       "      <td>Austin</td>\n",
       "      <td>My house is close to Lakeline Mall, highways a...</td>\n",
       "      <td>Beautiful king bedroom in NW Austin</td>\n",
       "      <td>https://www.airbnb.com/rooms/15162593?location...</td>\n",
       "      <td>-0.401020</td>\n",
       "    </tr>\n",
       "    <tr>\n",
       "      <th>2</th>\n",
       "      <td>Austin</td>\n",
       "      <td>Comfortable and private, the garden bedroom is...</td>\n",
       "      <td>Garden Bedroom</td>\n",
       "      <td>https://www.airbnb.com/rooms/5096161?location=...</td>\n",
       "      <td>-0.433673</td>\n",
       "    </tr>\n",
       "    <tr>\n",
       "      <th>3</th>\n",
       "      <td>Temple</td>\n",
       "      <td>Step back into yesterday in this old Victorian...</td>\n",
       "      <td>Rooms at Rehoboth</td>\n",
       "      <td>https://www.airbnb.com/rooms/18055961?location...</td>\n",
       "      <td>-0.454082</td>\n",
       "    </tr>\n",
       "    <tr>\n",
       "      <th>4</th>\n",
       "      <td>Temple</td>\n",
       "      <td>Step back into yesterday in this old Victorian...</td>\n",
       "      <td>Rooms at Rehoboth</td>\n",
       "      <td>https://www.airbnb.com/rooms/18055961?location...</td>\n",
       "      <td>-0.454082</td>\n",
       "    </tr>\n",
       "    <tr>\n",
       "      <th>5</th>\n",
       "      <td>Spring</td>\n",
       "      <td>Beautiful 2100 sq. ft house! Three bedroom and...</td>\n",
       "      <td>Home Away from Home in Spring, TX</td>\n",
       "      <td>https://www.airbnb.com/rooms/1521227?location=...</td>\n",
       "      <td>-1.439796</td>\n",
       "    </tr>\n",
       "    <tr>\n",
       "      <th>6</th>\n",
       "      <td>San Antonio</td>\n",
       "      <td>Stylish, fully remodeled home in upscale NW – ...</td>\n",
       "      <td>Unique Location! Alamo Heights - Designer Insp...</td>\n",
       "      <td>https://www.airbnb.com/rooms/17481455?location...</td>\n",
       "      <td>-1.608163</td>\n",
       "    </tr>\n",
       "    <tr>\n",
       "      <th>7</th>\n",
       "      <td>San Antonio</td>\n",
       "      <td>Stylish, fully remodeled home in upscale NW – ...</td>\n",
       "      <td>Unique Location! Alamo Heights - Designer Insp...</td>\n",
       "      <td>https://www.airbnb.com/rooms/17481455?location...</td>\n",
       "      <td>-1.608163</td>\n",
       "    </tr>\n",
       "    <tr>\n",
       "      <th>8</th>\n",
       "      <td>San Antonio</td>\n",
       "      <td>Stylish, fully remodeled home in upscale NW – ...</td>\n",
       "      <td>Unique Location! Alamo Heights - Designer Insp...</td>\n",
       "      <td>https://www.airbnb.com/rooms/17481455?location...</td>\n",
       "      <td>-1.608163</td>\n",
       "    </tr>\n",
       "    <tr>\n",
       "      <th>9</th>\n",
       "      <td>Fort Worth</td>\n",
       "      <td>Explore the City of Cowboys and Culture from t...</td>\n",
       "      <td>New!3BR Fort Worth House near AT&amp;T Stadium w/ ...</td>\n",
       "      <td>https://www.airbnb.com/rooms/19193017?location...</td>\n",
       "      <td>-1.750000</td>\n",
       "    </tr>\n",
       "    <tr>\n",
       "      <th>10</th>\n",
       "      <td>Fort Worth</td>\n",
       "      <td>Explore the City of Cowboys and Culture from t...</td>\n",
       "      <td>New!3BR Fort Worth House near AT&amp;T Stadium w/ ...</td>\n",
       "      <td>https://www.airbnb.com/rooms/19193017?location...</td>\n",
       "      <td>-1.750000</td>\n",
       "    </tr>\n",
       "  </tbody>\n",
       "</table>\n",
       "</div>"
      ],
      "text/plain": [
       "           city                                        description  \\\n",
       "0        Austin  My house is close to Lakeline Mall, highways a...   \n",
       "1        Austin  My house is close to Lakeline Mall, highways a...   \n",
       "2        Austin  Comfortable and private, the garden bedroom is...   \n",
       "3        Temple  Step back into yesterday in this old Victorian...   \n",
       "4        Temple  Step back into yesterday in this old Victorian...   \n",
       "5        Spring  Beautiful 2100 sq. ft house! Three bedroom and...   \n",
       "6   San Antonio  Stylish, fully remodeled home in upscale NW – ...   \n",
       "7   San Antonio  Stylish, fully remodeled home in upscale NW – ...   \n",
       "8   San Antonio  Stylish, fully remodeled home in upscale NW – ...   \n",
       "9    Fort Worth  Explore the City of Cowboys and Culture from t...   \n",
       "10   Fort Worth  Explore the City of Cowboys and Culture from t...   \n",
       "\n",
       "                                                title  \\\n",
       "0                Beautiful queen bedroom in NW Austin   \n",
       "1                 Beautiful king bedroom in NW Austin   \n",
       "2                                      Garden Bedroom   \n",
       "3                                   Rooms at Rehoboth   \n",
       "4                                   Rooms at Rehoboth   \n",
       "5                   Home Away from Home in Spring, TX   \n",
       "6   Unique Location! Alamo Heights - Designer Insp...   \n",
       "7   Unique Location! Alamo Heights - Designer Insp...   \n",
       "8   Unique Location! Alamo Heights - Designer Insp...   \n",
       "9   New!3BR Fort Worth House near AT&T Stadium w/ ...   \n",
       "10  New!3BR Fort Worth House near AT&T Stadium w/ ...   \n",
       "\n",
       "                                                  url  new_score  \n",
       "0   https://www.airbnb.com/rooms/16755710?location...  -0.380612  \n",
       "1   https://www.airbnb.com/rooms/15162593?location...  -0.401020  \n",
       "2   https://www.airbnb.com/rooms/5096161?location=...  -0.433673  \n",
       "3   https://www.airbnb.com/rooms/18055961?location...  -0.454082  \n",
       "4   https://www.airbnb.com/rooms/18055961?location...  -0.454082  \n",
       "5   https://www.airbnb.com/rooms/1521227?location=...  -1.439796  \n",
       "6   https://www.airbnb.com/rooms/17481455?location...  -1.608163  \n",
       "7   https://www.airbnb.com/rooms/17481455?location...  -1.608163  \n",
       "8   https://www.airbnb.com/rooms/17481455?location...  -1.608163  \n",
       "9   https://www.airbnb.com/rooms/19193017?location...  -1.750000  \n",
       "10  https://www.airbnb.com/rooms/19193017?location...  -1.750000  "
      ]
     },
     "metadata": {},
     "output_type": "display_data"
    }
   ],
   "source": [
    "dfs_new = []\n",
    "columns = ['title', 'description', 'city', 'url']\n",
    "# Loop through all the sorted results and add similarity and conjunctive_match info to a df\n",
    "for doc_id in sortedScoredNewDocs:\n",
    "    doc_test = pd.read_csv('documents/'+doc_id[1]+'.tsv', sep='\\t', encoding='utf-8', usecols=columns)\n",
    "    doc_test[\"new_score\"] = doc_id[0]\n",
    "    dfs_new.append(doc_test)\n",
    "\n",
    "# Concat all dataframes into one to show the results        \n",
    "if(len(dfs_new) != 0):\n",
    "    # Concatenate all data into one DataFrame\n",
    "    df = pd.concat(dfs_new, ignore_index=True)\n",
    "    # Display dataframe result of the query\n",
    "    display(df)\n",
    "else:\n",
    "    print(\"NO RESULTS\")"
   ]
  },
  {
   "cell_type": "code",
   "execution_count": null,
   "metadata": {},
   "outputs": [],
   "source": []
  }
 ],
 "metadata": {
  "kernelspec": {
   "display_name": "Python 3",
   "language": "python",
   "name": "python3"
  },
  "language_info": {
   "codemirror_mode": {
    "name": "ipython",
    "version": 3
   },
   "file_extension": ".py",
   "mimetype": "text/x-python",
   "name": "python",
   "nbconvert_exporter": "python",
   "pygments_lexer": "ipython3",
   "version": "3.6.5"
  }
 },
 "nbformat": 4,
 "nbformat_minor": 2
}
