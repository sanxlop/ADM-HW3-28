{
 "cells": [
  {
   "cell_type": "markdown",
   "metadata": {},
   "source": [
    "# Step 1: Data"
   ]
  },
  {
   "cell_type": "markdown",
   "metadata": {},
   "source": [
    "### Import libraries"
   ]
  },
  {
   "cell_type": "code",
   "execution_count": 120,
   "metadata": {},
   "outputs": [],
   "source": [
    "import pandas as pd\n",
    "import matplotlib.pyplot as plt\n",
    "import datetime \n",
    "import numpy as np\n",
    "import os\n",
    "import nltk\n",
    "from nltk.tokenize import sent_tokenize, word_tokenize\n",
    "from nltk.corpus import stopwords\n",
    "from nltk.tokenize import RegexpTokenizer\n",
    "from nltk.stem.porter import PorterStemmer\n",
    "import json\n",
    "import collections\n",
    "import itertools\n",
    "import math\n",
    "import heapq\n",
    "import folium\n",
    "from geopy import distance\n",
    "#nltk.download('punkt')\n",
    "#nltk.download('stopwords')\n",
    "import library #library of functions\n",
    "\n",
    "# To reaload library import\n",
    "from importlib import reload\n",
    "reload(library)\n",
    "\n",
    "# To print results\n",
    "BOLD = '\\033[1m'\n",
    "END = '\\033[0m'"
   ]
  },
  {
   "cell_type": "markdown",
   "metadata": {},
   "source": [
    "We only need some columns values of the Airbnb_Texas_Rentals.csv so we filter the result by:"
   ]
  },
  {
   "cell_type": "code",
   "execution_count": 2,
   "metadata": {},
   "outputs": [],
   "source": [
    "# List of column values needed\n",
    "cols = ['average_rate_per_night', 'bedrooms_count', 'city', 'date_of_listing', 'description', 'latitude', 'longitude', 'title', 'url']\n",
    "# Read the csv file\n",
    "airbnbrentals = pd.read_csv('Airbnb_Texas_Rentals.csv', sep=',', encoding='utf-8', usecols=cols)"
   ]
  },
  {
   "cell_type": "code",
   "execution_count": 3,
   "metadata": {},
   "outputs": [
    {
     "data": {
      "text/html": [
       "<div>\n",
       "<style scoped>\n",
       "    .dataframe tbody tr th:only-of-type {\n",
       "        vertical-align: middle;\n",
       "    }\n",
       "\n",
       "    .dataframe tbody tr th {\n",
       "        vertical-align: top;\n",
       "    }\n",
       "\n",
       "    .dataframe thead th {\n",
       "        text-align: right;\n",
       "    }\n",
       "</style>\n",
       "<table border=\"1\" class=\"dataframe\">\n",
       "  <thead>\n",
       "    <tr style=\"text-align: right;\">\n",
       "      <th></th>\n",
       "      <th>average_rate_per_night</th>\n",
       "      <th>bedrooms_count</th>\n",
       "      <th>city</th>\n",
       "      <th>date_of_listing</th>\n",
       "      <th>description</th>\n",
       "      <th>latitude</th>\n",
       "      <th>longitude</th>\n",
       "      <th>title</th>\n",
       "      <th>url</th>\n",
       "    </tr>\n",
       "  </thead>\n",
       "  <tbody>\n",
       "    <tr>\n",
       "      <th>0</th>\n",
       "      <td>$27</td>\n",
       "      <td>2</td>\n",
       "      <td>Humble</td>\n",
       "      <td>May 2016</td>\n",
       "      <td>Welcome to stay in private room with queen bed...</td>\n",
       "      <td>30.020138</td>\n",
       "      <td>-95.293996</td>\n",
       "      <td>2 Private rooms/bathroom 10min from IAH airport</td>\n",
       "      <td>https://www.airbnb.com/rooms/18520444?location...</td>\n",
       "    </tr>\n",
       "    <tr>\n",
       "      <th>1</th>\n",
       "      <td>$149</td>\n",
       "      <td>4</td>\n",
       "      <td>San Antonio</td>\n",
       "      <td>November 2010</td>\n",
       "      <td>Stylish, fully remodeled home in upscale NW – ...</td>\n",
       "      <td>29.503068</td>\n",
       "      <td>-98.447688</td>\n",
       "      <td>Unique Location! Alamo Heights - Designer Insp...</td>\n",
       "      <td>https://www.airbnb.com/rooms/17481455?location...</td>\n",
       "    </tr>\n",
       "    <tr>\n",
       "      <th>2</th>\n",
       "      <td>$59</td>\n",
       "      <td>1</td>\n",
       "      <td>Houston</td>\n",
       "      <td>January 2017</td>\n",
       "      <td>'River house on island close to the city' \\nA ...</td>\n",
       "      <td>29.829352</td>\n",
       "      <td>-95.081549</td>\n",
       "      <td>River house near the city</td>\n",
       "      <td>https://www.airbnb.com/rooms/16926307?location...</td>\n",
       "    </tr>\n",
       "  </tbody>\n",
       "</table>\n",
       "</div>"
      ],
      "text/plain": [
       "  average_rate_per_night bedrooms_count         city date_of_listing  \\\n",
       "0                    $27              2       Humble        May 2016   \n",
       "1                   $149              4  San Antonio   November 2010   \n",
       "2                    $59              1      Houston    January 2017   \n",
       "\n",
       "                                         description   latitude  longitude  \\\n",
       "0  Welcome to stay in private room with queen bed...  30.020138 -95.293996   \n",
       "1  Stylish, fully remodeled home in upscale NW – ...  29.503068 -98.447688   \n",
       "2  'River house on island close to the city' \\nA ...  29.829352 -95.081549   \n",
       "\n",
       "                                               title  \\\n",
       "0    2 Private rooms/bathroom 10min from IAH airport   \n",
       "1  Unique Location! Alamo Heights - Designer Insp...   \n",
       "2                          River house near the city   \n",
       "\n",
       "                                                 url  \n",
       "0  https://www.airbnb.com/rooms/18520444?location...  \n",
       "1  https://www.airbnb.com/rooms/17481455?location...  \n",
       "2  https://www.airbnb.com/rooms/16926307?location...  "
      ]
     },
     "execution_count": 3,
     "metadata": {},
     "output_type": "execute_result"
    }
   ],
   "source": [
    "# Printed example of 3 rows\n",
    "airbnbrentals.loc[0:2,]"
   ]
  },
  {
   "cell_type": "markdown",
   "metadata": {},
   "source": [
    "# Step 2: Create documents"
   ]
  },
  {
   "cell_type": "markdown",
   "metadata": {},
   "source": [
    "In this step we are creating i tsv files to save all the information. "
   ]
  },
  {
   "cell_type": "code",
   "execution_count": 4,
   "metadata": {},
   "outputs": [],
   "source": [
    "# Create directory to save the documents if doesn't exist\n",
    "directory = \"documents\"\n",
    "if not os.path.exists(directory):\n",
    "    os.makedirs(directory)\n",
    "\n",
    "# Create all tsv files, each per row\n",
    "nRowsOrFiles = airbnbrentals.shape[0] #this variable is the number of rows or files\n",
    "for i in range(0, nRowsOrFiles): \n",
    "    #Write the tsv file\n",
    "    airbnbrentals.loc[i:i,].to_csv('documents/doc_'+str(i)+'.tsv', sep='\\t', encoding='utf-8', index = False)"
   ]
  },
  {
   "cell_type": "code",
   "execution_count": 5,
   "metadata": {
    "scrolled": true
   },
   "outputs": [
    {
     "data": {
      "text/html": [
       "<div>\n",
       "<style scoped>\n",
       "    .dataframe tbody tr th:only-of-type {\n",
       "        vertical-align: middle;\n",
       "    }\n",
       "\n",
       "    .dataframe tbody tr th {\n",
       "        vertical-align: top;\n",
       "    }\n",
       "\n",
       "    .dataframe thead th {\n",
       "        text-align: right;\n",
       "    }\n",
       "</style>\n",
       "<table border=\"1\" class=\"dataframe\">\n",
       "  <thead>\n",
       "    <tr style=\"text-align: right;\">\n",
       "      <th></th>\n",
       "      <th>average_rate_per_night</th>\n",
       "      <th>bedrooms_count</th>\n",
       "      <th>city</th>\n",
       "      <th>date_of_listing</th>\n",
       "      <th>description</th>\n",
       "      <th>latitude</th>\n",
       "      <th>longitude</th>\n",
       "      <th>title</th>\n",
       "      <th>url</th>\n",
       "    </tr>\n",
       "  </thead>\n",
       "  <tbody>\n",
       "    <tr>\n",
       "      <th>0</th>\n",
       "      <td>$59</td>\n",
       "      <td>1</td>\n",
       "      <td>Houston</td>\n",
       "      <td>January 2017</td>\n",
       "      <td>'River house on island close to the city' \\nA ...</td>\n",
       "      <td>29.829352</td>\n",
       "      <td>-95.081549</td>\n",
       "      <td>River house near the city</td>\n",
       "      <td>https://www.airbnb.com/rooms/16926307?location...</td>\n",
       "    </tr>\n",
       "  </tbody>\n",
       "</table>\n",
       "</div>"
      ],
      "text/plain": [
       "  average_rate_per_night  bedrooms_count     city date_of_listing  \\\n",
       "0                    $59               1  Houston    January 2017   \n",
       "\n",
       "                                         description   latitude  longitude  \\\n",
       "0  'River house on island close to the city' \\nA ...  29.829352 -95.081549   \n",
       "\n",
       "                       title  \\\n",
       "0  River house near the city   \n",
       "\n",
       "                                                 url  \n",
       "0  https://www.airbnb.com/rooms/16926307?location...  "
      ]
     },
     "execution_count": 5,
     "metadata": {},
     "output_type": "execute_result"
    }
   ],
   "source": [
    "# Read one tsv file to see result\n",
    "pd.read_csv('documents/doc_2.tsv', sep='\\t', encoding='utf-8')"
   ]
  },
  {
   "cell_type": "markdown",
   "metadata": {},
   "source": [
    "# Step 3: Search Engine"
   ]
  },
  {
   "cell_type": "markdown",
   "metadata": {},
   "source": [
    "As a first common step, we have to preprocess the documents by:\n",
    "\n",
    "- Removing stopwords\n",
    "- Removing punctuation\n",
    "- Stemming\n",
    "- Anything else you think it's needed"
   ]
  },
  {
   "cell_type": "code",
   "execution_count": 6,
   "metadata": {},
   "outputs": [],
   "source": [
    "# Create directory to save the documents if doesn't exist\n",
    "directory = \"documentsCleaned\"\n",
    "if not os.path.exists(directory):\n",
    "    os.makedirs(directory)\n",
    "# This function takes all documents and removes punctuation, stop words and do stemming\n",
    "library.modifyDocs(nRowsOrFiles)"
   ]
  },
  {
   "cell_type": "markdown",
   "metadata": {},
   "source": [
    "Test if it works reading one document:"
   ]
  },
  {
   "cell_type": "code",
   "execution_count": 7,
   "metadata": {},
   "outputs": [
    {
     "data": {
      "text/html": [
       "<div>\n",
       "<style scoped>\n",
       "    .dataframe tbody tr th:only-of-type {\n",
       "        vertical-align: middle;\n",
       "    }\n",
       "\n",
       "    .dataframe tbody tr th {\n",
       "        vertical-align: top;\n",
       "    }\n",
       "\n",
       "    .dataframe thead th {\n",
       "        text-align: right;\n",
       "    }\n",
       "</style>\n",
       "<table border=\"1\" class=\"dataframe\">\n",
       "  <thead>\n",
       "    <tr style=\"text-align: right;\">\n",
       "      <th></th>\n",
       "      <th>average_rate_per_night</th>\n",
       "      <th>bedrooms_count</th>\n",
       "      <th>city</th>\n",
       "      <th>date_of_listing</th>\n",
       "      <th>description</th>\n",
       "      <th>latitude</th>\n",
       "      <th>longitude</th>\n",
       "      <th>title</th>\n",
       "      <th>url</th>\n",
       "    </tr>\n",
       "  </thead>\n",
       "  <tbody>\n",
       "    <tr>\n",
       "      <th>0</th>\n",
       "      <td>$59</td>\n",
       "      <td>1</td>\n",
       "      <td>Houston</td>\n",
       "      <td>January 2017</td>\n",
       "      <td>river hous island close citi nA well maintain ...</td>\n",
       "      <td>29.829352</td>\n",
       "      <td>-95.081549</td>\n",
       "      <td>river hous near citi</td>\n",
       "      <td>https://www.airbnb.com/rooms/16926307?location...</td>\n",
       "    </tr>\n",
       "  </tbody>\n",
       "</table>\n",
       "</div>"
      ],
      "text/plain": [
       "  average_rate_per_night  bedrooms_count     city date_of_listing  \\\n",
       "0                    $59               1  Houston    January 2017   \n",
       "\n",
       "                                         description   latitude  longitude  \\\n",
       "0  river hous island close citi nA well maintain ...  29.829352 -95.081549   \n",
       "\n",
       "                  title                                                url  \n",
       "0  river hous near citi  https://www.airbnb.com/rooms/16926307?location...  "
      ]
     },
     "execution_count": 7,
     "metadata": {},
     "output_type": "execute_result"
    }
   ],
   "source": [
    "#Example of a tsv document cleaned\n",
    "pd.read_csv('documentsCleaned/doc_2.tsv', sep='\\t', encoding='utf-8')"
   ]
  },
  {
   "cell_type": "markdown",
   "metadata": {},
   "source": [
    "## 3.1) Conjunctive query"
   ]
  },
  {
   "cell_type": "markdown",
   "metadata": {},
   "source": [
    "At this moment, we are taking into account the description and title of each document. It means that the first Search Engine will evaluate queries with respect to the aforementioned information."
   ]
  },
  {
   "cell_type": "markdown",
   "metadata": {},
   "source": [
    "### 3.1.1) Create your index!"
   ]
  },
  {
   "cell_type": "markdown",
   "metadata": {},
   "source": [
    "Create a inverted index of this format:\n",
    "\n",
    "{\n",
    "term_id_1:[document_1, document_2, document_4],\n",
    "term_id_2:[document_1, document_3, document_5, document_6],\n",
    "...}\n",
    "\n",
    "Here we start creating a dic --> invertedIndex to store all the values.\n",
    "Then we loop trough all documents adding docs to the inverted index using invertedIndexAdd function"
   ]
  },
  {
   "cell_type": "code",
   "execution_count": 8,
   "metadata": {},
   "outputs": [],
   "source": [
    "# Start inverted index\n",
    "invertedIndex = {}\n",
    "\n",
    "# Loop all documents and make the inverted index\n",
    "for i in range(0, nRowsOrFiles): \n",
    "    doc = pd.read_csv('documentsCleaned/doc_'+str(i)+'.tsv', sep='\\t', encoding='utf-8')\n",
    "    invertedIndex = library.invertedIndexAdd(invertedIndex, 'doc_'+str(i), doc, 'description')\n",
    "    invertedIndex = library.invertedIndexAdd(invertedIndex, 'doc_'+str(i), doc, 'title')"
   ]
  },
  {
   "cell_type": "markdown",
   "metadata": {},
   "source": [
    "Let's see the inverted index created:"
   ]
  },
  {
   "cell_type": "code",
   "execution_count": 9,
   "metadata": {},
   "outputs": [
    {
     "name": "stdout",
     "output_type": "stream",
     "text": [
      "\u001b[1mgarden\u001b[0m => doc_1 doc_3 doc_63 doc_77 doc_111 doc_120 doc_127 doc_184 doc_184 doc_217 doc_217 doc_220 doc_300 doc_300 doc_314 doc_371 doc_396 doc_456 doc_496 doc_496\n",
      "\n",
      "\u001b[1mexpensive\u001b[0m => doc_3795 doc_3862 doc_3960 doc_4443 doc_4588 doc_6960 doc_7314 doc_7829 doc_8664 doc_8809 doc_10897 doc_12725 doc_12811 doc_13508 doc_13546 doc_15986 doc_16850 doc_17089 doc_17238\n",
      "\n",
      "\u001b[1mbeautiful\u001b[0m => doc_1 doc_7 doc_11 doc_13 doc_14 doc_21 doc_30 doc_34 doc_35 doc_51 doc_65 doc_68 doc_76 doc_98 doc_107 doc_108 doc_109 doc_117 doc_136 doc_138\n"
     ]
    }
   ],
   "source": [
    "# Print some(20) key and values of the inverted index of each word\n",
    "print(BOLD + 'garden' + END, \"=>\", *invertedIndex[library.cleanString('garden')][0:20])\n",
    "print(\"\")\n",
    "print(BOLD + 'expensive' + END, \"=>\", *invertedIndex[library.cleanString('expensive')][0:20])\n",
    "print(\"\")\n",
    "print(BOLD + 'beautiful' + END, \"=>\", *invertedIndex[library.cleanString('beautiful')][0:20])"
   ]
  },
  {
   "cell_type": "markdown",
   "metadata": {},
   "source": [
    "Writting invertedIndex into inverted_index.txt"
   ]
  },
  {
   "cell_type": "code",
   "execution_count": 10,
   "metadata": {},
   "outputs": [],
   "source": [
    "# Write invertedIndex to a txt file\n",
    "json.dump(invertedIndex, open(\"inverted_index.txt\",'w'))"
   ]
  },
  {
   "cell_type": "markdown",
   "metadata": {},
   "source": [
    "Reading inverted_index.txt as dictionary"
   ]
  },
  {
   "cell_type": "code",
   "execution_count": 11,
   "metadata": {},
   "outputs": [],
   "source": [
    "# Load invertedIndex from a txt file\n",
    "invertedIndex = json.load(open(\"inverted_index.txt\"))"
   ]
  },
  {
   "cell_type": "markdown",
   "metadata": {},
   "source": [
    "### 3.1.2) Execute the query"
   ]
  },
  {
   "cell_type": "markdown",
   "metadata": {},
   "source": [
    "Given a query: *a beautiful house with garden and bedroom* //with beach no found"
   ]
  },
  {
   "cell_type": "code",
   "execution_count": 12,
   "metadata": {},
   "outputs": [],
   "source": [
    "query = 'a beautiful house with garden and bedroom'"
   ]
  },
  {
   "cell_type": "markdown",
   "metadata": {},
   "source": [
    "We search the documents that contain the query through our invertedIndex"
   ]
  },
  {
   "cell_type": "code",
   "execution_count": 13,
   "metadata": {},
   "outputs": [
    {
     "name": "stdout",
     "output_type": "stream",
     "text": [
      "\u001b[1mQuery intruduced: \u001b[0ma beautiful house with garden and bedroom\n",
      "\u001b[1mCleaned query: \u001b[0mbeauti hous garden bedroom\n"
     ]
    }
   ],
   "source": [
    "# Compute the search with the query and obtain a dictionary with the number of matches\n",
    "searchedResults = library.searchQueryConjunctive(invertedIndex, query)"
   ]
  },
  {
   "cell_type": "markdown",
   "metadata": {},
   "source": [
    "We sort the documents by frecuency of appearance to see if there are conjunctive results"
   ]
  },
  {
   "cell_type": "code",
   "execution_count": 14,
   "metadata": {},
   "outputs": [
    {
     "name": "stdout",
     "output_type": "stream",
     "text": [
      "\u001b[1mSorted Documents and Matches:\u001b[0m ('doc_14552', 4) ('doc_14254', 4) ('doc_2823', 4) ('doc_11603', 4) ('doc_5509', 4) ('doc_1', 4) ('doc_566', 4) ('doc_11331', 4) ('doc_6447', 4) ('doc_15035', 4) ('doc_6225', 4) ('doc_12312', 3)\n",
      "\u001b[1mNumber of cleaned words:\u001b[0m 4\n"
     ]
    }
   ],
   "source": [
    "# Sort the results\n",
    "sortedResults = sorted(searchedResults.items(), key=lambda kv: -kv[1])\n",
    "# Print 12 sorted results\n",
    "print(BOLD + 'Sorted Documents and Matches:' + END, *sortedResults[0:12])\n",
    "# Find how many cleaned words contain the query\n",
    "numberOfQueryWords = len( library.cleanString(query).split() )\n",
    "print(BOLD + 'Number of cleaned words:' + END, numberOfQueryWords)"
   ]
  },
  {
   "cell_type": "markdown",
   "metadata": {},
   "source": [
    "Look if the doc have the same coincidences as the number of query words to just show that results"
   ]
  },
  {
   "cell_type": "code",
   "execution_count": 15,
   "metadata": {},
   "outputs": [
    {
     "name": "stdout",
     "output_type": "stream",
     "text": [
      "\u001b[1mCONJUCTIVE RESULTS FOUND\u001b[0m\n"
     ]
    },
    {
     "data": {
      "text/html": [
       "<div>\n",
       "<style scoped>\n",
       "    .dataframe tbody tr th:only-of-type {\n",
       "        vertical-align: middle;\n",
       "    }\n",
       "\n",
       "    .dataframe tbody tr th {\n",
       "        vertical-align: top;\n",
       "    }\n",
       "\n",
       "    .dataframe thead th {\n",
       "        text-align: right;\n",
       "    }\n",
       "</style>\n",
       "<table border=\"1\" class=\"dataframe\">\n",
       "  <thead>\n",
       "    <tr style=\"text-align: right;\">\n",
       "      <th></th>\n",
       "      <th>title</th>\n",
       "      <th>description</th>\n",
       "      <th>city</th>\n",
       "      <th>url</th>\n",
       "    </tr>\n",
       "  </thead>\n",
       "  <tbody>\n",
       "    <tr>\n",
       "      <th>0</th>\n",
       "      <td>New!3BR Fort Worth House near AT&amp;T Stadium w/ ...</td>\n",
       "      <td>Explore the City of Cowboys and Culture from t...</td>\n",
       "      <td>Fort Worth</td>\n",
       "      <td>https://www.airbnb.com/rooms/19193017?location...</td>\n",
       "    </tr>\n",
       "    <tr>\n",
       "      <th>1</th>\n",
       "      <td>Garden Bedroom</td>\n",
       "      <td>Comfortable and private, the garden bedroom is...</td>\n",
       "      <td>Austin</td>\n",
       "      <td>https://www.airbnb.com/rooms/5096161?location=...</td>\n",
       "    </tr>\n",
       "    <tr>\n",
       "      <th>2</th>\n",
       "      <td>Unique Location! Alamo Heights - Designer Insp...</td>\n",
       "      <td>Stylish, fully remodeled home in upscale NW – ...</td>\n",
       "      <td>San Antonio</td>\n",
       "      <td>https://www.airbnb.com/rooms/17481455?location...</td>\n",
       "    </tr>\n",
       "    <tr>\n",
       "      <th>3</th>\n",
       "      <td>Rooms at Rehoboth</td>\n",
       "      <td>Step back into yesterday in this old Victorian...</td>\n",
       "      <td>Temple</td>\n",
       "      <td>https://www.airbnb.com/rooms/18055961?location...</td>\n",
       "    </tr>\n",
       "    <tr>\n",
       "      <th>4</th>\n",
       "      <td>Beautiful queen bedroom in NW Austin</td>\n",
       "      <td>My house is close to Lakeline Mall, highways a...</td>\n",
       "      <td>Austin</td>\n",
       "      <td>https://www.airbnb.com/rooms/16755710?location...</td>\n",
       "    </tr>\n",
       "    <tr>\n",
       "      <th>5</th>\n",
       "      <td>Unique Location! Alamo Heights - Designer Insp...</td>\n",
       "      <td>Stylish, fully remodeled home in upscale NW – ...</td>\n",
       "      <td>San Antonio</td>\n",
       "      <td>https://www.airbnb.com/rooms/17481455?location...</td>\n",
       "    </tr>\n",
       "    <tr>\n",
       "      <th>6</th>\n",
       "      <td>Beautiful king bedroom in NW Austin</td>\n",
       "      <td>My house is close to Lakeline Mall, highways a...</td>\n",
       "      <td>Austin</td>\n",
       "      <td>https://www.airbnb.com/rooms/15162593?location...</td>\n",
       "    </tr>\n",
       "    <tr>\n",
       "      <th>7</th>\n",
       "      <td>Rooms at Rehoboth</td>\n",
       "      <td>Step back into yesterday in this old Victorian...</td>\n",
       "      <td>Temple</td>\n",
       "      <td>https://www.airbnb.com/rooms/18055961?location...</td>\n",
       "    </tr>\n",
       "    <tr>\n",
       "      <th>8</th>\n",
       "      <td>New!3BR Fort Worth House near AT&amp;T Stadium w/ ...</td>\n",
       "      <td>Explore the City of Cowboys and Culture from t...</td>\n",
       "      <td>Fort Worth</td>\n",
       "      <td>https://www.airbnb.com/rooms/19193017?location...</td>\n",
       "    </tr>\n",
       "    <tr>\n",
       "      <th>9</th>\n",
       "      <td>Unique Location! Alamo Heights - Designer Insp...</td>\n",
       "      <td>Stylish, fully remodeled home in upscale NW – ...</td>\n",
       "      <td>San Antonio</td>\n",
       "      <td>https://www.airbnb.com/rooms/17481455?location...</td>\n",
       "    </tr>\n",
       "    <tr>\n",
       "      <th>10</th>\n",
       "      <td>Home Away from Home in Spring, TX</td>\n",
       "      <td>Beautiful 2100 sq. ft house! Three bedroom and...</td>\n",
       "      <td>Spring</td>\n",
       "      <td>https://www.airbnb.com/rooms/1521227?location=...</td>\n",
       "    </tr>\n",
       "  </tbody>\n",
       "</table>\n",
       "</div>"
      ],
      "text/plain": [
       "                                                title  \\\n",
       "0   New!3BR Fort Worth House near AT&T Stadium w/ ...   \n",
       "1                                      Garden Bedroom   \n",
       "2   Unique Location! Alamo Heights - Designer Insp...   \n",
       "3                                   Rooms at Rehoboth   \n",
       "4                Beautiful queen bedroom in NW Austin   \n",
       "5   Unique Location! Alamo Heights - Designer Insp...   \n",
       "6                 Beautiful king bedroom in NW Austin   \n",
       "7                                   Rooms at Rehoboth   \n",
       "8   New!3BR Fort Worth House near AT&T Stadium w/ ...   \n",
       "9   Unique Location! Alamo Heights - Designer Insp...   \n",
       "10                  Home Away from Home in Spring, TX   \n",
       "\n",
       "                                          description         city  \\\n",
       "0   Explore the City of Cowboys and Culture from t...   Fort Worth   \n",
       "1   Comfortable and private, the garden bedroom is...       Austin   \n",
       "2   Stylish, fully remodeled home in upscale NW – ...  San Antonio   \n",
       "3   Step back into yesterday in this old Victorian...       Temple   \n",
       "4   My house is close to Lakeline Mall, highways a...       Austin   \n",
       "5   Stylish, fully remodeled home in upscale NW – ...  San Antonio   \n",
       "6   My house is close to Lakeline Mall, highways a...       Austin   \n",
       "7   Step back into yesterday in this old Victorian...       Temple   \n",
       "8   Explore the City of Cowboys and Culture from t...   Fort Worth   \n",
       "9   Stylish, fully remodeled home in upscale NW – ...  San Antonio   \n",
       "10  Beautiful 2100 sq. ft house! Three bedroom and...       Spring   \n",
       "\n",
       "                                                  url  \n",
       "0   https://www.airbnb.com/rooms/19193017?location...  \n",
       "1   https://www.airbnb.com/rooms/5096161?location=...  \n",
       "2   https://www.airbnb.com/rooms/17481455?location...  \n",
       "3   https://www.airbnb.com/rooms/18055961?location...  \n",
       "4   https://www.airbnb.com/rooms/16755710?location...  \n",
       "5   https://www.airbnb.com/rooms/17481455?location...  \n",
       "6   https://www.airbnb.com/rooms/15162593?location...  \n",
       "7   https://www.airbnb.com/rooms/18055961?location...  \n",
       "8   https://www.airbnb.com/rooms/19193017?location...  \n",
       "9   https://www.airbnb.com/rooms/17481455?location...  \n",
       "10  https://www.airbnb.com/rooms/1521227?location=...  "
      ]
     },
     "metadata": {},
     "output_type": "display_data"
    }
   ],
   "source": [
    "# Compute a list of conjunctive matches containing each tsv file\n",
    "listMatches = library.listOfConjunctiveMatches(searchedResults, numberOfQueryWords)\n",
    "        \n",
    "# If dfs_match is not empty, process the results, if not print no results\n",
    "if(len(listMatches) != 0):\n",
    "    print(BOLD + \"CONJUCTIVE RESULTS FOUND\" + END)\n",
    "    # Concatenate all data into one DataFrame\n",
    "    big_frame = pd.concat(listMatches, ignore_index=True)\n",
    "    # Reorder columns \n",
    "    df = big_frame.loc[:, ['title', 'description', 'city', 'url']]\n",
    "    # Display dataframe result of the query\n",
    "    display(df)\n",
    "else:\n",
    "    print(BOLD + \"NO CONJUCTIVE RESULTS FOUND\" + END)"
   ]
  },
  {
   "cell_type": "markdown",
   "metadata": {},
   "source": [
    "## 3.2) Conjunctive query & Ranking score"
   ]
  },
  {
   "cell_type": "markdown",
   "metadata": {},
   "source": [
    "In the new Search Engine, given a query, we want to get the top-k documents related to the query. In particular:\n",
    "\n",
    "- Find all the documents that contains all the words in the query (as before...).\n",
    "- Sort them by their similarity with the query\n",
    "- Return in output k documents, or all the documents with non-zero similarity with the query when the results are less than k. You must use a heap data structure (you can use Python libraries) for maintaining the top-k documents.\n",
    "\n",
    "To solve this task we are using *tfIdf score*, and the *Cosine similarity*."
   ]
  },
  {
   "cell_type": "markdown",
   "metadata": {},
   "source": [
    "### 3.2.1) Inverted index scored TF-IDF"
   ]
  },
  {
   "cell_type": "markdown",
   "metadata": {},
   "source": [
    "{\n",
    "term_id_1:[(document1, tfIdf_{term,document1}), (document2, tfIdf_{term,document2}), (document4, tfIdf_{term,document4}), ...],\n",
    "term_id_2:[(document1, tfIdf_{term,document1}), (document3, tfIdf_{term,document3}), (document5, tfIdf_{term,document5}), (document6, tfIdf_{term,document6}), ...],\n",
    "...}"
   ]
  },
  {
   "cell_type": "code",
   "execution_count": 16,
   "metadata": {},
   "outputs": [],
   "source": [
    "# Start inverted index scored\n",
    "invertedIndexScored = {}\n",
    "\n",
    "# Loop all documents and make the inverted index\n",
    "for i in range(0, nRowsOrFiles): \n",
    "    invertedIndexScored = library.invertedIndexScoredAdd(invertedIndexScored, 'doc_'+str(i), invertedIndex, nRowsOrFiles)"
   ]
  },
  {
   "cell_type": "markdown",
   "metadata": {},
   "source": [
    "Let's see the inverted index scored created using tf-idf score"
   ]
  },
  {
   "cell_type": "code",
   "execution_count": 17,
   "metadata": {
    "scrolled": false
   },
   "outputs": [
    {
     "name": "stdout",
     "output_type": "stream",
     "text": [
      "\u001b[1mgarden\u001b[0m => ('doc_1', 3.2670637278023134) ('doc_3', 3.2670637278023134) ('doc_63', 3.2670637278023134) ('doc_77', 3.2670637278023134) ('doc_111', 3.2670637278023134) ('doc_120', 3.2670637278023134) ('doc_127', 3.2670637278023134) ('doc_184', 6.534127455604627) ('doc_217', 6.534127455604627) ('doc_220', 3.2670637278023134)\n",
      "\n",
      "\u001b[1mexpensive\u001b[0m => ('doc_3795', 6.8679744089702925) ('doc_3862', 6.8679744089702925) ('doc_3960', 6.8679744089702925) ('doc_4443', 6.8679744089702925) ('doc_4588', 6.8679744089702925) ('doc_6960', 6.8679744089702925) ('doc_7314', 6.8679744089702925) ('doc_7829', 6.8679744089702925) ('doc_8664', 6.8679744089702925) ('doc_8809', 6.8679744089702925)\n",
      "\n",
      "\u001b[1mbeautiful\u001b[0m => ('doc_1', 1.6132240290586652) ('doc_7', 1.6132240290586652) ('doc_11', 1.6132240290586652) ('doc_13', 1.6132240290586652) ('doc_14', 1.6132240290586652) ('doc_21', 1.6132240290586652) ('doc_30', 1.6132240290586652) ('doc_34', 1.6132240290586652) ('doc_35', 1.6132240290586652) ('doc_51', 1.6132240290586652)\n"
     ]
    }
   ],
   "source": [
    "# Print some(10) key and values of the inverted index scored\n",
    "print(BOLD + 'garden' + END, \"=>\", *invertedIndexScored[library.cleanString('garden')][0:10])\n",
    "print(\"\")\n",
    "print(BOLD + 'expensive' + END, \"=>\", *invertedIndexScored[library.cleanString('expensive')][0:10])\n",
    "print(\"\")\n",
    "print(BOLD + 'beautiful' + END, \"=>\", *invertedIndexScored[library.cleanString('beautiful')][0:10])"
   ]
  },
  {
   "cell_type": "markdown",
   "metadata": {},
   "source": [
    "Writting invertedIndexScored into inverted_index_scored.txt:"
   ]
  },
  {
   "cell_type": "code",
   "execution_count": 18,
   "metadata": {},
   "outputs": [],
   "source": [
    "# Write invertedIndex to a txt file\n",
    "json.dump(invertedIndexScored, open(\"inverted_index_scored.txt\",'w'))"
   ]
  },
  {
   "cell_type": "markdown",
   "metadata": {},
   "source": [
    "Reading inverted_index_scored.txt as dictionary"
   ]
  },
  {
   "cell_type": "code",
   "execution_count": 19,
   "metadata": {},
   "outputs": [],
   "source": [
    "# Load invertedIndex from a txt file\n",
    "# Note: changes () for [] \n",
    "# invertedIndexScored = json.load(open(\"inverted_index_scored.txt\"))"
   ]
  },
  {
   "cell_type": "markdown",
   "metadata": {},
   "source": [
    "### 3.2.2) Execute the query cosine similarity"
   ]
  },
  {
   "cell_type": "markdown",
   "metadata": {},
   "source": [
    "To know which are the most similar documents according to the query we are using scoring function \"Cosine Similarity\" with respect to the tfIdf representations of the documents.\n",
    "Given a query, that you let the user enter: a beautiful house with garden and beach\n",
    "The Search Engine return a list of documents, ranked by their Cosine Similarity with respect to the query entered in input."
   ]
  },
  {
   "cell_type": "markdown",
   "metadata": {},
   "source": [
    "This is the query for the search engine:"
   ]
  },
  {
   "cell_type": "code",
   "execution_count": 20,
   "metadata": {},
   "outputs": [],
   "source": [
    "queryCos = 'a beautiful house with garden and bedroom'"
   ]
  },
  {
   "cell_type": "markdown",
   "metadata": {},
   "source": [
    "This function looks for the conjunctive results and looks for the documents that have conjunctive match and save the doc_id"
   ]
  },
  {
   "cell_type": "code",
   "execution_count": 21,
   "metadata": {},
   "outputs": [
    {
     "name": "stdout",
     "output_type": "stream",
     "text": [
      "\u001b[1mQuery intruduced: \u001b[0ma beautiful house with garden and bedroom\n",
      "\u001b[1mCleaned query: \u001b[0mbeauti hous garden bedroom\n",
      "\u001b[1mNumber of query words:\u001b[0m 4\n",
      "\u001b[1mNumber of conjunctive matches:\u001b[0m 11\n"
     ]
    }
   ],
   "source": [
    "conjunctiveDocId = library.getListOfConjunctiveDocIds(invertedIndex, queryCos)"
   ]
  },
  {
   "cell_type": "markdown",
   "metadata": {},
   "source": [
    "If there are conjunctive matches we only compute the cosineSimilarity of matches with computeCosineSim function, if not of all the results"
   ]
  },
  {
   "cell_type": "code",
   "execution_count": 22,
   "metadata": {},
   "outputs": [
    {
     "name": "stdout",
     "output_type": "stream",
     "text": [
      "\u001b[1mTuples 'doc_id' and 'cos_sim':\u001b[0m (0.45691675698941003, 'doc_14552') (0.33258454004986665, 'doc_14254') (0.364744247752949, 'doc_2823') (0.4301237939159375, 'doc_11603') (0.4268023249509337, 'doc_5509') (0.364744247752949, 'doc_1') (0.4268023249509337, 'doc_566') (0.4301237939159375, 'doc_11331') (0.45691675698941003, 'doc_6447') (0.364744247752949, 'doc_15035') (0.6499198728162784, 'doc_6225')\n"
     ]
    }
   ],
   "source": [
    "# List of tuples containing doc_id and cos_simmilarity\n",
    "cosSimResults = library.computeCosineSim(conjunctiveDocId, nRowsOrFiles, queryCos, invertedIndexScored)\n",
    "# Print result limited to 20 values\n",
    "print(BOLD + \"Tuples 'doc_id' and 'cos_sim':\" + END, *cosSimResults[0:20])"
   ]
  },
  {
   "cell_type": "markdown",
   "metadata": {},
   "source": [
    "Ordering results with heap algorithm"
   ]
  },
  {
   "cell_type": "code",
   "execution_count": 23,
   "metadata": {},
   "outputs": [
    {
     "name": "stdout",
     "output_type": "stream",
     "text": [
      "\u001b[1mOrdered tuples 'doc_id' and 'cos_sim':\u001b[0m (0.6499198728162784, 'doc_6225') (0.45691675698941003, 'doc_6447') (0.45691675698941003, 'doc_14552') (0.4301237939159375, 'doc_11603') (0.4301237939159375, 'doc_11331') (0.4268023249509337, 'doc_566') (0.4268023249509337, 'doc_5509') (0.364744247752949, 'doc_2823') (0.364744247752949, 'doc_15035') (0.364744247752949, 'doc_1') (0.33258454004986665, 'doc_14254')\n"
     ]
    }
   ],
   "source": [
    "# Order the data by cosine similarity\n",
    "sortedCosSim = heapq.nlargest(len(cosSimResults), cosSimResults)\n",
    "#sortedCosSim = sorted(cosSimResults, key=lambda kv:-kv[1])\n",
    "# Print result sorted limited to 20 values\n",
    "print(BOLD + \"Ordered tuples 'doc_id' and 'cos_sim':\" + END, *sortedCosSim[0:20])"
   ]
  },
  {
   "cell_type": "markdown",
   "metadata": {},
   "source": [
    "After that, we look for the data to create a dataframe and show the results of the search with computeAndDisplayCosineSimilarityDataFrame function:"
   ]
  },
  {
   "cell_type": "code",
   "execution_count": 24,
   "metadata": {},
   "outputs": [
    {
     "name": "stdout",
     "output_type": "stream",
     "text": [
      "\u001b[1mCONJUNCTIVE RESULTS\u001b[0m\n"
     ]
    },
    {
     "data": {
      "text/html": [
       "<div>\n",
       "<style scoped>\n",
       "    .dataframe tbody tr th:only-of-type {\n",
       "        vertical-align: middle;\n",
       "    }\n",
       "\n",
       "    .dataframe tbody tr th {\n",
       "        vertical-align: top;\n",
       "    }\n",
       "\n",
       "    .dataframe thead th {\n",
       "        text-align: right;\n",
       "    }\n",
       "</style>\n",
       "<table border=\"1\" class=\"dataframe\">\n",
       "  <thead>\n",
       "    <tr style=\"text-align: right;\">\n",
       "      <th></th>\n",
       "      <th>title</th>\n",
       "      <th>description</th>\n",
       "      <th>city</th>\n",
       "      <th>url</th>\n",
       "      <th>similarity</th>\n",
       "    </tr>\n",
       "  </thead>\n",
       "  <tbody>\n",
       "    <tr>\n",
       "      <th>0</th>\n",
       "      <td>Home Away from Home in Spring, TX</td>\n",
       "      <td>Beautiful 2100 sq. ft house! Three bedroom and...</td>\n",
       "      <td>Spring</td>\n",
       "      <td>https://www.airbnb.com/rooms/1521227?location=...</td>\n",
       "      <td>0.649920</td>\n",
       "    </tr>\n",
       "    <tr>\n",
       "      <th>1</th>\n",
       "      <td>New!3BR Fort Worth House near AT&amp;T Stadium w/ ...</td>\n",
       "      <td>Explore the City of Cowboys and Culture from t...</td>\n",
       "      <td>Fort Worth</td>\n",
       "      <td>https://www.airbnb.com/rooms/19193017?location...</td>\n",
       "      <td>0.456917</td>\n",
       "    </tr>\n",
       "    <tr>\n",
       "      <th>2</th>\n",
       "      <td>New!3BR Fort Worth House near AT&amp;T Stadium w/ ...</td>\n",
       "      <td>Explore the City of Cowboys and Culture from t...</td>\n",
       "      <td>Fort Worth</td>\n",
       "      <td>https://www.airbnb.com/rooms/19193017?location...</td>\n",
       "      <td>0.456917</td>\n",
       "    </tr>\n",
       "    <tr>\n",
       "      <th>3</th>\n",
       "      <td>Rooms at Rehoboth</td>\n",
       "      <td>Step back into yesterday in this old Victorian...</td>\n",
       "      <td>Temple</td>\n",
       "      <td>https://www.airbnb.com/rooms/18055961?location...</td>\n",
       "      <td>0.430124</td>\n",
       "    </tr>\n",
       "    <tr>\n",
       "      <th>4</th>\n",
       "      <td>Rooms at Rehoboth</td>\n",
       "      <td>Step back into yesterday in this old Victorian...</td>\n",
       "      <td>Temple</td>\n",
       "      <td>https://www.airbnb.com/rooms/18055961?location...</td>\n",
       "      <td>0.430124</td>\n",
       "    </tr>\n",
       "    <tr>\n",
       "      <th>5</th>\n",
       "      <td>Beautiful king bedroom in NW Austin</td>\n",
       "      <td>My house is close to Lakeline Mall, highways a...</td>\n",
       "      <td>Austin</td>\n",
       "      <td>https://www.airbnb.com/rooms/15162593?location...</td>\n",
       "      <td>0.426802</td>\n",
       "    </tr>\n",
       "    <tr>\n",
       "      <th>6</th>\n",
       "      <td>Beautiful queen bedroom in NW Austin</td>\n",
       "      <td>My house is close to Lakeline Mall, highways a...</td>\n",
       "      <td>Austin</td>\n",
       "      <td>https://www.airbnb.com/rooms/16755710?location...</td>\n",
       "      <td>0.426802</td>\n",
       "    </tr>\n",
       "    <tr>\n",
       "      <th>7</th>\n",
       "      <td>Unique Location! Alamo Heights - Designer Insp...</td>\n",
       "      <td>Stylish, fully remodeled home in upscale NW – ...</td>\n",
       "      <td>San Antonio</td>\n",
       "      <td>https://www.airbnb.com/rooms/17481455?location...</td>\n",
       "      <td>0.364744</td>\n",
       "    </tr>\n",
       "    <tr>\n",
       "      <th>8</th>\n",
       "      <td>Unique Location! Alamo Heights - Designer Insp...</td>\n",
       "      <td>Stylish, fully remodeled home in upscale NW – ...</td>\n",
       "      <td>San Antonio</td>\n",
       "      <td>https://www.airbnb.com/rooms/17481455?location...</td>\n",
       "      <td>0.364744</td>\n",
       "    </tr>\n",
       "    <tr>\n",
       "      <th>9</th>\n",
       "      <td>Unique Location! Alamo Heights - Designer Insp...</td>\n",
       "      <td>Stylish, fully remodeled home in upscale NW – ...</td>\n",
       "      <td>San Antonio</td>\n",
       "      <td>https://www.airbnb.com/rooms/17481455?location...</td>\n",
       "      <td>0.364744</td>\n",
       "    </tr>\n",
       "    <tr>\n",
       "      <th>10</th>\n",
       "      <td>Garden Bedroom</td>\n",
       "      <td>Comfortable and private, the garden bedroom is...</td>\n",
       "      <td>Austin</td>\n",
       "      <td>https://www.airbnb.com/rooms/5096161?location=...</td>\n",
       "      <td>0.332585</td>\n",
       "    </tr>\n",
       "  </tbody>\n",
       "</table>\n",
       "</div>"
      ],
      "text/plain": [
       "                                                title  \\\n",
       "0                   Home Away from Home in Spring, TX   \n",
       "1   New!3BR Fort Worth House near AT&T Stadium w/ ...   \n",
       "2   New!3BR Fort Worth House near AT&T Stadium w/ ...   \n",
       "3                                   Rooms at Rehoboth   \n",
       "4                                   Rooms at Rehoboth   \n",
       "5                 Beautiful king bedroom in NW Austin   \n",
       "6                Beautiful queen bedroom in NW Austin   \n",
       "7   Unique Location! Alamo Heights - Designer Insp...   \n",
       "8   Unique Location! Alamo Heights - Designer Insp...   \n",
       "9   Unique Location! Alamo Heights - Designer Insp...   \n",
       "10                                     Garden Bedroom   \n",
       "\n",
       "                                          description         city  \\\n",
       "0   Beautiful 2100 sq. ft house! Three bedroom and...       Spring   \n",
       "1   Explore the City of Cowboys and Culture from t...   Fort Worth   \n",
       "2   Explore the City of Cowboys and Culture from t...   Fort Worth   \n",
       "3   Step back into yesterday in this old Victorian...       Temple   \n",
       "4   Step back into yesterday in this old Victorian...       Temple   \n",
       "5   My house is close to Lakeline Mall, highways a...       Austin   \n",
       "6   My house is close to Lakeline Mall, highways a...       Austin   \n",
       "7   Stylish, fully remodeled home in upscale NW – ...  San Antonio   \n",
       "8   Stylish, fully remodeled home in upscale NW – ...  San Antonio   \n",
       "9   Stylish, fully remodeled home in upscale NW – ...  San Antonio   \n",
       "10  Comfortable and private, the garden bedroom is...       Austin   \n",
       "\n",
       "                                                  url  similarity  \n",
       "0   https://www.airbnb.com/rooms/1521227?location=...    0.649920  \n",
       "1   https://www.airbnb.com/rooms/19193017?location...    0.456917  \n",
       "2   https://www.airbnb.com/rooms/19193017?location...    0.456917  \n",
       "3   https://www.airbnb.com/rooms/18055961?location...    0.430124  \n",
       "4   https://www.airbnb.com/rooms/18055961?location...    0.430124  \n",
       "5   https://www.airbnb.com/rooms/15162593?location...    0.426802  \n",
       "6   https://www.airbnb.com/rooms/16755710?location...    0.426802  \n",
       "7   https://www.airbnb.com/rooms/17481455?location...    0.364744  \n",
       "8   https://www.airbnb.com/rooms/17481455?location...    0.364744  \n",
       "9   https://www.airbnb.com/rooms/17481455?location...    0.364744  \n",
       "10  https://www.airbnb.com/rooms/5096161?location=...    0.332585  "
      ]
     },
     "metadata": {},
     "output_type": "display_data"
    }
   ],
   "source": [
    "library.makeAndDisplayCosineSimilarityDataFrame(sortedCosSim, conjunctiveDocId) "
   ]
  },
  {
   "cell_type": "markdown",
   "metadata": {},
   "source": [
    "# Step 4: Define a new score!"
   ]
  },
  {
   "cell_type": "markdown",
   "metadata": {},
   "source": [
    "As we have seen, we have all this data for each house:\n",
    "\n",
    "- *average_price_per_night, bedrooms_count, city, date_of_listing, description, latitude, longitude, title, url*\n",
    "\n",
    "We are going to take into account this values: *average_price_per_night, bedroom_count, city* to make the new score"
   ]
  },
  {
   "cell_type": "markdown",
   "metadata": {},
   "source": [
    "We start from the results obtained in the step 3.1 that are:"
   ]
  },
  {
   "cell_type": "code",
   "execution_count": 25,
   "metadata": {},
   "outputs": [],
   "source": [
    "queryNew = 'a beautiful house with garden and bedroom'"
   ]
  },
  {
   "cell_type": "code",
   "execution_count": 26,
   "metadata": {},
   "outputs": [
    {
     "name": "stdout",
     "output_type": "stream",
     "text": [
      "\u001b[1mQuery intruduced: \u001b[0ma beautiful house with garden and bedroom\n",
      "\u001b[1mCleaned query: \u001b[0mbeauti hous garden bedroom\n",
      "\u001b[1mNumber of query words:\u001b[0m 4\n",
      "\u001b[1mNumber of conjunctive matches:\u001b[0m 11\n"
     ]
    }
   ],
   "source": [
    "conjunctiveDocId = library.getListOfConjunctiveDocIds(invertedIndex, queryNew)"
   ]
  },
  {
   "cell_type": "code",
   "execution_count": 27,
   "metadata": {},
   "outputs": [
    {
     "name": "stdout",
     "output_type": "stream",
     "text": [
      "\u001b[1mCONJUNCTIVE RESULTS\u001b[0m\n"
     ]
    },
    {
     "data": {
      "text/html": [
       "<div>\n",
       "<style scoped>\n",
       "    .dataframe tbody tr th:only-of-type {\n",
       "        vertical-align: middle;\n",
       "    }\n",
       "\n",
       "    .dataframe tbody tr th {\n",
       "        vertical-align: top;\n",
       "    }\n",
       "\n",
       "    .dataframe thead th {\n",
       "        text-align: right;\n",
       "    }\n",
       "</style>\n",
       "<table border=\"1\" class=\"dataframe\">\n",
       "  <thead>\n",
       "    <tr style=\"text-align: right;\">\n",
       "      <th></th>\n",
       "      <th>average_rate_per_night</th>\n",
       "      <th>bedrooms_count</th>\n",
       "      <th>city</th>\n",
       "      <th>description</th>\n",
       "      <th>title</th>\n",
       "      <th>url</th>\n",
       "      <th>doc_id</th>\n",
       "    </tr>\n",
       "  </thead>\n",
       "  <tbody>\n",
       "    <tr>\n",
       "      <th>0</th>\n",
       "      <td>245</td>\n",
       "      <td>3</td>\n",
       "      <td>Fort Worth</td>\n",
       "      <td>Explore the City of Cowboys and Culture from t...</td>\n",
       "      <td>New!3BR Fort Worth House near AT&amp;T Stadium w/ ...</td>\n",
       "      <td>https://www.airbnb.com/rooms/19193017?location...</td>\n",
       "      <td>doc_14552</td>\n",
       "    </tr>\n",
       "    <tr>\n",
       "      <th>1</th>\n",
       "      <td>45</td>\n",
       "      <td>1</td>\n",
       "      <td>Austin</td>\n",
       "      <td>Comfortable and private, the garden bedroom is...</td>\n",
       "      <td>Garden Bedroom</td>\n",
       "      <td>https://www.airbnb.com/rooms/5096161?location=...</td>\n",
       "      <td>doc_14254</td>\n",
       "    </tr>\n",
       "    <tr>\n",
       "      <th>2</th>\n",
       "      <td>149</td>\n",
       "      <td>4</td>\n",
       "      <td>San Antonio</td>\n",
       "      <td>Stylish, fully remodeled home in upscale NW – ...</td>\n",
       "      <td>Unique Location! Alamo Heights - Designer Insp...</td>\n",
       "      <td>https://www.airbnb.com/rooms/17481455?location...</td>\n",
       "      <td>doc_2823</td>\n",
       "    </tr>\n",
       "    <tr>\n",
       "      <th>3</th>\n",
       "      <td>50</td>\n",
       "      <td>1</td>\n",
       "      <td>Temple</td>\n",
       "      <td>Step back into yesterday in this old Victorian...</td>\n",
       "      <td>Rooms at Rehoboth</td>\n",
       "      <td>https://www.airbnb.com/rooms/18055961?location...</td>\n",
       "      <td>doc_11603</td>\n",
       "    </tr>\n",
       "    <tr>\n",
       "      <th>4</th>\n",
       "      <td>32</td>\n",
       "      <td>1</td>\n",
       "      <td>Austin</td>\n",
       "      <td>My house is close to Lakeline Mall, highways a...</td>\n",
       "      <td>Beautiful queen bedroom in NW Austin</td>\n",
       "      <td>https://www.airbnb.com/rooms/16755710?location...</td>\n",
       "      <td>doc_5509</td>\n",
       "    </tr>\n",
       "    <tr>\n",
       "      <th>5</th>\n",
       "      <td>149</td>\n",
       "      <td>4</td>\n",
       "      <td>San Antonio</td>\n",
       "      <td>Stylish, fully remodeled home in upscale NW – ...</td>\n",
       "      <td>Unique Location! Alamo Heights - Designer Insp...</td>\n",
       "      <td>https://www.airbnb.com/rooms/17481455?location...</td>\n",
       "      <td>doc_1</td>\n",
       "    </tr>\n",
       "    <tr>\n",
       "      <th>6</th>\n",
       "      <td>37</td>\n",
       "      <td>1</td>\n",
       "      <td>Austin</td>\n",
       "      <td>My house is close to Lakeline Mall, highways a...</td>\n",
       "      <td>Beautiful king bedroom in NW Austin</td>\n",
       "      <td>https://www.airbnb.com/rooms/15162593?location...</td>\n",
       "      <td>doc_566</td>\n",
       "    </tr>\n",
       "    <tr>\n",
       "      <th>7</th>\n",
       "      <td>50</td>\n",
       "      <td>1</td>\n",
       "      <td>Temple</td>\n",
       "      <td>Step back into yesterday in this old Victorian...</td>\n",
       "      <td>Rooms at Rehoboth</td>\n",
       "      <td>https://www.airbnb.com/rooms/18055961?location...</td>\n",
       "      <td>doc_11331</td>\n",
       "    </tr>\n",
       "    <tr>\n",
       "      <th>8</th>\n",
       "      <td>245</td>\n",
       "      <td>3</td>\n",
       "      <td>Fort Worth</td>\n",
       "      <td>Explore the City of Cowboys and Culture from t...</td>\n",
       "      <td>New!3BR Fort Worth House near AT&amp;T Stadium w/ ...</td>\n",
       "      <td>https://www.airbnb.com/rooms/19193017?location...</td>\n",
       "      <td>doc_6447</td>\n",
       "    </tr>\n",
       "    <tr>\n",
       "      <th>9</th>\n",
       "      <td>149</td>\n",
       "      <td>4</td>\n",
       "      <td>San Antonio</td>\n",
       "      <td>Stylish, fully remodeled home in upscale NW – ...</td>\n",
       "      <td>Unique Location! Alamo Heights - Designer Insp...</td>\n",
       "      <td>https://www.airbnb.com/rooms/17481455?location...</td>\n",
       "      <td>doc_15035</td>\n",
       "    </tr>\n",
       "    <tr>\n",
       "      <th>10</th>\n",
       "      <td>169</td>\n",
       "      <td>3</td>\n",
       "      <td>Spring</td>\n",
       "      <td>Beautiful 2100 sq. ft house! Three bedroom and...</td>\n",
       "      <td>Home Away from Home in Spring, TX</td>\n",
       "      <td>https://www.airbnb.com/rooms/1521227?location=...</td>\n",
       "      <td>doc_6225</td>\n",
       "    </tr>\n",
       "  </tbody>\n",
       "</table>\n",
       "</div>"
      ],
      "text/plain": [
       "    average_rate_per_night  bedrooms_count         city  \\\n",
       "0                      245               3   Fort Worth   \n",
       "1                       45               1       Austin   \n",
       "2                      149               4  San Antonio   \n",
       "3                       50               1       Temple   \n",
       "4                       32               1       Austin   \n",
       "5                      149               4  San Antonio   \n",
       "6                       37               1       Austin   \n",
       "7                       50               1       Temple   \n",
       "8                      245               3   Fort Worth   \n",
       "9                      149               4  San Antonio   \n",
       "10                     169               3       Spring   \n",
       "\n",
       "                                          description  \\\n",
       "0   Explore the City of Cowboys and Culture from t...   \n",
       "1   Comfortable and private, the garden bedroom is...   \n",
       "2   Stylish, fully remodeled home in upscale NW – ...   \n",
       "3   Step back into yesterday in this old Victorian...   \n",
       "4   My house is close to Lakeline Mall, highways a...   \n",
       "5   Stylish, fully remodeled home in upscale NW – ...   \n",
       "6   My house is close to Lakeline Mall, highways a...   \n",
       "7   Step back into yesterday in this old Victorian...   \n",
       "8   Explore the City of Cowboys and Culture from t...   \n",
       "9   Stylish, fully remodeled home in upscale NW – ...   \n",
       "10  Beautiful 2100 sq. ft house! Three bedroom and...   \n",
       "\n",
       "                                                title  \\\n",
       "0   New!3BR Fort Worth House near AT&T Stadium w/ ...   \n",
       "1                                      Garden Bedroom   \n",
       "2   Unique Location! Alamo Heights - Designer Insp...   \n",
       "3                                   Rooms at Rehoboth   \n",
       "4                Beautiful queen bedroom in NW Austin   \n",
       "5   Unique Location! Alamo Heights - Designer Insp...   \n",
       "6                 Beautiful king bedroom in NW Austin   \n",
       "7                                   Rooms at Rehoboth   \n",
       "8   New!3BR Fort Worth House near AT&T Stadium w/ ...   \n",
       "9   Unique Location! Alamo Heights - Designer Insp...   \n",
       "10                  Home Away from Home in Spring, TX   \n",
       "\n",
       "                                                  url     doc_id  \n",
       "0   https://www.airbnb.com/rooms/19193017?location...  doc_14552  \n",
       "1   https://www.airbnb.com/rooms/5096161?location=...  doc_14254  \n",
       "2   https://www.airbnb.com/rooms/17481455?location...   doc_2823  \n",
       "3   https://www.airbnb.com/rooms/18055961?location...  doc_11603  \n",
       "4   https://www.airbnb.com/rooms/16755710?location...   doc_5509  \n",
       "5   https://www.airbnb.com/rooms/17481455?location...      doc_1  \n",
       "6   https://www.airbnb.com/rooms/15162593?location...    doc_566  \n",
       "7   https://www.airbnb.com/rooms/18055961?location...  doc_11331  \n",
       "8   https://www.airbnb.com/rooms/19193017?location...   doc_6447  \n",
       "9   https://www.airbnb.com/rooms/17481455?location...  doc_15035  \n",
       "10  https://www.airbnb.com/rooms/1521227?location=...   doc_6225  "
      ]
     },
     "metadata": {},
     "output_type": "display_data"
    }
   ],
   "source": [
    "df = library.returnAndShowDatasetConjunctiveResults(conjunctiveDocId)"
   ]
  },
  {
   "cell_type": "markdown",
   "metadata": {},
   "source": [
    "Here we compute the normalized score of the number of bedroom, the average prize per night and if the city appears in the query"
   ]
  },
  {
   "cell_type": "code",
   "execution_count": 28,
   "metadata": {},
   "outputs": [],
   "source": [
    "normalizedBedrooms = library.dicNormalized(conjunctiveDocId, df, \"bedrooms_count\")\n",
    "normalizedPrices = library.dicNormalized(conjunctiveDocId, df, \"average_rate_per_night\")\n",
    "normalizedCityQuery = library.dicMatchCityQuery(conjunctiveDocId, queryNew, df)"
   ]
  },
  {
   "cell_type": "markdown",
   "metadata": {},
   "source": [
    "Let's print the results of the normalized scores of each category:"
   ]
  },
  {
   "cell_type": "code",
   "execution_count": 29,
   "metadata": {},
   "outputs": [
    {
     "name": "stdout",
     "output_type": "stream",
     "text": [
      "\u001b[1mNomalized values of bedrooms\u001b[0m ('doc_14552', -0.75) ('doc_14254', -0.25) ('doc_2823', -1.0) ('doc_11603', -0.25) ('doc_5509', -0.25) ('doc_1', -1.0) ('doc_566', -0.25) ('doc_11331', -0.25) ('doc_6447', -0.75) ('doc_15035', -1.0) ('doc_6225', -0.75)\n",
      "\u001b[1mNomalized values of prices\u001b[0m ('doc_14552', -1.0) ('doc_14254', -0.1836734693877551) ('doc_2823', -0.6081632653061224) ('doc_11603', -0.20408163265306123) ('doc_5509', -0.1306122448979592) ('doc_1', -0.6081632653061224) ('doc_566', -0.1510204081632653) ('doc_11331', -0.20408163265306123) ('doc_6447', -1.0) ('doc_15035', -0.6081632653061224) ('doc_6225', -0.689795918367347)\n",
      "\u001b[1mCoincidence query city\u001b[0m ('doc_14552', 0) ('doc_14254', 0) ('doc_2823', 0) ('doc_11603', 0) ('doc_5509', 0) ('doc_1', 0) ('doc_566', 0) ('doc_11331', 0) ('doc_6447', 0) ('doc_15035', 0) ('doc_6225', 0)\n"
     ]
    }
   ],
   "source": [
    "print(BOLD + \"Nomalized values of bedrooms\" + END, *normalizedBedrooms.items())\n",
    "print(BOLD + \"Nomalized values of prices\" + END, *normalizedPrices.items())\n",
    "print(BOLD + \"Coincidence query city\" + END, *normalizedCityQuery.items())"
   ]
  },
  {
   "cell_type": "markdown",
   "metadata": {},
   "source": [
    "We compute the summatory of the scores computed before of each doc:"
   ]
  },
  {
   "cell_type": "code",
   "execution_count": 30,
   "metadata": {},
   "outputs": [
    {
     "name": "stdout",
     "output_type": "stream",
     "text": [
      "(-1.75, 'doc_14552') (-0.4336734693877551, 'doc_14254') (-1.6081632653061224, 'doc_2823') (-0.45408163265306123, 'doc_11603') (-0.3806122448979592, 'doc_5509') (-1.6081632653061224, 'doc_1') (-0.40102040816326534, 'doc_566') (-0.45408163265306123, 'doc_11331') (-1.75, 'doc_6447') (-1.6081632653061224, 'doc_15035') (-1.439795918367347, 'doc_6225')\n"
     ]
    }
   ],
   "source": [
    "scoredNewDocs = library.listOfComputeScores(conjunctiveDocId, normalizedBedrooms, normalizedCityQuery, normalizedPrices)\n",
    "print(*scoredNewDocs)"
   ]
  },
  {
   "cell_type": "markdown",
   "metadata": {},
   "source": [
    "Sort the scores with heap algorithm of each doc:"
   ]
  },
  {
   "cell_type": "code",
   "execution_count": 31,
   "metadata": {},
   "outputs": [
    {
     "name": "stdout",
     "output_type": "stream",
     "text": [
      "(-0.3806122448979592, 'doc_5509') (-0.40102040816326534, 'doc_566') (-0.4336734693877551, 'doc_14254') (-0.45408163265306123, 'doc_11603') (-0.45408163265306123, 'doc_11331') (-1.439795918367347, 'doc_6225') (-1.6081632653061224, 'doc_2823') (-1.6081632653061224, 'doc_15035') (-1.6081632653061224, 'doc_1') (-1.75, 'doc_6447') (-1.75, 'doc_14552')\n"
     ]
    }
   ],
   "source": [
    "# Order the data by cosine similarity\n",
    "sortedScoredNewDocs = heapq.nlargest(len(scoredNewDocs), scoredNewDocs)\n",
    "print(*sortedScoredNewDocs)"
   ]
  },
  {
   "cell_type": "markdown",
   "metadata": {},
   "source": [
    "Print the results. We have scored negative if has many bedrooms and if it is expensive and positive if the query contains the city:"
   ]
  },
  {
   "cell_type": "code",
   "execution_count": 32,
   "metadata": {},
   "outputs": [
    {
     "data": {
      "text/html": [
       "<div>\n",
       "<style scoped>\n",
       "    .dataframe tbody tr th:only-of-type {\n",
       "        vertical-align: middle;\n",
       "    }\n",
       "\n",
       "    .dataframe tbody tr th {\n",
       "        vertical-align: top;\n",
       "    }\n",
       "\n",
       "    .dataframe thead th {\n",
       "        text-align: right;\n",
       "    }\n",
       "</style>\n",
       "<table border=\"1\" class=\"dataframe\">\n",
       "  <thead>\n",
       "    <tr style=\"text-align: right;\">\n",
       "      <th></th>\n",
       "      <th>city</th>\n",
       "      <th>description</th>\n",
       "      <th>title</th>\n",
       "      <th>url</th>\n",
       "    </tr>\n",
       "  </thead>\n",
       "  <tbody>\n",
       "    <tr>\n",
       "      <th>0</th>\n",
       "      <td>Austin</td>\n",
       "      <td>My house is close to Lakeline Mall, highways a...</td>\n",
       "      <td>Beautiful queen bedroom in NW Austin</td>\n",
       "      <td>https://www.airbnb.com/rooms/16755710?location...</td>\n",
       "    </tr>\n",
       "    <tr>\n",
       "      <th>1</th>\n",
       "      <td>Austin</td>\n",
       "      <td>My house is close to Lakeline Mall, highways a...</td>\n",
       "      <td>Beautiful king bedroom in NW Austin</td>\n",
       "      <td>https://www.airbnb.com/rooms/15162593?location...</td>\n",
       "    </tr>\n",
       "    <tr>\n",
       "      <th>2</th>\n",
       "      <td>Austin</td>\n",
       "      <td>Comfortable and private, the garden bedroom is...</td>\n",
       "      <td>Garden Bedroom</td>\n",
       "      <td>https://www.airbnb.com/rooms/5096161?location=...</td>\n",
       "    </tr>\n",
       "    <tr>\n",
       "      <th>3</th>\n",
       "      <td>Temple</td>\n",
       "      <td>Step back into yesterday in this old Victorian...</td>\n",
       "      <td>Rooms at Rehoboth</td>\n",
       "      <td>https://www.airbnb.com/rooms/18055961?location...</td>\n",
       "    </tr>\n",
       "    <tr>\n",
       "      <th>4</th>\n",
       "      <td>Temple</td>\n",
       "      <td>Step back into yesterday in this old Victorian...</td>\n",
       "      <td>Rooms at Rehoboth</td>\n",
       "      <td>https://www.airbnb.com/rooms/18055961?location...</td>\n",
       "    </tr>\n",
       "    <tr>\n",
       "      <th>5</th>\n",
       "      <td>Spring</td>\n",
       "      <td>Beautiful 2100 sq. ft house! Three bedroom and...</td>\n",
       "      <td>Home Away from Home in Spring, TX</td>\n",
       "      <td>https://www.airbnb.com/rooms/1521227?location=...</td>\n",
       "    </tr>\n",
       "    <tr>\n",
       "      <th>6</th>\n",
       "      <td>San Antonio</td>\n",
       "      <td>Stylish, fully remodeled home in upscale NW – ...</td>\n",
       "      <td>Unique Location! Alamo Heights - Designer Insp...</td>\n",
       "      <td>https://www.airbnb.com/rooms/17481455?location...</td>\n",
       "    </tr>\n",
       "    <tr>\n",
       "      <th>7</th>\n",
       "      <td>San Antonio</td>\n",
       "      <td>Stylish, fully remodeled home in upscale NW – ...</td>\n",
       "      <td>Unique Location! Alamo Heights - Designer Insp...</td>\n",
       "      <td>https://www.airbnb.com/rooms/17481455?location...</td>\n",
       "    </tr>\n",
       "    <tr>\n",
       "      <th>8</th>\n",
       "      <td>San Antonio</td>\n",
       "      <td>Stylish, fully remodeled home in upscale NW – ...</td>\n",
       "      <td>Unique Location! Alamo Heights - Designer Insp...</td>\n",
       "      <td>https://www.airbnb.com/rooms/17481455?location...</td>\n",
       "    </tr>\n",
       "    <tr>\n",
       "      <th>9</th>\n",
       "      <td>Fort Worth</td>\n",
       "      <td>Explore the City of Cowboys and Culture from t...</td>\n",
       "      <td>New!3BR Fort Worth House near AT&amp;T Stadium w/ ...</td>\n",
       "      <td>https://www.airbnb.com/rooms/19193017?location...</td>\n",
       "    </tr>\n",
       "    <tr>\n",
       "      <th>10</th>\n",
       "      <td>Fort Worth</td>\n",
       "      <td>Explore the City of Cowboys and Culture from t...</td>\n",
       "      <td>New!3BR Fort Worth House near AT&amp;T Stadium w/ ...</td>\n",
       "      <td>https://www.airbnb.com/rooms/19193017?location...</td>\n",
       "    </tr>\n",
       "  </tbody>\n",
       "</table>\n",
       "</div>"
      ],
      "text/plain": [
       "           city                                        description  \\\n",
       "0        Austin  My house is close to Lakeline Mall, highways a...   \n",
       "1        Austin  My house is close to Lakeline Mall, highways a...   \n",
       "2        Austin  Comfortable and private, the garden bedroom is...   \n",
       "3        Temple  Step back into yesterday in this old Victorian...   \n",
       "4        Temple  Step back into yesterday in this old Victorian...   \n",
       "5        Spring  Beautiful 2100 sq. ft house! Three bedroom and...   \n",
       "6   San Antonio  Stylish, fully remodeled home in upscale NW – ...   \n",
       "7   San Antonio  Stylish, fully remodeled home in upscale NW – ...   \n",
       "8   San Antonio  Stylish, fully remodeled home in upscale NW – ...   \n",
       "9    Fort Worth  Explore the City of Cowboys and Culture from t...   \n",
       "10   Fort Worth  Explore the City of Cowboys and Culture from t...   \n",
       "\n",
       "                                                title  \\\n",
       "0                Beautiful queen bedroom in NW Austin   \n",
       "1                 Beautiful king bedroom in NW Austin   \n",
       "2                                      Garden Bedroom   \n",
       "3                                   Rooms at Rehoboth   \n",
       "4                                   Rooms at Rehoboth   \n",
       "5                   Home Away from Home in Spring, TX   \n",
       "6   Unique Location! Alamo Heights - Designer Insp...   \n",
       "7   Unique Location! Alamo Heights - Designer Insp...   \n",
       "8   Unique Location! Alamo Heights - Designer Insp...   \n",
       "9   New!3BR Fort Worth House near AT&T Stadium w/ ...   \n",
       "10  New!3BR Fort Worth House near AT&T Stadium w/ ...   \n",
       "\n",
       "                                                  url  \n",
       "0   https://www.airbnb.com/rooms/16755710?location...  \n",
       "1   https://www.airbnb.com/rooms/15162593?location...  \n",
       "2   https://www.airbnb.com/rooms/5096161?location=...  \n",
       "3   https://www.airbnb.com/rooms/18055961?location...  \n",
       "4   https://www.airbnb.com/rooms/18055961?location...  \n",
       "5   https://www.airbnb.com/rooms/1521227?location=...  \n",
       "6   https://www.airbnb.com/rooms/17481455?location...  \n",
       "7   https://www.airbnb.com/rooms/17481455?location...  \n",
       "8   https://www.airbnb.com/rooms/17481455?location...  \n",
       "9   https://www.airbnb.com/rooms/19193017?location...  \n",
       "10  https://www.airbnb.com/rooms/19193017?location...  "
      ]
     },
     "metadata": {},
     "output_type": "display_data"
    }
   ],
   "source": [
    "df = library.returnAndShowDatasetResultsOwnScore(sortedScoredNewDocs)"
   ]
  },
  {
   "cell_type": "markdown",
   "metadata": {},
   "source": [
    "# Bonus Step\n"
   ]
  },
  {
   "cell_type": "markdown",
   "metadata": {},
   "source": [
    "In this step we are going to plot the map of Texas and the houses inside a range. At first, we have to fill the latitude and longitude of the map that we want to print. After that fill radio value to filter the search arround that point."
   ]
  },
  {
   "cell_type": "code",
   "execution_count": 155,
   "metadata": {
    "scrolled": true
   },
   "outputs": [],
   "source": [
    "#Input values:\n",
    "latitude = 29.8\n",
    "longitude = -95.0\n",
    "radio = 15000 #meters"
   ]
  },
  {
   "cell_type": "markdown",
   "metadata": {},
   "source": [
    "Here we are creating usefull variables for our code:"
   ]
  },
  {
   "cell_type": "code",
   "execution_count": 156,
   "metadata": {},
   "outputs": [],
   "source": [
    "# Aux variables:\n",
    "nRowsOrFiles = airbnbrentals.shape[0] #Number of files\n",
    "startPoint = (latitude, longitude)"
   ]
  },
  {
   "cell_type": "markdown",
   "metadata": {},
   "source": [
    "At this point we want to plot a map starting from the latitude and longitude given before:"
   ]
  },
  {
   "cell_type": "code",
   "execution_count": 157,
   "metadata": {},
   "outputs": [
    {
     "name": "stdout",
     "output_type": "stream",
     "text": [
      "\n"
     ]
    }
   ],
   "source": [
    "# Draw map from coordinates given\n",
    "m = folium.Map(location=[latitude, longitude], zoom_start=11, tiles='Stamen Terrain')\n",
    "\n",
    "# To add a circle to the map\n",
    "folium.Circle(location=[latitude, longitude], radius=radio, color='#3186cc', fill=True, fill_color='#3186cc').add_to(m)"
   ]
  },
  {
   "cell_type": "markdown",
   "metadata": {},
   "source": [
    "Now we need to find all the houses that are inside the radio given. So we are using this function to calculate distances and add to a list all the doc_id that are inside:"
   ]
  },
  {
   "cell_type": "code",
   "execution_count": 158,
   "metadata": {},
   "outputs": [],
   "source": [
    "#List of doc_id of houses that are inside the radio\n",
    "docIdHousesInRadio = library.serchDocIdHousesInRadio(nRowsOrFiles, startPoint, radio)"
   ]
  },
  {
   "cell_type": "markdown",
   "metadata": {},
   "source": [
    "Finally we are adding the doc_id obtained before to the map using this function:"
   ]
  },
  {
   "cell_type": "code",
   "execution_count": 159,
   "metadata": {},
   "outputs": [],
   "source": [
    "#Add houses to map        \n",
    "library.addHouseToMap(docIdHousesInRadio, m)"
   ]
  },
  {
   "cell_type": "markdown",
   "metadata": {},
   "source": [
    "Show map:"
   ]
  },
  {
   "cell_type": "code",
   "execution_count": 160,
   "metadata": {},
   "outputs": [
    {
     "data": {
      "text/html": [
       "<div style=\"width:100%;\"><div style=\"position:relative;width:100%;height:0;padding-bottom:60%;\"><iframe src=\"data:text/html;charset=utf-8;base64,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\" style=\"position:absolute;width:100%;height:100%;left:0;top:0;border:none !important;\" allowfullscreen webkitallowfullscreen mozallowfullscreen></iframe></div></div>"
      ],
      "text/plain": [
       "<folium.folium.Map at 0x26d26f06898>"
      ]
     },
     "execution_count": 160,
     "metadata": {},
     "output_type": "execute_result"
    }
   ],
   "source": [
    "m"
   ]
  }
 ],
 "metadata": {
  "kernelspec": {
   "display_name": "Python 3",
   "language": "python",
   "name": "python3"
  },
  "language_info": {
   "codemirror_mode": {
    "name": "ipython",
    "version": 3
   },
   "file_extension": ".py",
   "mimetype": "text/x-python",
   "name": "python",
   "nbconvert_exporter": "python",
   "pygments_lexer": "ipython3",
   "version": "3.6.7"
  }
 },
 "nbformat": 4,
 "nbformat_minor": 2
}
