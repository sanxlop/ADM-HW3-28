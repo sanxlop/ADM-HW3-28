{
 "cells": [
  {
   "cell_type": "markdown",
   "metadata": {},
   "source": [
    "# Step 1: Data"
   ]
  },
  {
   "cell_type": "markdown",
   "metadata": {},
   "source": [
    "### Import libraries"
   ]
  },
  {
   "cell_type": "code",
   "execution_count": 1,
   "metadata": {},
   "outputs": [],
   "source": [
    "import pandas as pd\n",
    "import matplotlib.pyplot as plt\n",
    "import datetime \n",
    "import numpy as np\n",
    "import os\n",
    "import nltk\n",
    "from nltk.tokenize import sent_tokenize, word_tokenize\n",
    "from nltk.corpus import stopwords\n",
    "from nltk.tokenize import RegexpTokenizer\n",
    "from nltk.stem.porter import PorterStemmer\n",
    "import json\n",
    "import collections\n",
    "import itertools\n",
    "#nltk.download('punkt')\n",
    "#nltk.download('stopwords')\n",
    "import library #library of functions\n",
    "\n",
    "# To reaload library import\n",
    "from importlib import reload\n",
    "reload(library)\n",
    "\n",
    "# To print results\n",
    "BOLD = '\\033[1m'\n",
    "END = '\\033[0m'"
   ]
  },
  {
   "cell_type": "markdown",
   "metadata": {},
   "source": [
    "We only need some columns values of the Airbnb_Texas_Rentals.csv so we filter the result by:"
   ]
  },
  {
   "cell_type": "code",
   "execution_count": 2,
   "metadata": {},
   "outputs": [],
   "source": [
    "# List of column values needed\n",
    "cols = ['average_rate_per_night', 'bedrooms_count', 'city', 'date_of_listing', 'description', 'latitude', 'longitude', 'title', 'url']\n",
    "# Read the csv file\n",
    "airbnbrentals = pd.read_csv('Airbnb_Texas_Rentals.csv', sep=',', encoding='utf-8', usecols=cols)"
   ]
  },
  {
   "cell_type": "code",
   "execution_count": 3,
   "metadata": {},
   "outputs": [
    {
     "data": {
      "text/html": [
       "<div>\n",
       "<style scoped>\n",
       "    .dataframe tbody tr th:only-of-type {\n",
       "        vertical-align: middle;\n",
       "    }\n",
       "\n",
       "    .dataframe tbody tr th {\n",
       "        vertical-align: top;\n",
       "    }\n",
       "\n",
       "    .dataframe thead th {\n",
       "        text-align: right;\n",
       "    }\n",
       "</style>\n",
       "<table border=\"1\" class=\"dataframe\">\n",
       "  <thead>\n",
       "    <tr style=\"text-align: right;\">\n",
       "      <th></th>\n",
       "      <th>average_rate_per_night</th>\n",
       "      <th>bedrooms_count</th>\n",
       "      <th>city</th>\n",
       "      <th>date_of_listing</th>\n",
       "      <th>description</th>\n",
       "      <th>latitude</th>\n",
       "      <th>longitude</th>\n",
       "      <th>title</th>\n",
       "      <th>url</th>\n",
       "    </tr>\n",
       "  </thead>\n",
       "  <tbody>\n",
       "    <tr>\n",
       "      <th>0</th>\n",
       "      <td>$27</td>\n",
       "      <td>2</td>\n",
       "      <td>Humble</td>\n",
       "      <td>May 2016</td>\n",
       "      <td>Welcome to stay in private room with queen bed...</td>\n",
       "      <td>30.020138</td>\n",
       "      <td>-95.293996</td>\n",
       "      <td>2 Private rooms/bathroom 10min from IAH airport</td>\n",
       "      <td>https://www.airbnb.com/rooms/18520444?location...</td>\n",
       "    </tr>\n",
       "    <tr>\n",
       "      <th>1</th>\n",
       "      <td>$149</td>\n",
       "      <td>4</td>\n",
       "      <td>San Antonio</td>\n",
       "      <td>November 2010</td>\n",
       "      <td>Stylish, fully remodeled home in upscale NW – ...</td>\n",
       "      <td>29.503068</td>\n",
       "      <td>-98.447688</td>\n",
       "      <td>Unique Location! Alamo Heights - Designer Insp...</td>\n",
       "      <td>https://www.airbnb.com/rooms/17481455?location...</td>\n",
       "    </tr>\n",
       "    <tr>\n",
       "      <th>2</th>\n",
       "      <td>$59</td>\n",
       "      <td>1</td>\n",
       "      <td>Houston</td>\n",
       "      <td>January 2017</td>\n",
       "      <td>'River house on island close to the city' \\nA ...</td>\n",
       "      <td>29.829352</td>\n",
       "      <td>-95.081549</td>\n",
       "      <td>River house near the city</td>\n",
       "      <td>https://www.airbnb.com/rooms/16926307?location...</td>\n",
       "    </tr>\n",
       "  </tbody>\n",
       "</table>\n",
       "</div>"
      ],
      "text/plain": [
       "  average_rate_per_night bedrooms_count         city date_of_listing  \\\n",
       "0                    $27              2       Humble        May 2016   \n",
       "1                   $149              4  San Antonio   November 2010   \n",
       "2                    $59              1      Houston    January 2017   \n",
       "\n",
       "                                         description   latitude  longitude  \\\n",
       "0  Welcome to stay in private room with queen bed...  30.020138 -95.293996   \n",
       "1  Stylish, fully remodeled home in upscale NW – ...  29.503068 -98.447688   \n",
       "2  'River house on island close to the city' \\nA ...  29.829352 -95.081549   \n",
       "\n",
       "                                               title  \\\n",
       "0    2 Private rooms/bathroom 10min from IAH airport   \n",
       "1  Unique Location! Alamo Heights - Designer Insp...   \n",
       "2                          River house near the city   \n",
       "\n",
       "                                                 url  \n",
       "0  https://www.airbnb.com/rooms/18520444?location...  \n",
       "1  https://www.airbnb.com/rooms/17481455?location...  \n",
       "2  https://www.airbnb.com/rooms/16926307?location...  "
      ]
     },
     "execution_count": 3,
     "metadata": {},
     "output_type": "execute_result"
    }
   ],
   "source": [
    "# Printed example of 3 rows\n",
    "airbnbrentals.loc[0:2,]"
   ]
  },
  {
   "cell_type": "markdown",
   "metadata": {},
   "source": [
    "# Step 2: Create documents"
   ]
  },
  {
   "cell_type": "markdown",
   "metadata": {},
   "source": [
    "In this step we are creating i tsv files to save all the information. "
   ]
  },
  {
   "cell_type": "code",
   "execution_count": 4,
   "metadata": {},
   "outputs": [],
   "source": [
    "# Create directory to save the documents if doesn't exist\n",
    "directory = \"documents\"\n",
    "if not os.path.exists(directory):\n",
    "    os.makedirs(directory)\n",
    "\n",
    "# Create all tsv files, each per row\n",
    "nRowsOrFiles = airbnbrentals.shape[0] #this variable is the number of rows or files\n",
    "for i in range(0, nRowsOrFiles): \n",
    "    #Write the tsv file\n",
    "    airbnbrentals.loc[i:i,].to_csv('documents/doc_'+str(i)+'.tsv', sep='\\t', encoding='utf-8', index = False)"
   ]
  },
  {
   "cell_type": "code",
   "execution_count": 5,
   "metadata": {
    "scrolled": true
   },
   "outputs": [
    {
     "data": {
      "text/html": [
       "<div>\n",
       "<style scoped>\n",
       "    .dataframe tbody tr th:only-of-type {\n",
       "        vertical-align: middle;\n",
       "    }\n",
       "\n",
       "    .dataframe tbody tr th {\n",
       "        vertical-align: top;\n",
       "    }\n",
       "\n",
       "    .dataframe thead th {\n",
       "        text-align: right;\n",
       "    }\n",
       "</style>\n",
       "<table border=\"1\" class=\"dataframe\">\n",
       "  <thead>\n",
       "    <tr style=\"text-align: right;\">\n",
       "      <th></th>\n",
       "      <th>average_rate_per_night</th>\n",
       "      <th>bedrooms_count</th>\n",
       "      <th>city</th>\n",
       "      <th>date_of_listing</th>\n",
       "      <th>description</th>\n",
       "      <th>latitude</th>\n",
       "      <th>longitude</th>\n",
       "      <th>title</th>\n",
       "      <th>url</th>\n",
       "    </tr>\n",
       "  </thead>\n",
       "  <tbody>\n",
       "    <tr>\n",
       "      <th>0</th>\n",
       "      <td>$59</td>\n",
       "      <td>1</td>\n",
       "      <td>Houston</td>\n",
       "      <td>January 2017</td>\n",
       "      <td>'River house on island close to the city' \\nA ...</td>\n",
       "      <td>29.829352</td>\n",
       "      <td>-95.081549</td>\n",
       "      <td>River house near the city</td>\n",
       "      <td>https://www.airbnb.com/rooms/16926307?location...</td>\n",
       "    </tr>\n",
       "  </tbody>\n",
       "</table>\n",
       "</div>"
      ],
      "text/plain": [
       "  average_rate_per_night  bedrooms_count     city date_of_listing  \\\n",
       "0                    $59               1  Houston    January 2017   \n",
       "\n",
       "                                         description   latitude  longitude  \\\n",
       "0  'River house on island close to the city' \\nA ...  29.829352 -95.081549   \n",
       "\n",
       "                       title  \\\n",
       "0  River house near the city   \n",
       "\n",
       "                                                 url  \n",
       "0  https://www.airbnb.com/rooms/16926307?location...  "
      ]
     },
     "execution_count": 5,
     "metadata": {},
     "output_type": "execute_result"
    }
   ],
   "source": [
    "# Read one tsv file to see result\n",
    "pd.read_csv('documents/doc_2.tsv', sep='\\t', encoding='utf-8')"
   ]
  },
  {
   "cell_type": "markdown",
   "metadata": {},
   "source": [
    "# Step 3: Search Engine"
   ]
  },
  {
   "cell_type": "markdown",
   "metadata": {},
   "source": [
    "As a first common step, we have to preprocess the documents by:\n",
    "\n",
    "- Removing stopwords\n",
    "- Removing punctuation\n",
    "- Stemming\n",
    "- Anything else you think it's needed"
   ]
  },
  {
   "cell_type": "code",
   "execution_count": 6,
   "metadata": {},
   "outputs": [],
   "source": [
    "# Create directory to save the documents if doesn't exist\n",
    "directory = \"documentsCleaned\"\n",
    "if not os.path.exists(directory):\n",
    "    os.makedirs(directory)\n",
    "# This function takes all documents and removes punctuation, stop words and do stemming\n",
    "library.modifyDocs(nRowsOrFiles)"
   ]
  },
  {
   "cell_type": "markdown",
   "metadata": {},
   "source": [
    "Test if it works reading one document:"
   ]
  },
  {
   "cell_type": "code",
   "execution_count": 7,
   "metadata": {},
   "outputs": [
    {
     "data": {
      "text/html": [
       "<div>\n",
       "<style scoped>\n",
       "    .dataframe tbody tr th:only-of-type {\n",
       "        vertical-align: middle;\n",
       "    }\n",
       "\n",
       "    .dataframe tbody tr th {\n",
       "        vertical-align: top;\n",
       "    }\n",
       "\n",
       "    .dataframe thead th {\n",
       "        text-align: right;\n",
       "    }\n",
       "</style>\n",
       "<table border=\"1\" class=\"dataframe\">\n",
       "  <thead>\n",
       "    <tr style=\"text-align: right;\">\n",
       "      <th></th>\n",
       "      <th>average_rate_per_night</th>\n",
       "      <th>bedrooms_count</th>\n",
       "      <th>city</th>\n",
       "      <th>date_of_listing</th>\n",
       "      <th>description</th>\n",
       "      <th>latitude</th>\n",
       "      <th>longitude</th>\n",
       "      <th>title</th>\n",
       "      <th>url</th>\n",
       "    </tr>\n",
       "  </thead>\n",
       "  <tbody>\n",
       "    <tr>\n",
       "      <th>0</th>\n",
       "      <td>$59</td>\n",
       "      <td>1</td>\n",
       "      <td>Houston</td>\n",
       "      <td>January 2017</td>\n",
       "      <td>river hous island close citi nA well maintain ...</td>\n",
       "      <td>29.829352</td>\n",
       "      <td>-95.081549</td>\n",
       "      <td>river hous near citi</td>\n",
       "      <td>https://www.airbnb.com/rooms/16926307?location...</td>\n",
       "    </tr>\n",
       "  </tbody>\n",
       "</table>\n",
       "</div>"
      ],
      "text/plain": [
       "  average_rate_per_night  bedrooms_count     city date_of_listing  \\\n",
       "0                    $59               1  Houston    January 2017   \n",
       "\n",
       "                                         description   latitude  longitude  \\\n",
       "0  river hous island close citi nA well maintain ...  29.829352 -95.081549   \n",
       "\n",
       "                  title                                                url  \n",
       "0  river hous near citi  https://www.airbnb.com/rooms/16926307?location...  "
      ]
     },
     "execution_count": 7,
     "metadata": {},
     "output_type": "execute_result"
    }
   ],
   "source": [
    "#Example of a tsv document cleaned\n",
    "pd.read_csv('documentsCleaned/doc_2.tsv', sep='\\t', encoding='utf-8')"
   ]
  },
  {
   "cell_type": "markdown",
   "metadata": {},
   "source": [
    "## 3.1) Conjunctive query"
   ]
  },
  {
   "cell_type": "markdown",
   "metadata": {},
   "source": [
    "At this moment, we are taking into account the description and title of each document. It means that the first Search Engine will evaluate queries with respect to the aforementioned information."
   ]
  },
  {
   "cell_type": "markdown",
   "metadata": {},
   "source": [
    "### 3.1.1) Create your index!"
   ]
  },
  {
   "cell_type": "markdown",
   "metadata": {},
   "source": [
    "Create a inverted index of this format:\n",
    "\n",
    "{\n",
    "term_id_1:[document_1, document_2, document_4],\n",
    "term_id_2:[document_1, document_3, document_5, document_6],\n",
    "...}\n",
    "\n",
    "Here we start creating a dic --> invertedIndex to store all the values.\n",
    "Then we loop trough all documents adding docs to the inverted index using invertedIndexAdd function"
   ]
  },
  {
   "cell_type": "code",
   "execution_count": 8,
   "metadata": {},
   "outputs": [],
   "source": [
    "# Start inverted index\n",
    "invertedIndex = {}\n",
    "\n",
    "# Loop all documents and make the inverted index\n",
    "for i in range(0, nRowsOrFiles): \n",
    "    \n",
    "    doc = pd.read_csv('documentsCleaned/doc_'+str(i)+'.tsv', sep='\\t', encoding='utf-8')\n",
    "    invertedIndex = library.invertedIndexAdd(invertedIndex, 'doc_'+str(i), doc, 'description')\n",
    "    invertedIndex = library.invertedIndexAdd(invertedIndex, 'doc_'+str(i), doc, 'title')"
   ]
  },
  {
   "cell_type": "markdown",
   "metadata": {},
   "source": [
    "Let's see the inverted index created:"
   ]
  },
  {
   "cell_type": "code",
   "execution_count": 9,
   "metadata": {},
   "outputs": [
    {
     "name": "stdout",
     "output_type": "stream",
     "text": [
      "\u001b[1mseven\u001b[0m => doc_32, doc_277, doc_654, doc_1828, doc_2022, doc_2304, doc_2531, doc_3530, doc_3874, doc_3963, doc_4101, doc_4154, doc_4300, doc_4483, doc_4724, doc_4752, doc_4947, doc_5057, doc_5188, doc_5293, doc_5299, doc_5491, doc_7181, doc_7211, doc_7253, doc_7538, doc_7852, doc_8045, doc_8134, doc_8160, doc_9016, doc_9806, doc_10241, doc_10586, doc_12843, doc_13450, doc_14201, doc_15030, doc_15518, doc_16490, doc_16843, doc_18068\n",
      "\u001b[1mexpensive\u001b[0m => doc_3795, doc_3862, doc_3960, doc_4443, doc_4588, doc_6960, doc_7314, doc_7829, doc_8664, doc_8809, doc_10897, doc_12725, doc_12811, doc_13508, doc_13546, doc_15986, doc_16850, doc_17089, doc_17238\n"
     ]
    }
   ],
   "source": [
    "# Print some key and values of the inverted index\n",
    "print(BOLD + 'seven' + END, \"=>\", \", \".join(invertedIndex[library.cleanString('seven')]))\n",
    "print(BOLD + 'expensive' + END, \"=>\", \", \".join(invertedIndex[library.cleanString('expensive')]))"
   ]
  },
  {
   "cell_type": "markdown",
   "metadata": {},
   "source": [
    "Writting invertedIndex into inverted_index.txt"
   ]
  },
  {
   "cell_type": "code",
   "execution_count": 10,
   "metadata": {},
   "outputs": [],
   "source": [
    "# Write invertedIndex to a txt file\n",
    "json.dump(invertedIndex, open(\"inverted_index.txt\",'w'))"
   ]
  },
  {
   "cell_type": "markdown",
   "metadata": {},
   "source": [
    "Reading inverted_index.txt as dictionary"
   ]
  },
  {
   "cell_type": "code",
   "execution_count": 11,
   "metadata": {},
   "outputs": [],
   "source": [
    "# Load invertedIndex from a txt file\n",
    "invertedIndex = json.load(open(\"inverted_index.txt\"))"
   ]
  },
  {
   "cell_type": "markdown",
   "metadata": {},
   "source": [
    "### 3.1.2) Execute the query"
   ]
  },
  {
   "cell_type": "markdown",
   "metadata": {},
   "source": [
    "Given a query: *a beautiful house with garden and beach*"
   ]
  },
  {
   "cell_type": "code",
   "execution_count": 32,
   "metadata": {},
   "outputs": [],
   "source": [
    "query = 'a beautiful house with bedrooms and garden'"
   ]
  },
  {
   "cell_type": "markdown",
   "metadata": {},
   "source": [
    "We search the documents that contain the query through our invertedIndex"
   ]
  },
  {
   "cell_type": "code",
   "execution_count": 33,
   "metadata": {},
   "outputs": [
    {
     "name": "stdout",
     "output_type": "stream",
     "text": [
      "\u001b[1mQuery intruduced: \u001b[0ma beautiful house with bedrooms and garden\n",
      "\u001b[1mCleaned query: \u001b[0mbeauti hous bedroom garden\n"
     ]
    }
   ],
   "source": [
    "searchedResults = library.searchQueryConjunctive(invertedIndex, query)"
   ]
  },
  {
   "cell_type": "markdown",
   "metadata": {},
   "source": [
    "We short the documents by frecuency of appearance"
   ]
  },
  {
   "cell_type": "code",
   "execution_count": 34,
   "metadata": {},
   "outputs": [
    {
     "name": "stdout",
     "output_type": "stream",
     "text": [
      "\u001b[1mDoc_id and number of coincidences: \u001b[0m[('doc_14254', 4), ('doc_11331', 4), ('doc_6447', 4), ('doc_2823', 4), ('doc_11603', 4), ('doc_566', 4), ('doc_5509', 4), ('doc_1', 4), ('doc_15035', 4), ('doc_6225', 4)]\n",
      "\u001b[1mNumber of cleaned words: \u001b[0m4\n"
     ]
    }
   ],
   "source": [
    "# Short the results\n",
    "sortedResults = sorted(searchedResults.items(), key=lambda kv: -kv[1])\n",
    "# Print 10 shorted results\n",
    "print(BOLD + 'Doc_id and number of coincidences: ' + END + str(sortedResults[0:10]))\n",
    "# Find how many cleaned words contain the query\n",
    "numberOfQueryWords = library.cleanString(query).split()\n",
    "print(BOLD + 'Number of cleaned words: ' + END + str(len(numberOfQueryWords)))"
   ]
  },
  {
   "cell_type": "markdown",
   "metadata": {},
   "source": [
    "Look if the doc have the same coincidences as the number of query words to just show that results"
   ]
  },
  {
   "cell_type": "code",
   "execution_count": 35,
   "metadata": {},
   "outputs": [
    {
     "data": {
      "text/html": [
       "<div>\n",
       "<style scoped>\n",
       "    .dataframe tbody tr th:only-of-type {\n",
       "        vertical-align: middle;\n",
       "    }\n",
       "\n",
       "    .dataframe tbody tr th {\n",
       "        vertical-align: top;\n",
       "    }\n",
       "\n",
       "    .dataframe thead th {\n",
       "        text-align: right;\n",
       "    }\n",
       "</style>\n",
       "<table border=\"1\" class=\"dataframe\">\n",
       "  <thead>\n",
       "    <tr style=\"text-align: right;\">\n",
       "      <th></th>\n",
       "      <th>title</th>\n",
       "      <th>description</th>\n",
       "      <th>city</th>\n",
       "      <th>url</th>\n",
       "    </tr>\n",
       "  </thead>\n",
       "  <tbody>\n",
       "    <tr>\n",
       "      <th>0</th>\n",
       "      <td>2 Private rooms/bathroom 10min from IAH airport</td>\n",
       "      <td>Welcome to stay in private room with queen bed...</td>\n",
       "      <td>Humble</td>\n",
       "      <td>https://www.airbnb.com/rooms/18520444?location...</td>\n",
       "    </tr>\n",
       "    <tr>\n",
       "      <th>1</th>\n",
       "      <td>Unique Location! Alamo Heights - Designer Insp...</td>\n",
       "      <td>Stylish, fully remodeled home in upscale NW – ...</td>\n",
       "      <td>San Antonio</td>\n",
       "      <td>https://www.airbnb.com/rooms/17481455?location...</td>\n",
       "    </tr>\n",
       "    <tr>\n",
       "      <th>2</th>\n",
       "      <td>River house near the city</td>\n",
       "      <td>'River house on island close to the city' \\nA ...</td>\n",
       "      <td>Houston</td>\n",
       "      <td>https://www.airbnb.com/rooms/16926307?location...</td>\n",
       "    </tr>\n",
       "    <tr>\n",
       "      <th>3</th>\n",
       "      <td>Private Room Close to Campus</td>\n",
       "      <td>Private bedroom in a cute little home situated...</td>\n",
       "      <td>Bryan</td>\n",
       "      <td>https://www.airbnb.com/rooms/11839729?location...</td>\n",
       "    </tr>\n",
       "    <tr>\n",
       "      <th>4</th>\n",
       "      <td>The Porch</td>\n",
       "      <td>Welcome to our original 1920's home. We recent...</td>\n",
       "      <td>Fort Worth</td>\n",
       "      <td>https://www.airbnb.com/rooms/17325114?location...</td>\n",
       "    </tr>\n",
       "    <tr>\n",
       "      <th>5</th>\n",
       "      <td>Gorgeous Home with Country Setting</td>\n",
       "      <td>My place is close to Lake Conroe, family-frien...</td>\n",
       "      <td>Conroe</td>\n",
       "      <td>https://www.airbnb.com/rooms/14466133?location...</td>\n",
       "    </tr>\n",
       "    <tr>\n",
       "      <th>6</th>\n",
       "      <td>Cozy and Quaint Country Retreat with Acreage.</td>\n",
       "      <td>Rustic country retreat on 8 acres southeast of...</td>\n",
       "      <td>Cedar Creek</td>\n",
       "      <td>https://www.airbnb.com/rooms/12491762?location...</td>\n",
       "    </tr>\n",
       "    <tr>\n",
       "      <th>7</th>\n",
       "      <td>Friendly Private Room in َQuiet Neighborhood</td>\n",
       "      <td>This is a beautiful bedroom with a queen size ...</td>\n",
       "      <td>Fort Worth</td>\n",
       "      <td>https://www.airbnb.com/rooms/18977363?location...</td>\n",
       "    </tr>\n",
       "    <tr>\n",
       "      <th>8</th>\n",
       "      <td>608 - Bayfront Condos</td>\n",
       "      <td>First class and comfortable condo with the bes...</td>\n",
       "      <td>Rockport</td>\n",
       "      <td>https://www.airbnb.com/rooms/17559848?location...</td>\n",
       "    </tr>\n",
       "    <tr>\n",
       "      <th>9</th>\n",
       "      <td>Cozy Historic Private Studio</td>\n",
       "      <td>Private entrance to your own \\</td>\n",
       "      <td>San Antonio</td>\n",
       "      <td>https://www.airbnb.com/rooms/1588127?location=...</td>\n",
       "    </tr>\n",
       "    <tr>\n",
       "      <th>10</th>\n",
       "      <td>Cozy 1 bedroom/bathroom with pool</td>\n",
       "      <td>My cool and comfortable bedroom apartment feel...</td>\n",
       "      <td>Irving</td>\n",
       "      <td>https://www.airbnb.com/rooms/7276294?location=...</td>\n",
       "    </tr>\n",
       "  </tbody>\n",
       "</table>\n",
       "</div>"
      ],
      "text/plain": [
       "                                                title  \\\n",
       "0     2 Private rooms/bathroom 10min from IAH airport   \n",
       "1   Unique Location! Alamo Heights - Designer Insp...   \n",
       "2                           River house near the city   \n",
       "3                        Private Room Close to Campus   \n",
       "4                                           The Porch   \n",
       "5                  Gorgeous Home with Country Setting   \n",
       "6       Cozy and Quaint Country Retreat with Acreage.   \n",
       "7        Friendly Private Room in َQuiet Neighborhood   \n",
       "8                               608 - Bayfront Condos   \n",
       "9                        Cozy Historic Private Studio   \n",
       "10                  Cozy 1 bedroom/bathroom with pool   \n",
       "\n",
       "                                          description         city  \\\n",
       "0   Welcome to stay in private room with queen bed...       Humble   \n",
       "1   Stylish, fully remodeled home in upscale NW – ...  San Antonio   \n",
       "2   'River house on island close to the city' \\nA ...      Houston   \n",
       "3   Private bedroom in a cute little home situated...        Bryan   \n",
       "4   Welcome to our original 1920's home. We recent...   Fort Worth   \n",
       "5   My place is close to Lake Conroe, family-frien...       Conroe   \n",
       "6   Rustic country retreat on 8 acres southeast of...  Cedar Creek   \n",
       "7   This is a beautiful bedroom with a queen size ...   Fort Worth   \n",
       "8   First class and comfortable condo with the bes...     Rockport   \n",
       "9                      Private entrance to your own \\  San Antonio   \n",
       "10  My cool and comfortable bedroom apartment feel...       Irving   \n",
       "\n",
       "                                                  url  \n",
       "0   https://www.airbnb.com/rooms/18520444?location...  \n",
       "1   https://www.airbnb.com/rooms/17481455?location...  \n",
       "2   https://www.airbnb.com/rooms/16926307?location...  \n",
       "3   https://www.airbnb.com/rooms/11839729?location...  \n",
       "4   https://www.airbnb.com/rooms/17325114?location...  \n",
       "5   https://www.airbnb.com/rooms/14466133?location...  \n",
       "6   https://www.airbnb.com/rooms/12491762?location...  \n",
       "7   https://www.airbnb.com/rooms/18977363?location...  \n",
       "8   https://www.airbnb.com/rooms/17559848?location...  \n",
       "9   https://www.airbnb.com/rooms/1588127?location=...  \n",
       "10  https://www.airbnb.com/rooms/7276294?location=...  "
      ]
     },
     "metadata": {},
     "output_type": "display_data"
    }
   ],
   "source": [
    "# List of pandas df\n",
    "dfs = []\n",
    "# Loop through all the sorted resulst and see if the number of coincidences is equal to the number of words of the query\n",
    "for i in range(0, len(sortedResults)):\n",
    "    if sortedResults[i][1] == len(numberOfQueryWords):\n",
    "        dfs.append(pd.read_csv('documents/doc_'+str(i)+'.tsv', sep='\\t', encoding='utf-8', usecols=['title', 'description', 'city', 'url']))\n",
    "\n",
    "if(len(dfs) != 0):\n",
    "    # Concatenate all data into one DataFrame\n",
    "    big_frame = pd.concat(dfs, ignore_index=True)\n",
    "    # Reorder columns \n",
    "    df = big_frame.loc[:, ['title', 'description', 'city', 'url']]\n",
    "    # Display dataframe result of the query\n",
    "    display(df)\n",
    "else:\n",
    "    print(\"No conjuctive results found\")"
   ]
  },
  {
   "cell_type": "code",
   "execution_count": null,
   "metadata": {},
   "outputs": [],
   "source": []
  }
 ],
 "metadata": {
  "kernelspec": {
   "display_name": "Python 3",
   "language": "python",
   "name": "python3"
  },
  "language_info": {
   "codemirror_mode": {
    "name": "ipython",
    "version": 3
   },
   "file_extension": ".py",
   "mimetype": "text/x-python",
   "name": "python",
   "nbconvert_exporter": "python",
   "pygments_lexer": "ipython3",
   "version": "3.6.5"
  }
 },
 "nbformat": 4,
 "nbformat_minor": 2
}
