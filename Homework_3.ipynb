{
 "cells": [
  {
   "cell_type": "markdown",
   "metadata": {},
   "source": [
    "# Step 1: Data"
   ]
  },
  {
   "cell_type": "markdown",
   "metadata": {},
   "source": [
    "### Import libraries"
   ]
  },
  {
   "cell_type": "code",
   "execution_count": 1,
   "metadata": {},
   "outputs": [],
   "source": [
    "import pandas as pd\n",
    "import matplotlib.pyplot as plt\n",
    "import datetime \n",
    "import numpy as np\n",
    "import os\n",
    "import nltk\n",
    "from nltk.tokenize import sent_tokenize, word_tokenize\n",
    "from nltk.corpus import stopwords\n",
    "from nltk.tokenize import RegexpTokenizer\n",
    "from nltk.stem.porter import PorterStemmer\n",
    "import json\n",
    "import collections\n",
    "import itertools\n",
    "import math\n",
    "#nltk.download('punkt')\n",
    "#nltk.download('stopwords')\n",
    "import library #library of functions\n",
    "\n",
    "# To reaload library import\n",
    "from importlib import reload\n",
    "reload(library)\n",
    "\n",
    "# To print results\n",
    "BOLD = '\\033[1m'\n",
    "END = '\\033[0m'"
   ]
  },
  {
   "cell_type": "markdown",
   "metadata": {},
   "source": [
    "We only need some columns values of the Airbnb_Texas_Rentals.csv so we filter the result by:"
   ]
  },
  {
   "cell_type": "code",
   "execution_count": 2,
   "metadata": {},
   "outputs": [],
   "source": [
    "# List of column values needed\n",
    "cols = ['average_rate_per_night', 'bedrooms_count', 'city', 'date_of_listing', 'description', 'latitude', 'longitude', 'title', 'url']\n",
    "# Read the csv file\n",
    "airbnbrentals = pd.read_csv('Airbnb_Texas_Rentals.csv', sep=',', encoding='utf-8', usecols=cols)"
   ]
  },
  {
   "cell_type": "code",
   "execution_count": 3,
   "metadata": {},
   "outputs": [
    {
     "data": {
      "text/html": [
       "<div>\n",
       "<style scoped>\n",
       "    .dataframe tbody tr th:only-of-type {\n",
       "        vertical-align: middle;\n",
       "    }\n",
       "\n",
       "    .dataframe tbody tr th {\n",
       "        vertical-align: top;\n",
       "    }\n",
       "\n",
       "    .dataframe thead th {\n",
       "        text-align: right;\n",
       "    }\n",
       "</style>\n",
       "<table border=\"1\" class=\"dataframe\">\n",
       "  <thead>\n",
       "    <tr style=\"text-align: right;\">\n",
       "      <th></th>\n",
       "      <th>average_rate_per_night</th>\n",
       "      <th>bedrooms_count</th>\n",
       "      <th>city</th>\n",
       "      <th>date_of_listing</th>\n",
       "      <th>description</th>\n",
       "      <th>latitude</th>\n",
       "      <th>longitude</th>\n",
       "      <th>title</th>\n",
       "      <th>url</th>\n",
       "    </tr>\n",
       "  </thead>\n",
       "  <tbody>\n",
       "    <tr>\n",
       "      <th>0</th>\n",
       "      <td>$27</td>\n",
       "      <td>2</td>\n",
       "      <td>Humble</td>\n",
       "      <td>May 2016</td>\n",
       "      <td>Welcome to stay in private room with queen bed...</td>\n",
       "      <td>30.020138</td>\n",
       "      <td>-95.293996</td>\n",
       "      <td>2 Private rooms/bathroom 10min from IAH airport</td>\n",
       "      <td>https://www.airbnb.com/rooms/18520444?location...</td>\n",
       "    </tr>\n",
       "    <tr>\n",
       "      <th>1</th>\n",
       "      <td>$149</td>\n",
       "      <td>4</td>\n",
       "      <td>San Antonio</td>\n",
       "      <td>November 2010</td>\n",
       "      <td>Stylish, fully remodeled home in upscale NW – ...</td>\n",
       "      <td>29.503068</td>\n",
       "      <td>-98.447688</td>\n",
       "      <td>Unique Location! Alamo Heights - Designer Insp...</td>\n",
       "      <td>https://www.airbnb.com/rooms/17481455?location...</td>\n",
       "    </tr>\n",
       "    <tr>\n",
       "      <th>2</th>\n",
       "      <td>$59</td>\n",
       "      <td>1</td>\n",
       "      <td>Houston</td>\n",
       "      <td>January 2017</td>\n",
       "      <td>'River house on island close to the city' \\nA ...</td>\n",
       "      <td>29.829352</td>\n",
       "      <td>-95.081549</td>\n",
       "      <td>River house near the city</td>\n",
       "      <td>https://www.airbnb.com/rooms/16926307?location...</td>\n",
       "    </tr>\n",
       "  </tbody>\n",
       "</table>\n",
       "</div>"
      ],
      "text/plain": [
       "  average_rate_per_night bedrooms_count         city date_of_listing  \\\n",
       "0                    $27              2       Humble        May 2016   \n",
       "1                   $149              4  San Antonio   November 2010   \n",
       "2                    $59              1      Houston    January 2017   \n",
       "\n",
       "                                         description   latitude  longitude  \\\n",
       "0  Welcome to stay in private room with queen bed...  30.020138 -95.293996   \n",
       "1  Stylish, fully remodeled home in upscale NW – ...  29.503068 -98.447688   \n",
       "2  'River house on island close to the city' \\nA ...  29.829352 -95.081549   \n",
       "\n",
       "                                               title  \\\n",
       "0    2 Private rooms/bathroom 10min from IAH airport   \n",
       "1  Unique Location! Alamo Heights - Designer Insp...   \n",
       "2                          River house near the city   \n",
       "\n",
       "                                                 url  \n",
       "0  https://www.airbnb.com/rooms/18520444?location...  \n",
       "1  https://www.airbnb.com/rooms/17481455?location...  \n",
       "2  https://www.airbnb.com/rooms/16926307?location...  "
      ]
     },
     "execution_count": 3,
     "metadata": {},
     "output_type": "execute_result"
    }
   ],
   "source": [
    "# Printed example of 3 rows\n",
    "airbnbrentals.loc[0:2,]"
   ]
  },
  {
   "cell_type": "markdown",
   "metadata": {},
   "source": [
    "# Step 2: Create documents"
   ]
  },
  {
   "cell_type": "markdown",
   "metadata": {},
   "source": [
    "In this step we are creating i tsv files to save all the information. "
   ]
  },
  {
   "cell_type": "code",
   "execution_count": 4,
   "metadata": {},
   "outputs": [],
   "source": [
    "# Create directory to save the documents if doesn't exist\n",
    "directory = \"documents\"\n",
    "if not os.path.exists(directory):\n",
    "    os.makedirs(directory)\n",
    "\n",
    "# Create all tsv files, each per row\n",
    "nRowsOrFiles = airbnbrentals.shape[0] #this variable is the number of rows or files\n",
    "for i in range(0, nRowsOrFiles): \n",
    "    #Write the tsv file\n",
    "    airbnbrentals.loc[i:i,].to_csv('documents/doc_'+str(i)+'.tsv', sep='\\t', encoding='utf-8', index = False)"
   ]
  },
  {
   "cell_type": "code",
   "execution_count": 5,
   "metadata": {
    "scrolled": true
   },
   "outputs": [
    {
     "data": {
      "text/html": [
       "<div>\n",
       "<style scoped>\n",
       "    .dataframe tbody tr th:only-of-type {\n",
       "        vertical-align: middle;\n",
       "    }\n",
       "\n",
       "    .dataframe tbody tr th {\n",
       "        vertical-align: top;\n",
       "    }\n",
       "\n",
       "    .dataframe thead th {\n",
       "        text-align: right;\n",
       "    }\n",
       "</style>\n",
       "<table border=\"1\" class=\"dataframe\">\n",
       "  <thead>\n",
       "    <tr style=\"text-align: right;\">\n",
       "      <th></th>\n",
       "      <th>average_rate_per_night</th>\n",
       "      <th>bedrooms_count</th>\n",
       "      <th>city</th>\n",
       "      <th>date_of_listing</th>\n",
       "      <th>description</th>\n",
       "      <th>latitude</th>\n",
       "      <th>longitude</th>\n",
       "      <th>title</th>\n",
       "      <th>url</th>\n",
       "    </tr>\n",
       "  </thead>\n",
       "  <tbody>\n",
       "    <tr>\n",
       "      <th>0</th>\n",
       "      <td>$59</td>\n",
       "      <td>1</td>\n",
       "      <td>Houston</td>\n",
       "      <td>January 2017</td>\n",
       "      <td>'River house on island close to the city' \\nA ...</td>\n",
       "      <td>29.829352</td>\n",
       "      <td>-95.081549</td>\n",
       "      <td>River house near the city</td>\n",
       "      <td>https://www.airbnb.com/rooms/16926307?location...</td>\n",
       "    </tr>\n",
       "  </tbody>\n",
       "</table>\n",
       "</div>"
      ],
      "text/plain": [
       "  average_rate_per_night  bedrooms_count     city date_of_listing  \\\n",
       "0                    $59               1  Houston    January 2017   \n",
       "\n",
       "                                         description   latitude  longitude  \\\n",
       "0  'River house on island close to the city' \\nA ...  29.829352 -95.081549   \n",
       "\n",
       "                       title  \\\n",
       "0  River house near the city   \n",
       "\n",
       "                                                 url  \n",
       "0  https://www.airbnb.com/rooms/16926307?location...  "
      ]
     },
     "execution_count": 5,
     "metadata": {},
     "output_type": "execute_result"
    }
   ],
   "source": [
    "# Read one tsv file to see result\n",
    "pd.read_csv('documents/doc_2.tsv', sep='\\t', encoding='utf-8')"
   ]
  },
  {
   "cell_type": "markdown",
   "metadata": {},
   "source": [
    "# Step 3: Search Engine"
   ]
  },
  {
   "cell_type": "markdown",
   "metadata": {},
   "source": [
    "As a first common step, we have to preprocess the documents by:\n",
    "\n",
    "- Removing stopwords\n",
    "- Removing punctuation\n",
    "- Stemming\n",
    "- Anything else you think it's needed"
   ]
  },
  {
   "cell_type": "code",
   "execution_count": 6,
   "metadata": {},
   "outputs": [],
   "source": [
    "# Create directory to save the documents if doesn't exist\n",
    "directory = \"documentsCleaned\"\n",
    "if not os.path.exists(directory):\n",
    "    os.makedirs(directory)\n",
    "# This function takes all documents and removes punctuation, stop words and do stemming\n",
    "library.modifyDocs(nRowsOrFiles)"
   ]
  },
  {
   "cell_type": "markdown",
   "metadata": {},
   "source": [
    "Test if it works reading one document:"
   ]
  },
  {
   "cell_type": "code",
   "execution_count": 7,
   "metadata": {},
   "outputs": [
    {
     "data": {
      "text/html": [
       "<div>\n",
       "<style scoped>\n",
       "    .dataframe tbody tr th:only-of-type {\n",
       "        vertical-align: middle;\n",
       "    }\n",
       "\n",
       "    .dataframe tbody tr th {\n",
       "        vertical-align: top;\n",
       "    }\n",
       "\n",
       "    .dataframe thead th {\n",
       "        text-align: right;\n",
       "    }\n",
       "</style>\n",
       "<table border=\"1\" class=\"dataframe\">\n",
       "  <thead>\n",
       "    <tr style=\"text-align: right;\">\n",
       "      <th></th>\n",
       "      <th>average_rate_per_night</th>\n",
       "      <th>bedrooms_count</th>\n",
       "      <th>city</th>\n",
       "      <th>date_of_listing</th>\n",
       "      <th>description</th>\n",
       "      <th>latitude</th>\n",
       "      <th>longitude</th>\n",
       "      <th>title</th>\n",
       "      <th>url</th>\n",
       "    </tr>\n",
       "  </thead>\n",
       "  <tbody>\n",
       "    <tr>\n",
       "      <th>0</th>\n",
       "      <td>$59</td>\n",
       "      <td>1</td>\n",
       "      <td>Houston</td>\n",
       "      <td>January 2017</td>\n",
       "      <td>river hous island close citi nA well maintain ...</td>\n",
       "      <td>29.829352</td>\n",
       "      <td>-95.081549</td>\n",
       "      <td>river hous near citi</td>\n",
       "      <td>https://www.airbnb.com/rooms/16926307?location...</td>\n",
       "    </tr>\n",
       "  </tbody>\n",
       "</table>\n",
       "</div>"
      ],
      "text/plain": [
       "  average_rate_per_night  bedrooms_count     city date_of_listing  \\\n",
       "0                    $59               1  Houston    January 2017   \n",
       "\n",
       "                                         description   latitude  longitude  \\\n",
       "0  river hous island close citi nA well maintain ...  29.829352 -95.081549   \n",
       "\n",
       "                  title                                                url  \n",
       "0  river hous near citi  https://www.airbnb.com/rooms/16926307?location...  "
      ]
     },
     "execution_count": 7,
     "metadata": {},
     "output_type": "execute_result"
    }
   ],
   "source": [
    "#Example of a tsv document cleaned\n",
    "pd.read_csv('documentsCleaned/doc_2.tsv', sep='\\t', encoding='utf-8')"
   ]
  },
  {
   "cell_type": "markdown",
   "metadata": {},
   "source": [
    "## 3.1) Conjunctive query"
   ]
  },
  {
   "cell_type": "markdown",
   "metadata": {},
   "source": [
    "At this moment, we are taking into account the description and title of each document. It means that the first Search Engine will evaluate queries with respect to the aforementioned information."
   ]
  },
  {
   "cell_type": "markdown",
   "metadata": {},
   "source": [
    "### 3.1.1) Create your index!"
   ]
  },
  {
   "cell_type": "markdown",
   "metadata": {},
   "source": [
    "Create a inverted index of this format:\n",
    "\n",
    "{\n",
    "term_id_1:[document_1, document_2, document_4],\n",
    "term_id_2:[document_1, document_3, document_5, document_6],\n",
    "...}\n",
    "\n",
    "Here we start creating a dic --> invertedIndex to store all the values.\n",
    "Then we loop trough all documents adding docs to the inverted index using invertedIndexAdd function"
   ]
  },
  {
   "cell_type": "code",
   "execution_count": 8,
   "metadata": {},
   "outputs": [],
   "source": [
    "# Start inverted index\n",
    "invertedIndex = {}\n",
    "\n",
    "# Loop all documents and make the inverted index\n",
    "for i in range(0, nRowsOrFiles): \n",
    "    doc = pd.read_csv('documentsCleaned/doc_'+str(i)+'.tsv', sep='\\t', encoding='utf-8')\n",
    "    invertedIndex = library.invertedIndexAdd(invertedIndex, 'doc_'+str(i), doc, 'description')\n",
    "    invertedIndex = library.invertedIndexAdd(invertedIndex, 'doc_'+str(i), doc, 'title')"
   ]
  },
  {
   "cell_type": "markdown",
   "metadata": {},
   "source": [
    "Let's see the inverted index created:"
   ]
  },
  {
   "cell_type": "code",
   "execution_count": 9,
   "metadata": {},
   "outputs": [
    {
     "name": "stdout",
     "output_type": "stream",
     "text": [
      "\u001b[1mgarden\u001b[0m => ['doc_1', 'doc_3', 'doc_63', 'doc_77', 'doc_111', 'doc_120', 'doc_127', 'doc_184', 'doc_184', 'doc_217', 'doc_217', 'doc_220', 'doc_300', 'doc_300', 'doc_314', 'doc_371', 'doc_396', 'doc_456', 'doc_496', 'doc_496']\n",
      "\n",
      "\u001b[1mexpensive\u001b[0m => ['doc_3795', 'doc_3862', 'doc_3960', 'doc_4443', 'doc_4588', 'doc_6960', 'doc_7314', 'doc_7829', 'doc_8664', 'doc_8809', 'doc_10897', 'doc_12725', 'doc_12811', 'doc_13508', 'doc_13546', 'doc_15986', 'doc_16850', 'doc_17089', 'doc_17238']\n",
      "\n",
      "\u001b[1mbeautiful\u001b[0m => ['doc_1', 'doc_7', 'doc_11', 'doc_13', 'doc_14', 'doc_21', 'doc_30', 'doc_34', 'doc_35', 'doc_51', 'doc_65', 'doc_68', 'doc_76', 'doc_98', 'doc_107', 'doc_108', 'doc_109', 'doc_117', 'doc_136', 'doc_138']\n"
     ]
    }
   ],
   "source": [
    "# Print some(20) key and values of the inverted index of each word\n",
    "print(BOLD + 'garden' + END, \"=>\", invertedIndex[library.cleanString('garden')][0:20])\n",
    "print(\"\")\n",
    "print(BOLD + 'expensive' + END, \"=>\", invertedIndex[library.cleanString('expensive')][0:20])\n",
    "print(\"\")\n",
    "print(BOLD + 'beautiful' + END, \"=>\", invertedIndex[library.cleanString('beautiful')][0:20])"
   ]
  },
  {
   "cell_type": "markdown",
   "metadata": {},
   "source": [
    "Writting invertedIndex into inverted_index.txt"
   ]
  },
  {
   "cell_type": "code",
   "execution_count": 10,
   "metadata": {},
   "outputs": [],
   "source": [
    "# Write invertedIndex to a txt file\n",
    "json.dump(invertedIndex, open(\"inverted_index.txt\",'w'))"
   ]
  },
  {
   "cell_type": "markdown",
   "metadata": {},
   "source": [
    "Reading inverted_index.txt as dictionary"
   ]
  },
  {
   "cell_type": "code",
   "execution_count": 11,
   "metadata": {},
   "outputs": [],
   "source": [
    "# Load invertedIndex from a txt file\n",
    "invertedIndex = json.load(open(\"inverted_index.txt\"))"
   ]
  },
  {
   "cell_type": "markdown",
   "metadata": {},
   "source": [
    "### 3.1.2) Execute the query"
   ]
  },
  {
   "cell_type": "markdown",
   "metadata": {},
   "source": [
    "Given a query: *a beautiful house with garden and beach*"
   ]
  },
  {
   "cell_type": "code",
   "execution_count": 12,
   "metadata": {},
   "outputs": [],
   "source": [
    "query = 'a beautiful house with garden and bedroom'"
   ]
  },
  {
   "cell_type": "markdown",
   "metadata": {},
   "source": [
    "We search the documents that contain the query through our invertedIndex"
   ]
  },
  {
   "cell_type": "code",
   "execution_count": 13,
   "metadata": {},
   "outputs": [
    {
     "name": "stdout",
     "output_type": "stream",
     "text": [
      "\u001b[1mQuery intruduced: \u001b[0ma beautiful house with garden and bedroom\n",
      "\u001b[1mCleaned query: \u001b[0mbeauti hous garden bedroom\n"
     ]
    }
   ],
   "source": [
    "# Compute the search with the query and obtain a dictionary with the number of matches\n",
    "searchedResults = library.searchQueryConjunctive(invertedIndex, query)"
   ]
  },
  {
   "cell_type": "markdown",
   "metadata": {},
   "source": [
    "We short the documents by frecuency of appearance to see if there are conjunctive results"
   ]
  },
  {
   "cell_type": "code",
   "execution_count": 14,
   "metadata": {},
   "outputs": [
    {
     "name": "stdout",
     "output_type": "stream",
     "text": [
      "\u001b[1mSorted Documents and Matches: \u001b[0m[('doc_566', 4), ('doc_5509', 4), ('doc_15035', 4), ('doc_6447', 4), ('doc_14254', 4), ('doc_11331', 4), ('doc_11603', 4), ('doc_2823', 4), ('doc_6225', 4), ('doc_1', 4), ('doc_14552', 4), ('doc_9237', 3)]\n",
      "\u001b[1mNumber of cleaned words: \u001b[0m4\n"
     ]
    }
   ],
   "source": [
    "# Sort the results\n",
    "sortedResults = sorted(searchedResults.items(), key=lambda kv: -kv[1])\n",
    "# Print 12 sorted results\n",
    "print(BOLD + 'Sorted Documents and Matches: ' + END + str(sortedResults[0:12]))\n",
    "# Find how many cleaned words contain the query\n",
    "numberOfQueryWords = len( library.cleanString(query).split() )\n",
    "print(BOLD + 'Number of cleaned words: ' + END + str(numberOfQueryWords))"
   ]
  },
  {
   "cell_type": "markdown",
   "metadata": {},
   "source": [
    "Look if the doc have the same coincidences as the number of query words to just show that results"
   ]
  },
  {
   "cell_type": "code",
   "execution_count": 15,
   "metadata": {},
   "outputs": [
    {
     "name": "stdout",
     "output_type": "stream",
     "text": [
      "\u001b[1mCONJUCTIVE RESULTS FOUND\u001b[0m\n"
     ]
    },
    {
     "data": {
      "text/html": [
       "<div>\n",
       "<style scoped>\n",
       "    .dataframe tbody tr th:only-of-type {\n",
       "        vertical-align: middle;\n",
       "    }\n",
       "\n",
       "    .dataframe tbody tr th {\n",
       "        vertical-align: top;\n",
       "    }\n",
       "\n",
       "    .dataframe thead th {\n",
       "        text-align: right;\n",
       "    }\n",
       "</style>\n",
       "<table border=\"1\" class=\"dataframe\">\n",
       "  <thead>\n",
       "    <tr style=\"text-align: right;\">\n",
       "      <th></th>\n",
       "      <th>title</th>\n",
       "      <th>description</th>\n",
       "      <th>city</th>\n",
       "      <th>url</th>\n",
       "    </tr>\n",
       "  </thead>\n",
       "  <tbody>\n",
       "    <tr>\n",
       "      <th>0</th>\n",
       "      <td>Beautiful king bedroom in NW Austin</td>\n",
       "      <td>My house is close to Lakeline Mall, highways a...</td>\n",
       "      <td>Austin</td>\n",
       "      <td>https://www.airbnb.com/rooms/15162593?location...</td>\n",
       "    </tr>\n",
       "    <tr>\n",
       "      <th>1</th>\n",
       "      <td>Beautiful queen bedroom in NW Austin</td>\n",
       "      <td>My house is close to Lakeline Mall, highways a...</td>\n",
       "      <td>Austin</td>\n",
       "      <td>https://www.airbnb.com/rooms/16755710?location...</td>\n",
       "    </tr>\n",
       "    <tr>\n",
       "      <th>2</th>\n",
       "      <td>Unique Location! Alamo Heights - Designer Insp...</td>\n",
       "      <td>Stylish, fully remodeled home in upscale NW – ...</td>\n",
       "      <td>San Antonio</td>\n",
       "      <td>https://www.airbnb.com/rooms/17481455?location...</td>\n",
       "    </tr>\n",
       "    <tr>\n",
       "      <th>3</th>\n",
       "      <td>New!3BR Fort Worth House near AT&amp;T Stadium w/ ...</td>\n",
       "      <td>Explore the City of Cowboys and Culture from t...</td>\n",
       "      <td>Fort Worth</td>\n",
       "      <td>https://www.airbnb.com/rooms/19193017?location...</td>\n",
       "    </tr>\n",
       "    <tr>\n",
       "      <th>4</th>\n",
       "      <td>Garden Bedroom</td>\n",
       "      <td>Comfortable and private, the garden bedroom is...</td>\n",
       "      <td>Austin</td>\n",
       "      <td>https://www.airbnb.com/rooms/5096161?location=...</td>\n",
       "    </tr>\n",
       "    <tr>\n",
       "      <th>5</th>\n",
       "      <td>Rooms at Rehoboth</td>\n",
       "      <td>Step back into yesterday in this old Victorian...</td>\n",
       "      <td>Temple</td>\n",
       "      <td>https://www.airbnb.com/rooms/18055961?location...</td>\n",
       "    </tr>\n",
       "    <tr>\n",
       "      <th>6</th>\n",
       "      <td>Rooms at Rehoboth</td>\n",
       "      <td>Step back into yesterday in this old Victorian...</td>\n",
       "      <td>Temple</td>\n",
       "      <td>https://www.airbnb.com/rooms/18055961?location...</td>\n",
       "    </tr>\n",
       "    <tr>\n",
       "      <th>7</th>\n",
       "      <td>Unique Location! Alamo Heights - Designer Insp...</td>\n",
       "      <td>Stylish, fully remodeled home in upscale NW – ...</td>\n",
       "      <td>San Antonio</td>\n",
       "      <td>https://www.airbnb.com/rooms/17481455?location...</td>\n",
       "    </tr>\n",
       "    <tr>\n",
       "      <th>8</th>\n",
       "      <td>Home Away from Home in Spring, TX</td>\n",
       "      <td>Beautiful 2100 sq. ft house! Three bedroom and...</td>\n",
       "      <td>Spring</td>\n",
       "      <td>https://www.airbnb.com/rooms/1521227?location=...</td>\n",
       "    </tr>\n",
       "    <tr>\n",
       "      <th>9</th>\n",
       "      <td>Unique Location! Alamo Heights - Designer Insp...</td>\n",
       "      <td>Stylish, fully remodeled home in upscale NW – ...</td>\n",
       "      <td>San Antonio</td>\n",
       "      <td>https://www.airbnb.com/rooms/17481455?location...</td>\n",
       "    </tr>\n",
       "    <tr>\n",
       "      <th>10</th>\n",
       "      <td>New!3BR Fort Worth House near AT&amp;T Stadium w/ ...</td>\n",
       "      <td>Explore the City of Cowboys and Culture from t...</td>\n",
       "      <td>Fort Worth</td>\n",
       "      <td>https://www.airbnb.com/rooms/19193017?location...</td>\n",
       "    </tr>\n",
       "  </tbody>\n",
       "</table>\n",
       "</div>"
      ],
      "text/plain": [
       "                                                title  \\\n",
       "0                 Beautiful king bedroom in NW Austin   \n",
       "1                Beautiful queen bedroom in NW Austin   \n",
       "2   Unique Location! Alamo Heights - Designer Insp...   \n",
       "3   New!3BR Fort Worth House near AT&T Stadium w/ ...   \n",
       "4                                      Garden Bedroom   \n",
       "5                                   Rooms at Rehoboth   \n",
       "6                                   Rooms at Rehoboth   \n",
       "7   Unique Location! Alamo Heights - Designer Insp...   \n",
       "8                   Home Away from Home in Spring, TX   \n",
       "9   Unique Location! Alamo Heights - Designer Insp...   \n",
       "10  New!3BR Fort Worth House near AT&T Stadium w/ ...   \n",
       "\n",
       "                                          description         city  \\\n",
       "0   My house is close to Lakeline Mall, highways a...       Austin   \n",
       "1   My house is close to Lakeline Mall, highways a...       Austin   \n",
       "2   Stylish, fully remodeled home in upscale NW – ...  San Antonio   \n",
       "3   Explore the City of Cowboys and Culture from t...   Fort Worth   \n",
       "4   Comfortable and private, the garden bedroom is...       Austin   \n",
       "5   Step back into yesterday in this old Victorian...       Temple   \n",
       "6   Step back into yesterday in this old Victorian...       Temple   \n",
       "7   Stylish, fully remodeled home in upscale NW – ...  San Antonio   \n",
       "8   Beautiful 2100 sq. ft house! Three bedroom and...       Spring   \n",
       "9   Stylish, fully remodeled home in upscale NW – ...  San Antonio   \n",
       "10  Explore the City of Cowboys and Culture from t...   Fort Worth   \n",
       "\n",
       "                                                  url  \n",
       "0   https://www.airbnb.com/rooms/15162593?location...  \n",
       "1   https://www.airbnb.com/rooms/16755710?location...  \n",
       "2   https://www.airbnb.com/rooms/17481455?location...  \n",
       "3   https://www.airbnb.com/rooms/19193017?location...  \n",
       "4   https://www.airbnb.com/rooms/5096161?location=...  \n",
       "5   https://www.airbnb.com/rooms/18055961?location...  \n",
       "6   https://www.airbnb.com/rooms/18055961?location...  \n",
       "7   https://www.airbnb.com/rooms/17481455?location...  \n",
       "8   https://www.airbnb.com/rooms/1521227?location=...  \n",
       "9   https://www.airbnb.com/rooms/17481455?location...  \n",
       "10  https://www.airbnb.com/rooms/19193017?location...  "
      ]
     },
     "metadata": {},
     "output_type": "display_data"
    }
   ],
   "source": [
    "# Compute a list of conjunctive matches containing each tsv file\n",
    "listMatches = library.listOfConjunctiveMatches(searchedResults, numberOfQueryWords)\n",
    "        \n",
    "# If dfs_match is not empty, process the results, if not print no results\n",
    "if(len(listMatches) != 0):\n",
    "    print(BOLD + \"CONJUCTIVE RESULTS FOUND\" + END)\n",
    "    # Concatenate all data into one DataFrame\n",
    "    big_frame = pd.concat(listMatches, ignore_index=True)\n",
    "    # Reorder columns \n",
    "    df = big_frame.loc[:, ['title', 'description', 'city', 'url']]\n",
    "    # Display dataframe result of the query\n",
    "    display(df)\n",
    "else:\n",
    "    print(BOLD + \"NO CONJUCTIVE RESULTS FOUND\" + END)"
   ]
  },
  {
   "cell_type": "markdown",
   "metadata": {},
   "source": [
    "## 3.2) Conjunctive query & Ranking score"
   ]
  },
  {
   "cell_type": "markdown",
   "metadata": {},
   "source": [
    "In the new Search Engine, given a query, we want to get the top-k documents related to the query. In particular:\n",
    "\n",
    "- Find all the documents that contains all the words in the query (as before...).\n",
    "- Sort them by their similarity with the query\n",
    "- Return in output k documents, or all the documents with non-zero similarity with the query when the results are less than k. You must use a heap data structure (you can use Python libraries) for maintaining the top-k documents.\n",
    "\n",
    "To solve this task we are using *tfIdf score*, and the *Cosine similarity*."
   ]
  },
  {
   "cell_type": "markdown",
   "metadata": {},
   "source": [
    "### 3.2.1) Inverted index scored"
   ]
  },
  {
   "cell_type": "markdown",
   "metadata": {},
   "source": [
    "{\n",
    "term_id_1:[(document1, tfIdf_{term,document1}), (document2, tfIdf_{term,document2}), (document4, tfIdf_{term,document4}), ...],\n",
    "term_id_2:[(document1, tfIdf_{term,document1}), (document3, tfIdf_{term,document3}), (document5, tfIdf_{term,document5}), (document6, tfIdf_{term,document6}), ...],\n",
    "...}"
   ]
  },
  {
   "cell_type": "code",
   "execution_count": 16,
   "metadata": {},
   "outputs": [],
   "source": [
    "# Start inverted index scored\n",
    "invertedIndexScored = {}\n",
    "\n",
    "# Loop all documents and make the inverted index\n",
    "for i in range(0, nRowsOrFiles): \n",
    "    invertedIndexScored = library.invertedIndexScoredAdd(invertedIndexScored, 'doc_'+str(i), invertedIndex, nRowsOrFiles)"
   ]
  },
  {
   "cell_type": "markdown",
   "metadata": {},
   "source": [
    "Let's see the inverted index created with tf-idf score"
   ]
  },
  {
   "cell_type": "code",
   "execution_count": 17,
   "metadata": {
    "scrolled": false
   },
   "outputs": [
    {
     "name": "stdout",
     "output_type": "stream",
     "text": [
      "\u001b[1mgarden\u001b[0m => [('doc_1', 3.2670637278023134), ('doc_3', 3.2670637278023134), ('doc_63', 3.2670637278023134), ('doc_77', 3.2670637278023134), ('doc_111', 3.2670637278023134), ('doc_120', 3.2670637278023134), ('doc_127', 3.2670637278023134), ('doc_184', 6.534127455604627), ('doc_217', 6.534127455604627), ('doc_220', 3.2670637278023134)]\n",
      "\n",
      "\u001b[1mexpensive\u001b[0m => [('doc_3795', 6.8679744089702925), ('doc_3862', 6.8679744089702925), ('doc_3960', 6.8679744089702925), ('doc_4443', 6.8679744089702925), ('doc_4588', 6.8679744089702925), ('doc_6960', 6.8679744089702925), ('doc_7314', 6.8679744089702925), ('doc_7829', 6.8679744089702925), ('doc_8664', 6.8679744089702925), ('doc_8809', 6.8679744089702925)]\n",
      "\n",
      "\u001b[1mbeautiful\u001b[0m => [('doc_1', 1.6132240290586652), ('doc_7', 1.6132240290586652), ('doc_11', 1.6132240290586652), ('doc_13', 1.6132240290586652), ('doc_14', 1.6132240290586652), ('doc_21', 1.6132240290586652), ('doc_30', 1.6132240290586652), ('doc_34', 1.6132240290586652), ('doc_35', 1.6132240290586652), ('doc_51', 1.6132240290586652)]\n"
     ]
    }
   ],
   "source": [
    "# Print some(10) key and values of the inverted index scored\n",
    "print(BOLD + 'garden' + END, \"=>\", invertedIndexScored[library.cleanString('garden')][0:10])\n",
    "print(\"\")\n",
    "print(BOLD + 'expensive' + END, \"=>\", invertedIndexScored[library.cleanString('expensive')][0:10])\n",
    "print(\"\")\n",
    "print(BOLD + 'beautiful' + END, \"=>\", invertedIndexScored[library.cleanString('beautiful')][0:10])"
   ]
  },
  {
   "cell_type": "markdown",
   "metadata": {},
   "source": [
    "Writting invertedIndexScored into inverted_index_scored.txt:"
   ]
  },
  {
   "cell_type": "code",
   "execution_count": 18,
   "metadata": {},
   "outputs": [],
   "source": [
    "# Write invertedIndex to a txt file\n",
    "json.dump(invertedIndexScored, open(\"inverted_index_scored.txt\",'w'))"
   ]
  },
  {
   "cell_type": "markdown",
   "metadata": {},
   "source": [
    "Reading inverted_index_scored.txt as dictionary"
   ]
  },
  {
   "cell_type": "code",
   "execution_count": 19,
   "metadata": {},
   "outputs": [],
   "source": [
    "# Load invertedIndex from a txt file\n",
    "# Note: changes () for [] \n",
    "# invertedIndexScored = json.load(open(\"inverted_index_scored.txt\"))"
   ]
  },
  {
   "cell_type": "markdown",
   "metadata": {},
   "source": [
    "### 3.2.2) Execute the query cosine similarity"
   ]
  },
  {
   "cell_type": "markdown",
   "metadata": {},
   "source": [
    "To know which are the most similar documents according to the query we are using scoring function \"Cosine Similarity\" with respect to the tfIdf representations of the documents.\n",
    "\n",
    "Given a query, that you let the user enter: a beautiful house with garden and beach\n",
    "\n",
    "The Search Engine return a list of documents, ranked by their Cosine Similarity with respect to the query entered in input."
   ]
  },
  {
   "cell_type": "markdown",
   "metadata": {},
   "source": [
    "This is the query for the search engine:"
   ]
  },
  {
   "cell_type": "code",
   "execution_count": 24,
   "metadata": {},
   "outputs": [],
   "source": [
    "queryCos = \"beautiful house garden\""
   ]
  },
  {
   "cell_type": "markdown",
   "metadata": {},
   "source": [
    "This function looks for the conjunctive results and looks for the documents that have conjunctive match and save the doc_id"
   ]
  },
  {
   "cell_type": "code",
   "execution_count": 21,
   "metadata": {},
   "outputs": [
    {
     "name": "stdout",
     "output_type": "stream",
     "text": [
      "\u001b[1mQuery intruduced: \u001b[0ma beautiful house with garden and bedroom\n",
      "\u001b[1mCleaned query: \u001b[0mbeauti hous garden bedroom\n",
      "\u001b[1mNumber of query words:\u001b[0m 4\n",
      "\u001b[1mNumber of conjunctive matches:\u001b[0m 11\n"
     ]
    }
   ],
   "source": [
    "conjunctiveDocId = library.getListOfConjunctiveDocIds(invertedIndex, queryCos)"
   ]
  },
  {
   "cell_type": "markdown",
   "metadata": {},
   "source": [
    "If there are conjunctive matches we only compute the cosineSimilarity of the matches, if not of all the results"
   ]
  },
  {
   "cell_type": "code",
   "execution_count": 25,
   "metadata": {},
   "outputs": [],
   "source": [
    "cosSimResults = []\n",
    "\n",
    "if(len(conjunctiveDocId) != 0):\n",
    "    #CONJUNCTIVE SEARCH\n",
    "    for doc_id in conjunctiveDocId:\n",
    "        cosSimResults.append(library.cosineSimilarity(queryCos, doc_id, invertedIndexScored))\n",
    "else:\n",
    "    #NOT CONJUNCTIVE SEARCH (takes more time)\n",
    "    for i in range(0, nRowsOrFiles):\n",
    "        cosSimResults.append(library.cosineSimilarity(queryCos, \"doc_\"+str(i), invertedIndexScored))\n",
    "        \n",
    "# Order the data by cosine similarity\n",
    "sortedCosSim = sorted(cosSimResults, key=lambda kv: -kv[1])"
   ]
  },
  {
   "cell_type": "markdown",
   "metadata": {},
   "source": [
    "After that, we look for the data to create a dataframe and show the results of the search:"
   ]
  },
  {
   "cell_type": "code",
   "execution_count": 23,
   "metadata": {},
   "outputs": [
    {
     "name": "stdout",
     "output_type": "stream",
     "text": [
      "\u001b[1mCONJUNCTIVE RESULTS\u001b[0m\n"
     ]
    },
    {
     "data": {
      "text/html": [
       "<div>\n",
       "<style scoped>\n",
       "    .dataframe tbody tr th:only-of-type {\n",
       "        vertical-align: middle;\n",
       "    }\n",
       "\n",
       "    .dataframe tbody tr th {\n",
       "        vertical-align: top;\n",
       "    }\n",
       "\n",
       "    .dataframe thead th {\n",
       "        text-align: right;\n",
       "    }\n",
       "</style>\n",
       "<table border=\"1\" class=\"dataframe\">\n",
       "  <thead>\n",
       "    <tr style=\"text-align: right;\">\n",
       "      <th></th>\n",
       "      <th>title</th>\n",
       "      <th>description</th>\n",
       "      <th>city</th>\n",
       "      <th>url</th>\n",
       "      <th>similarity</th>\n",
       "    </tr>\n",
       "  </thead>\n",
       "  <tbody>\n",
       "    <tr>\n",
       "      <th>0</th>\n",
       "      <td>Home Away from Home in Spring, TX</td>\n",
       "      <td>Beautiful 2100 sq. ft house! Three bedroom and...</td>\n",
       "      <td>Spring</td>\n",
       "      <td>https://www.airbnb.com/rooms/1521227?location=...</td>\n",
       "      <td>0.649920</td>\n",
       "    </tr>\n",
       "    <tr>\n",
       "      <th>1</th>\n",
       "      <td>New!3BR Fort Worth House near AT&amp;T Stadium w/ ...</td>\n",
       "      <td>Explore the City of Cowboys and Culture from t...</td>\n",
       "      <td>Fort Worth</td>\n",
       "      <td>https://www.airbnb.com/rooms/19193017?location...</td>\n",
       "      <td>0.456917</td>\n",
       "    </tr>\n",
       "    <tr>\n",
       "      <th>2</th>\n",
       "      <td>New!3BR Fort Worth House near AT&amp;T Stadium w/ ...</td>\n",
       "      <td>Explore the City of Cowboys and Culture from t...</td>\n",
       "      <td>Fort Worth</td>\n",
       "      <td>https://www.airbnb.com/rooms/19193017?location...</td>\n",
       "      <td>0.456917</td>\n",
       "    </tr>\n",
       "    <tr>\n",
       "      <th>3</th>\n",
       "      <td>Rooms at Rehoboth</td>\n",
       "      <td>Step back into yesterday in this old Victorian...</td>\n",
       "      <td>Temple</td>\n",
       "      <td>https://www.airbnb.com/rooms/18055961?location...</td>\n",
       "      <td>0.430124</td>\n",
       "    </tr>\n",
       "    <tr>\n",
       "      <th>4</th>\n",
       "      <td>Rooms at Rehoboth</td>\n",
       "      <td>Step back into yesterday in this old Victorian...</td>\n",
       "      <td>Temple</td>\n",
       "      <td>https://www.airbnb.com/rooms/18055961?location...</td>\n",
       "      <td>0.430124</td>\n",
       "    </tr>\n",
       "    <tr>\n",
       "      <th>5</th>\n",
       "      <td>Beautiful king bedroom in NW Austin</td>\n",
       "      <td>My house is close to Lakeline Mall, highways a...</td>\n",
       "      <td>Austin</td>\n",
       "      <td>https://www.airbnb.com/rooms/15162593?location...</td>\n",
       "      <td>0.426802</td>\n",
       "    </tr>\n",
       "    <tr>\n",
       "      <th>6</th>\n",
       "      <td>Beautiful queen bedroom in NW Austin</td>\n",
       "      <td>My house is close to Lakeline Mall, highways a...</td>\n",
       "      <td>Austin</td>\n",
       "      <td>https://www.airbnb.com/rooms/16755710?location...</td>\n",
       "      <td>0.426802</td>\n",
       "    </tr>\n",
       "    <tr>\n",
       "      <th>7</th>\n",
       "      <td>Unique Location! Alamo Heights - Designer Insp...</td>\n",
       "      <td>Stylish, fully remodeled home in upscale NW – ...</td>\n",
       "      <td>San Antonio</td>\n",
       "      <td>https://www.airbnb.com/rooms/17481455?location...</td>\n",
       "      <td>0.364744</td>\n",
       "    </tr>\n",
       "    <tr>\n",
       "      <th>8</th>\n",
       "      <td>Unique Location! Alamo Heights - Designer Insp...</td>\n",
       "      <td>Stylish, fully remodeled home in upscale NW – ...</td>\n",
       "      <td>San Antonio</td>\n",
       "      <td>https://www.airbnb.com/rooms/17481455?location...</td>\n",
       "      <td>0.364744</td>\n",
       "    </tr>\n",
       "    <tr>\n",
       "      <th>9</th>\n",
       "      <td>Unique Location! Alamo Heights - Designer Insp...</td>\n",
       "      <td>Stylish, fully remodeled home in upscale NW – ...</td>\n",
       "      <td>San Antonio</td>\n",
       "      <td>https://www.airbnb.com/rooms/17481455?location...</td>\n",
       "      <td>0.364744</td>\n",
       "    </tr>\n",
       "    <tr>\n",
       "      <th>10</th>\n",
       "      <td>Garden Bedroom</td>\n",
       "      <td>Comfortable and private, the garden bedroom is...</td>\n",
       "      <td>Austin</td>\n",
       "      <td>https://www.airbnb.com/rooms/5096161?location=...</td>\n",
       "      <td>0.332585</td>\n",
       "    </tr>\n",
       "  </tbody>\n",
       "</table>\n",
       "</div>"
      ],
      "text/plain": [
       "                                                title  \\\n",
       "0                   Home Away from Home in Spring, TX   \n",
       "1   New!3BR Fort Worth House near AT&T Stadium w/ ...   \n",
       "2   New!3BR Fort Worth House near AT&T Stadium w/ ...   \n",
       "3                                   Rooms at Rehoboth   \n",
       "4                                   Rooms at Rehoboth   \n",
       "5                 Beautiful king bedroom in NW Austin   \n",
       "6                Beautiful queen bedroom in NW Austin   \n",
       "7   Unique Location! Alamo Heights - Designer Insp...   \n",
       "8   Unique Location! Alamo Heights - Designer Insp...   \n",
       "9   Unique Location! Alamo Heights - Designer Insp...   \n",
       "10                                     Garden Bedroom   \n",
       "\n",
       "                                          description         city  \\\n",
       "0   Beautiful 2100 sq. ft house! Three bedroom and...       Spring   \n",
       "1   Explore the City of Cowboys and Culture from t...   Fort Worth   \n",
       "2   Explore the City of Cowboys and Culture from t...   Fort Worth   \n",
       "3   Step back into yesterday in this old Victorian...       Temple   \n",
       "4   Step back into yesterday in this old Victorian...       Temple   \n",
       "5   My house is close to Lakeline Mall, highways a...       Austin   \n",
       "6   My house is close to Lakeline Mall, highways a...       Austin   \n",
       "7   Stylish, fully remodeled home in upscale NW – ...  San Antonio   \n",
       "8   Stylish, fully remodeled home in upscale NW – ...  San Antonio   \n",
       "9   Stylish, fully remodeled home in upscale NW – ...  San Antonio   \n",
       "10  Comfortable and private, the garden bedroom is...       Austin   \n",
       "\n",
       "                                                  url  similarity  \n",
       "0   https://www.airbnb.com/rooms/1521227?location=...    0.649920  \n",
       "1   https://www.airbnb.com/rooms/19193017?location...    0.456917  \n",
       "2   https://www.airbnb.com/rooms/19193017?location...    0.456917  \n",
       "3   https://www.airbnb.com/rooms/18055961?location...    0.430124  \n",
       "4   https://www.airbnb.com/rooms/18055961?location...    0.430124  \n",
       "5   https://www.airbnb.com/rooms/15162593?location...    0.426802  \n",
       "6   https://www.airbnb.com/rooms/16755710?location...    0.426802  \n",
       "7   https://www.airbnb.com/rooms/17481455?location...    0.364744  \n",
       "8   https://www.airbnb.com/rooms/17481455?location...    0.364744  \n",
       "9   https://www.airbnb.com/rooms/17481455?location...    0.364744  \n",
       "10  https://www.airbnb.com/rooms/5096161?location=...    0.332585  "
      ]
     },
     "metadata": {},
     "output_type": "display_data"
    }
   ],
   "source": [
    "# List of pandas df\n",
    "dfs_cos = []\n",
    "# Loop through all the sorted results and add similarity and conjunctive_match info to a df\n",
    "for i in range(0, len(sortedCosSim)):\n",
    "    if sortedCosSim[i][1] > 0:\n",
    "        doc_test = pd.read_csv('documents/'+sortedCosSim[i][0]+'.tsv', sep='\\t', encoding='utf-8', usecols=['title', 'description', 'city', 'url'])\n",
    "        doc_test[\"similarity\"] = sortedCosSim[i][1]\n",
    "        dfs_cos.append(doc_test)\n",
    "        \n",
    "# Print if they are conjunctive results or not\n",
    "if(len(conjunctiveDocId) != 0):\n",
    "    print(BOLD + \"CONJUNCTIVE RESULTS\" + END)\n",
    "elif(len(conjunctiveDocId) != 0):\n",
    "    print(BOLD + \"NOT CONJUNCTIVE RESULTS\" + END)\n",
    "    \n",
    "# Concat all dataframes into one to show the results        \n",
    "if(len(dfs_cos) != 0):\n",
    "    # Concatenate all data into one DataFrame\n",
    "    big_frame = pd.concat(dfs_cos, ignore_index=True)\n",
    "    # Reorder columns \n",
    "    df = big_frame.loc[:, ['title', 'description', 'city', 'url', 'similarity']]\n",
    "    # Display dataframe result of the query\n",
    "    display(df)\n",
    "else:\n",
    "    print(\"NO RESULTS\")\n",
    "    "
   ]
  },
  {
   "cell_type": "code",
   "execution_count": null,
   "metadata": {},
   "outputs": [],
   "source": []
  }
 ],
 "metadata": {
  "kernelspec": {
   "display_name": "Python 3",
   "language": "python",
   "name": "python3"
  },
  "language_info": {
   "codemirror_mode": {
    "name": "ipython",
    "version": 3
   },
   "file_extension": ".py",
   "mimetype": "text/x-python",
   "name": "python",
   "nbconvert_exporter": "python",
   "pygments_lexer": "ipython3",
   "version": "3.6.5"
  }
 },
 "nbformat": 4,
 "nbformat_minor": 2
}
