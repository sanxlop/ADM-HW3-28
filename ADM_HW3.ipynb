{
 "cells": [
  {
   "cell_type": "code",
   "execution_count": 1,
   "metadata": {},
   "outputs": [
    {
     "name": "stdout",
     "output_type": "stream",
     "text": [
      "[nltk_data] Downloading package stopwords to\n",
      "[nltk_data]     /Users/yousefabbar/nltk_data...\n",
      "[nltk_data]   Package stopwords is already up-to-date!\n"
     ]
    }
   ],
   "source": [
    "import pandas as pd\n",
    "from nltk.corpus import stopwords\n",
    "import nltk\n",
    "nltk.download('stopwords')\n",
    "import os\n",
    "import glob\n",
    "import io\n",
    "from nltk.tokenize import word_tokenize\n",
    "from nltk.stem import PorterStemmer\n",
    "from nltk.stem import LancasterStemmer\n",
    "# To print results\n",
    "BOLD = '\\033[1m'\n",
    "END = '\\033[0m'"
   ]
  },
  {
   "cell_type": "code",
   "execution_count": 2,
   "metadata": {},
   "outputs": [],
   "source": [
    "#List of column values needed\n",
    "cols = ['average_rate_per_night', 'bedrooms_count', 'city', 'date_of_listing', 'description', 'latitude', 'longitude', 'title', 'url']\n",
    "#Read the csv file\n",
    "result = pd.read_csv('Data/Airbnb_Texas_Rentals.csv', sep=',', encoding='utf-8', usecols=cols)\n"
   ]
  },
  {
   "cell_type": "code",
   "execution_count": 3,
   "metadata": {},
   "outputs": [],
   "source": [
    "for i in range(0,len(result)): #len(result)\n",
    "      result.loc[i:i,].to_csv('Data/Documents/doc_'+str(i)+'.tsv', sep='\\t', encoding='utf-8', index = False)\n"
   ]
  },
  {
   "cell_type": "code",
   "execution_count": 4,
   "metadata": {},
   "outputs": [
    {
     "data": {
      "text/html": [
       "<div>\n",
       "<style scoped>\n",
       "    .dataframe tbody tr th:only-of-type {\n",
       "        vertical-align: middle;\n",
       "    }\n",
       "\n",
       "    .dataframe tbody tr th {\n",
       "        vertical-align: top;\n",
       "    }\n",
       "\n",
       "    .dataframe thead th {\n",
       "        text-align: right;\n",
       "    }\n",
       "</style>\n",
       "<table border=\"1\" class=\"dataframe\">\n",
       "  <thead>\n",
       "    <tr style=\"text-align: right;\">\n",
       "      <th></th>\n",
       "      <th>average_rate_per_night</th>\n",
       "      <th>bedrooms_count</th>\n",
       "      <th>city</th>\n",
       "      <th>date_of_listing</th>\n",
       "      <th>description</th>\n",
       "      <th>latitude</th>\n",
       "      <th>longitude</th>\n",
       "      <th>title</th>\n",
       "      <th>url</th>\n",
       "    </tr>\n",
       "  </thead>\n",
       "  <tbody>\n",
       "    <tr>\n",
       "      <th>0</th>\n",
       "      <td>$72</td>\n",
       "      <td>Studio</td>\n",
       "      <td>San Antonio</td>\n",
       "      <td>August 2013</td>\n",
       "      <td>Private entrance to your own \\</td>\n",
       "      <td>29.480646</td>\n",
       "      <td>-98.495692</td>\n",
       "      <td>Cozy Historic Private Studio</td>\n",
       "      <td>https://www.airbnb.com/rooms/1588127?location=...</td>\n",
       "    </tr>\n",
       "  </tbody>\n",
       "</table>\n",
       "</div>"
      ],
      "text/plain": [
       "  average_rate_per_night bedrooms_count         city date_of_listing  \\\n",
       "0                    $72         Studio  San Antonio     August 2013   \n",
       "\n",
       "                      description   latitude  longitude  \\\n",
       "0  Private entrance to your own \\  29.480646 -98.495692   \n",
       "\n",
       "                          title  \\\n",
       "0  Cozy Historic Private Studio   \n",
       "\n",
       "                                                 url  \n",
       "0  https://www.airbnb.com/rooms/1588127?location=...  "
      ]
     },
     "execution_count": 4,
     "metadata": {},
     "output_type": "execute_result"
    }
   ],
   "source": [
    "#Read the tsv file\n",
    "pd.read_csv('Data/Documents/doc_9.tsv', sep='\\t', encoding='utf-8', index_col = False)"
   ]
  },
  {
   "cell_type": "code",
   "execution_count": null,
   "metadata": {},
   "outputs": [],
   "source": [
    "stop_words = set(stopwords.words('english'))\n",
    "stemmer = PorterStemmer() #problem from HERE\n",
    "for afile in range(len(\"Data/Documents/*.tsv\")):\n",
    "    file1 = open(afile)\n",
    "    line = file1.read()\n",
    "    line = stemmer.stem(\"line\")\n",
    "    words = word_tokenize(line)\n",
    "    words_.n,mwithout_stop_words = [\"\" if word in stop_words else word for word in words]\n",
    "    new_words = \" \".join(words_without_stop_words).strip()\n",
    "    appendFile = open(\"Data/CleanedData/doc_\"+str(afile)+\".tsv\", 'a',  encoding=\"utf-8\")\n",
    "    appendFile.write(new_words)\n",
    "    appendFile.close()"
   ]
  },
  {
   "cell_type": "code",
   "execution_count": null,
   "metadata": {},
   "outputs": [],
   "source": [
    "def inverted_index(text):\n",
    "    \"\"\"\n",
    "    Create an Inverted-Index of the specified text document.\n",
    "        {word:[locations]}\n",
    "    \"\"\"\n",
    "    inverted = {}\n",
    "\n",
    "    for index, word in word_index(text):\n",
    "        locations = inverted.setdefault(word, [])\n",
    "        locations.append(index)\n",
    "\n",
    "    return inverted\n"
   ]
  },
  {
   "cell_type": "code",
   "execution_count": null,
   "metadata": {},
   "outputs": [],
   "source": [
    "def inverted_index_add(inverted, doc_id, doc_index):\n",
    "    \"\"\"\n",
    "    Add Invertd-Index doc_index of the document doc_id to the \n",
    "    Multi-Document Inverted-Index (inverted), \n",
    "    using doc_id as document identifier.\n",
    "        {word:{doc_id:[locations]}}\n",
    "    \"\"\"\n",
    "    for word, locations in doc_index.iteritems():\n",
    "        indices = inverted.setdefault(word, {})\n",
    "        indices[doc_id] = locations\n",
    "    return inverted\n"
   ]
  },
  {
   "cell_type": "code",
   "execution_count": null,
   "metadata": {},
   "outputs": [],
   "source": []
  }
 ],
 "metadata": {
  "kernelspec": {
   "display_name": "Python 3",
   "language": "python",
   "name": "python3"
  },
  "language_info": {
   "codemirror_mode": {
    "name": "ipython",
    "version": 3
   },
   "file_extension": ".py",
   "mimetype": "text/x-python",
   "name": "python",
   "nbconvert_exporter": "python",
   "pygments_lexer": "ipython3",
   "version": "3.7.0"
  }
 },
 "nbformat": 4,
 "nbformat_minor": 2
}
